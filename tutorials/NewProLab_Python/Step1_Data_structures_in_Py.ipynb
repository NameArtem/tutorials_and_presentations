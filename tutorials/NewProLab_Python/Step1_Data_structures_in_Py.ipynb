{
 "cells": [
  {
   "cell_type": "markdown",
   "metadata": {},
   "source": [
    "<div align=\"center\"><h1 align=\"cente\"> Data Structures</h1></div>\n",
    "<img src=\"img/dataStructures.png\"/>"
   ]
  },
  {
   "cell_type": "markdown",
   "metadata": {},
   "source": [
    "### List"
   ]
  },
  {
   "cell_type": "code",
   "execution_count": null,
   "metadata": {},
   "outputs": [],
   "source": [
    "words=['One','Another','Summer']\n",
    "words"
   ]
  },
  {
   "cell_type": "code",
   "execution_count": null,
   "metadata": {},
   "outputs": [],
   "source": [
    "# независим от типа данных\n",
    "mutList=[1, [2,3], (4,5), False, 'No']\n",
    "\n",
    "# содержит в себе = int, list, tuple, boolean, str\n",
    "mutList"
   ]
  },
  {
   "cell_type": "code",
   "execution_count": null,
   "metadata": {},
   "outputs": [],
   "source": [
    "# доступ к элементам по индексу\n",
    "# от 0 => N\n",
    "mutList[2]"
   ]
  },
  {
   "cell_type": "code",
   "execution_count": null,
   "metadata": {},
   "outputs": [],
   "source": [
    "# от len(list) => 0\n",
    "mutList[-2]"
   ]
  },
  {
   "cell_type": "code",
   "execution_count": null,
   "metadata": {},
   "outputs": [],
   "source": [
    "# данная структура очень динамична и доступна к изменениям\n",
    "mutList[-2] = {'d': 'Now we set a dictionary'}\n",
    "mutList"
   ]
  },
  {
   "cell_type": "code",
   "execution_count": null,
   "metadata": {},
   "outputs": [],
   "source": [
    "# и к удалениям\n",
    "del mutList[:2]\n",
    "mutList"
   ]
  },
  {
   "cell_type": "code",
   "execution_count": null,
   "metadata": {},
   "outputs": [],
   "source": [
    "# опрос о существовании элементов\n",
    "'No' in mutList"
   ]
  },
  {
   "cell_type": "code",
   "execution_count": null,
   "metadata": {},
   "outputs": [],
   "source": [
    "# основа для list comprehension\n",
    "# логика условий == логика условий в lambda (TRUE if CONDITION else FALSE)\n",
    "listOfStr = [i for i in mutList if type(i) == str]\n",
    "listOfStr"
   ]
  },
  {
   "cell_type": "code",
   "execution_count": null,
   "metadata": {},
   "outputs": [],
   "source": [
    "listOfStr = [i if type(i) == str else mutList.index(i) for i in mutList]\n",
    "listOfStr"
   ]
  },
  {
   "cell_type": "code",
   "execution_count": null,
   "metadata": {},
   "outputs": [],
   "source": [
    "# встроеные функцию и доступ к ним\n",
    "# len\n",
    "# max / min\n",
    "# sum\n",
    "# sorted\n",
    "# list\n",
    "# any / all\n",
    "len(listOfStr)"
   ]
  },
  {
   "cell_type": "code",
   "execution_count": null,
   "metadata": {},
   "outputs": [],
   "source": [
    "listOfStr.__len__()"
   ]
  },
  {
   "cell_type": "code",
   "execution_count": null,
   "metadata": {},
   "outputs": [],
   "source": [
    "# проверка на существование элементов в списке\n",
    "any(listOfStr)"
   ]
  },
  {
   "cell_type": "code",
   "execution_count": null,
   "metadata": {},
   "outputs": [],
   "source": [
    "all(listOfStr)\n",
    "# так как 0 == False => все элементы != True"
   ]
  },
  {
   "cell_type": "code",
   "execution_count": null,
   "metadata": {},
   "outputs": [],
   "source": [
    "# встроенные методы\n",
    "# append\n",
    "# clear\n",
    "# insert\n",
    "# index\n",
    "# remove\n",
    "# pop\n",
    "# sort\n",
    "# count\n",
    "# reverse\n",
    "\n",
    "# функция\n",
    "tmp = [5,6,7,4,10]\n",
    "sorted(tmp)\n",
    "#tmp = sorted(tmp)\n",
    "print('Пример функции - ', tmp)\n",
    "\n",
    "#метод\n",
    "tmp = [5,6,7,4,10]\n",
    "tmp.sort()\n",
    "print('Пример метода - ', tmp)"
   ]
  },
  {
   "cell_type": "markdown",
   "metadata": {},
   "source": [
    "### Tuple"
   ]
  },
  {
   "cell_type": "code",
   "execution_count": null,
   "metadata": {},
   "outputs": [],
   "source": [
    "# доступ по индексу / индексам такой же, как у List\n",
    "words=('One','Another','Summer')\n",
    "words"
   ]
  },
  {
   "cell_type": "code",
   "execution_count": null,
   "metadata": {},
   "outputs": [],
   "source": [
    "# отличная структура с возможность упаковки значений\n",
    "same_words = 'One','Another','Summer'\n",
    "same_words"
   ]
  },
  {
   "cell_type": "code",
   "execution_count": null,
   "metadata": {},
   "outputs": [],
   "source": [
    "# и распаковки\n",
    "digit, sn, part_of_year = same_words\n",
    "print(digit)\n",
    "print(sn)\n",
    "print(part_of_year)"
   ]
  },
  {
   "cell_type": "code",
   "execution_count": null,
   "metadata": {},
   "outputs": [],
   "source": [
    "# !будем внимательны при создании данной структуры!\n",
    "\n",
    "l = [1]\n",
    "print('Method 1 - ', type(l))\n",
    "\n",
    "l = (1)\n",
    "print('Method 2 - ', type(l))\n",
    "\n",
    "l = (1,)\n",
    "print('Method 3 - ', type(l))"
   ]
  },
  {
   "cell_type": "code",
   "execution_count": null,
   "metadata": {},
   "outputs": [],
   "source": [
    "# нет возможности изменения элементов\n",
    "same_words[2] = 'Winter'"
   ]
  },
  {
   "cell_type": "code",
   "execution_count": null,
   "metadata": {},
   "outputs": [],
   "source": [
    "exm=(1,[4,5])\n",
    "type(exm)"
   ]
  },
  {
   "cell_type": "code",
   "execution_count": null,
   "metadata": {},
   "outputs": [],
   "source": [
    "# нет возможности заменить элемент\n",
    "exm[1] = 1"
   ]
  },
  {
   "cell_type": "code",
   "execution_count": null,
   "metadata": {},
   "outputs": [],
   "source": [
    "# но мы можем делать изменения внутри него\n",
    "exm[1][1] = 1\n",
    "exm"
   ]
  },
  {
   "cell_type": "code",
   "execution_count": null,
   "metadata": {},
   "outputs": [],
   "source": [
    "# встроеные функцию\n",
    "# len\n",
    "# max / min\n",
    "# sum\n",
    "# sorted\n",
    "# list\n",
    "# any / all"
   ]
  },
  {
   "cell_type": "code",
   "execution_count": null,
   "metadata": {},
   "outputs": [],
   "source": [
    "# встроенные методы\n",
    "# index\n",
    "# count"
   ]
  },
  {
   "cell_type": "markdown",
   "metadata": {},
   "source": [
    "### List & Tuple (logical opportunity)"
   ]
  },
  {
   "cell_type": "code",
   "execution_count": null,
   "metadata": {},
   "outputs": [],
   "source": [
    "assert([1,2, True] == [1,2, True])\n",
    "assert((1,2, True) == (1,2, True))\n",
    "assert([1,2] < [2,3])\n",
    "#assert((1,2) > (2,3))\n",
    "#assert([1,2, True] == (1,2, True))"
   ]
  },
  {
   "cell_type": "code",
   "execution_count": null,
   "metadata": {},
   "outputs": [],
   "source": [
    "# но схожесть - по содержанию\n",
    "# проверку на схожесть в памяти не проходит\n",
    "a=(1,2)\n",
    "b = (1,2)\n",
    "b is a"
   ]
  },
  {
   "cell_type": "code",
   "execution_count": null,
   "metadata": {},
   "outputs": [],
   "source": [
    "#но cхожи по содержанию\n",
    "assert(a == b)\n",
    "assert(a.__eq__(b))"
   ]
  },
  {
   "cell_type": "code",
   "execution_count": null,
   "metadata": {},
   "outputs": [],
   "source": [
    "# !но учтем, что можно привести к ссылке друг на друга\n",
    "tuple(a) is a"
   ]
  },
  {
   "cell_type": "markdown",
   "metadata": {},
   "source": [
    "### Set"
   ]
  },
  {
   "cell_type": "markdown",
   "metadata": {},
   "source": [
    "<img src=\"img/set.png\"/>"
   ]
  },
  {
   "cell_type": "code",
   "execution_count": null,
   "metadata": {},
   "outputs": [],
   "source": [
    "# набор данных\n",
    "# нет дубликатов, можно вычислять набор из набора \n",
    "# включает возможности списка\n",
    "names = {'Artem', 'Vlad', 'Ekaterina', 'Anna'}\n",
    "bags = {'Lv', 'Gucci', 'MKors', 'Vlad'}"
   ]
  },
  {
   "cell_type": "code",
   "execution_count": null,
   "metadata": {},
   "outputs": [],
   "source": [
    "# убрать имя из списка \"сумок\"\n",
    "bags - names"
   ]
  },
  {
   "cell_type": "code",
   "execution_count": null,
   "metadata": {},
   "outputs": [],
   "source": [
    "# или совершить ошибку\n",
    "names - bags"
   ]
  },
  {
   "cell_type": "code",
   "execution_count": null,
   "metadata": {},
   "outputs": [],
   "source": [
    "# операции над set\n",
    "# union\n",
    "names | bags == names.union(bags)\n",
    "names | bags"
   ]
  },
  {
   "cell_type": "code",
   "execution_count": null,
   "metadata": {},
   "outputs": [],
   "source": [
    "# intersection \n",
    "names & bags == names.intersection(bags)\n",
    "names & bags"
   ]
  },
  {
   "cell_type": "code",
   "execution_count": null,
   "metadata": {},
   "outputs": [],
   "source": [
    "# difference\n",
    "names - bags == names.difference(bags)\n",
    "names - bags"
   ]
  },
  {
   "cell_type": "code",
   "execution_count": null,
   "metadata": {},
   "outputs": [],
   "source": [
    "# simmetrics difference\n",
    "names ^ bags == names.symmetric_difference(bags)\n",
    "names ^ bags"
   ]
  },
  {
   "cell_type": "code",
   "execution_count": null,
   "metadata": {},
   "outputs": [],
   "source": [
    "# list и tuple могут сать set\n",
    "l = [1,2,3,2,3]\n",
    "t = (1,2,3,2,3)\n",
    "l = set(l)\n",
    "t = set(t)"
   ]
  },
  {
   "cell_type": "code",
   "execution_count": null,
   "metadata": {},
   "outputs": [],
   "source": [
    "l"
   ]
  },
  {
   "cell_type": "code",
   "execution_count": null,
   "metadata": {},
   "outputs": [],
   "source": [
    "t"
   ]
  },
  {
   "cell_type": "code",
   "execution_count": null,
   "metadata": {},
   "outputs": [],
   "source": [
    "# но словаь не может\n",
    "d = {d: 1, a: 1}\n",
    "d = set(d)"
   ]
  },
  {
   "cell_type": "markdown",
   "metadata": {},
   "source": [
    "### Dict"
   ]
  },
  {
   "cell_type": "markdown",
   "metadata": {},
   "source": [
    "<img src=\"img/dict2.png\"/>"
   ]
  },
  {
   "cell_type": "code",
   "execution_count": null,
   "metadata": {},
   "outputs": [],
   "source": [
    "# init словоря\n",
    "# любые типы данных для ключа и для значения\n",
    "d = {'key': 'value', 1: 'True', False: 0, 100:'001', 5: 25}\n",
    "d"
   ]
  },
  {
   "cell_type": "markdown",
   "metadata": {},
   "source": [
    "<img src=\"img/dict1.png\"/>"
   ]
  },
  {
   "cell_type": "code",
   "execution_count": null,
   "metadata": {},
   "outputs": [],
   "source": [
    "# подерживает обращения к элементам\n",
    "d.items()"
   ]
  },
  {
   "cell_type": "code",
   "execution_count": null,
   "metadata": {},
   "outputs": [],
   "source": [
    "d.keys()"
   ]
  },
  {
   "cell_type": "code",
   "execution_count": null,
   "metadata": {},
   "outputs": [],
   "source": [
    "d.values()"
   ]
  },
  {
   "cell_type": "code",
   "execution_count": null,
   "metadata": {},
   "outputs": [],
   "source": [
    "# подерживает работу списка\n",
    "import operator\n",
    "\n",
    "x = {1: 2, 3: 4, 4: 3, 2: 1, 50: 0}\n",
    "# по значению\n",
    "sorted(x.items(), key=operator.itemgetter(1))"
   ]
  },
  {
   "cell_type": "code",
   "execution_count": null,
   "metadata": {},
   "outputs": [],
   "source": [
    "# по ключу\n",
    "sorted(x.items(), key=operator.itemgetter(0))"
   ]
  },
  {
   "cell_type": "code",
   "execution_count": null,
   "metadata": {},
   "outputs": [],
   "source": [
    "# без библиотек, но с lambda\n",
    "sorted(x.items(), key=lambda y: y[1])"
   ]
  },
  {
   "cell_type": "code",
   "execution_count": null,
   "metadata": {},
   "outputs": [],
   "source": [
    "# добавтьб данные\n",
    "d['new_key'] = 'new_value'\n",
    "d"
   ]
  },
  {
   "cell_type": "code",
   "execution_count": null,
   "metadata": {},
   "outputs": [],
   "source": [
    "# получить\n",
    "d['key']"
   ]
  },
  {
   "cell_type": "code",
   "execution_count": null,
   "metadata": {},
   "outputs": [],
   "source": [
    "d.get('key')"
   ]
  },
  {
   "cell_type": "code",
   "execution_count": null,
   "metadata": {},
   "outputs": [],
   "source": [
    "# возможно словарь может вам что-то напомнить\n",
    "person ={'person': \n",
    "                 {\n",
    "                  'body': {\n",
    "                          'gender': 'female',\n",
    "                          'head': {'hair':'black'},\n",
    "                          'skin':'coffee with milk'\n",
    "                          },\n",
    "                  'identity':{\n",
    "                          'county': 'Rus',\n",
    "                          'prof': 'manager'\n",
    "                  }\n",
    "                 }\n",
    "            }\n",
    "person"
   ]
  },
  {
   "cell_type": "code",
   "execution_count": null,
   "metadata": {},
   "outputs": [],
   "source": [
    "person['person']['body']['gender']"
   ]
  }
 ],
 "metadata": {
  "kernelspec": {
   "display_name": "Python 3",
   "language": "python",
   "name": "python3"
  },
  "language_info": {
   "codemirror_mode": {
    "name": "ipython",
    "version": 3
   },
   "file_extension": ".py",
   "mimetype": "text/x-python",
   "name": "python",
   "nbconvert_exporter": "python",
   "pygments_lexer": "ipython3",
   "version": "3.7.3"
  }
 },
 "nbformat": 4,
 "nbformat_minor": 2
}

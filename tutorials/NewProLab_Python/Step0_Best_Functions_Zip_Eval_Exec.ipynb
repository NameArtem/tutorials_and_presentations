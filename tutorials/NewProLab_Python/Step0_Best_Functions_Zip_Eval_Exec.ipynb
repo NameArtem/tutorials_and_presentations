{
 "cells": [
  {
   "cell_type": "markdown",
   "metadata": {},
   "source": [
    "### Zip"
   ]
  },
  {
   "cell_type": "code",
   "execution_count": null,
   "metadata": {},
   "outputs": [],
   "source": [
    "# функция zip позволяет \"сливать\" интерируемые объекты в один объект\n",
    "# принимает iter => возвращает итератор (из кортежей)\n",
    "\n",
    "\n",
    "for i in zip([1, 2, 3, 4, 5], ['News', 'Film', 'Messages', 'Papers,' 'Music']):\n",
    "    print(i)"
   ]
  },
  {
   "cell_type": "code",
   "execution_count": null,
   "metadata": {},
   "outputs": [],
   "source": [
    "# это итератор (из него надо получить данные)\n",
    "zip([1, 2, 3, 4, 5], ['News', 'Film', 'Messages', 'Papers,' 'Music'])"
   ]
  },
  {
   "cell_type": "code",
   "execution_count": null,
   "metadata": {},
   "outputs": [],
   "source": [
    "# преобразовываем в список и др. (или проходом через цикл, либо методом .__next__())\n",
    "list(zip([1, 2, 3, 4, 5], ['News', 'Film', 'Messages', 'Papers,' 'Music']))"
   ]
  },
  {
   "cell_type": "code",
   "execution_count": null,
   "metadata": {},
   "outputs": [],
   "source": [
    "zip([1, 2, 3, 4, 5], ['News', 'Film', 'Messages', 'Papers,' 'Music']).__next__()"
   ]
  },
  {
   "cell_type": "code",
   "execution_count": null,
   "metadata": {},
   "outputs": [],
   "source": [
    "# количество объектов в zip не ограничено\n",
    "# но слияние по кол-во элементов самого короткого элемента \n",
    "\n",
    "list(zip([1, 2, 3, 4, 5], ['News', 'Film', 'Messages', 'Papers,' 'Music'], [529, 924]))"
   ]
  },
  {
   "cell_type": "code",
   "execution_count": null,
   "metadata": {},
   "outputs": [],
   "source": [
    "# но вы желаете иметь все элементы, тогда нужно спользовать другой zip\n",
    "# он есть в itertools\n",
    "from itertools import zip_longest\n",
    "\n",
    "list(zip_longest([1, 2, 3, 4, 5], ['News', 'Film', 'Messages', 'Papers,' 'Music'], [529, 924]))"
   ]
  },
  {
   "cell_type": "code",
   "execution_count": null,
   "metadata": {},
   "outputs": [],
   "source": [
    "# возврат элементов из zip\n",
    "zipped_list = list(zip_longest([1, 2, 3, 4, 5], ['News', 'Film', 'Messages', 'Papers,' 'Music'], [529, 924]))\n",
    "list(zip(*zipped_list))"
   ]
  },
  {
   "cell_type": "markdown",
   "metadata": {},
   "source": [
    "### Eval"
   ]
  },
  {
   "cell_type": "code",
   "execution_count": null,
   "metadata": {},
   "outputs": [],
   "source": [
    "# функция принимающая строку и выполняющая код в этой строке\n",
    "# eval(любое выражение / функция / часть кода, globals = None, locals = None)\n",
    "\n",
    "eval('2+2')"
   ]
  },
  {
   "cell_type": "code",
   "execution_count": null,
   "metadata": {},
   "outputs": [],
   "source": [
    "# выполним условие (если if else в строку => True if Condition else False)\n",
    "x = 11\n",
    "eval('print(\"Больше чем 10\") if x > 10 else print(\"Меньше 10\")')"
   ]
  },
  {
   "cell_type": "code",
   "execution_count": null,
   "metadata": {},
   "outputs": [],
   "source": [
    "# позволяет запускать из строки функции и код\n",
    "\n",
    "def inverse(val):\n",
    "    if type(val) == bool:\n",
    "        return not val\n",
    "    else:\n",
    "        raise Exception\n",
    "        \n",
    "eval('inverse(True)')"
   ]
  },
  {
   "cell_type": "markdown",
   "metadata": {},
   "source": [
    "### Exec"
   ]
  },
  {
   "cell_type": "code",
   "execution_count": null,
   "metadata": {},
   "outputs": [],
   "source": [
    "# функция принимает строку и преобразует её в код\n",
    "# в отличии от EVAL не возвращает значение \n",
    "# exec(source, globals=None, locals=None)\n",
    "\n",
    "exec('inverse(True)')"
   ]
  },
  {
   "cell_type": "code",
   "execution_count": null,
   "metadata": {},
   "outputs": [],
   "source": [
    "# но так же выполняет код\n",
    "x = 11\n",
    "exec('print(\"Больше чем 10\") if x > 10 else print(\"Меньше 10\")')"
   ]
  },
  {
   "cell_type": "code",
   "execution_count": null,
   "metadata": {},
   "outputs": [],
   "source": [
    "# основное отличе: НЕТ возвращения данных (если в передаваемой функции нет print)\n",
    "print(eval('2+2'), exec('2+2'))"
   ]
  },
  {
   "cell_type": "markdown",
   "metadata": {},
   "source": [
    "#### Будьте аккуратны с EXEC / EVAL! "
   ]
  },
  {
   "cell_type": "code",
   "execution_count": null,
   "metadata": {},
   "outputs": [],
   "source": [
    "# используя эти функции, можно обращаться к любым доступным данным и командам (например rm -r /)"
   ]
  }
 ],
 "metadata": {
  "kernelspec": {
   "display_name": "Python 3",
   "language": "python",
   "name": "python3"
  },
  "language_info": {
   "codemirror_mode": {
    "name": "ipython",
    "version": 3
   },
   "file_extension": ".py",
   "mimetype": "text/x-python",
   "name": "python",
   "nbconvert_exporter": "python",
   "pygments_lexer": "ipython3",
   "version": "3.7.3"
  }
 },
 "nbformat": 4,
 "nbformat_minor": 2
}

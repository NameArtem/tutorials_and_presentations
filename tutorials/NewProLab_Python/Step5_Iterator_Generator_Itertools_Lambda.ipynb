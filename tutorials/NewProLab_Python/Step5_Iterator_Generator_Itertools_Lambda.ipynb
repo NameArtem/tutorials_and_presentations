{
 "cells": [
  {
   "cell_type": "markdown",
   "metadata": {},
   "source": [
    "### Iterator"
   ]
  },
  {
   "cell_type": "code",
   "execution_count": 1,
   "metadata": {},
   "outputs": [],
   "source": [
    "# for | while"
   ]
  },
  {
   "cell_type": "code",
   "execution_count": 3,
   "metadata": {},
   "outputs": [
    {
     "data": {
      "text/plain": [
       "range(0, 10)"
      ]
     },
     "execution_count": 3,
     "metadata": {},
     "output_type": "execute_result"
    }
   ],
   "source": [
    "# как работает итератор? Разберем\n",
    "some_steps = range(0, 10)\n",
    "some_steps  # нужен ещё список, как обертка"
   ]
  },
  {
   "cell_type": "code",
   "execution_count": 5,
   "metadata": {},
   "outputs": [
    {
     "data": {
      "text/plain": [
       "['__call__',\n",
       " '__class__',\n",
       " '__delattr__',\n",
       " '__dir__',\n",
       " '__doc__',\n",
       " '__eq__',\n",
       " '__format__',\n",
       " '__ge__',\n",
       " '__getattribute__',\n",
       " '__gt__',\n",
       " '__hash__',\n",
       " '__init__',\n",
       " '__init_subclass__',\n",
       " '__le__',\n",
       " '__lt__',\n",
       " '__module__',\n",
       " '__name__',\n",
       " '__ne__',\n",
       " '__new__',\n",
       " '__qualname__',\n",
       " '__reduce__',\n",
       " '__reduce_ex__',\n",
       " '__repr__',\n",
       " '__self__',\n",
       " '__setattr__',\n",
       " '__sizeof__',\n",
       " '__str__',\n",
       " '__subclasshook__',\n",
       " '__text_signature__']"
      ]
     },
     "execution_count": 5,
     "metadata": {},
     "output_type": "execute_result"
    }
   ],
   "source": [
    "# есть функция в Python\n",
    "dir(iter)"
   ]
  },
  {
   "cell_type": "code",
   "execution_count": 11,
   "metadata": {},
   "outputs": [
    {
     "data": {
      "text/plain": [
       "<range_iterator at 0x41cb51f5d0>"
      ]
     },
     "execution_count": 11,
     "metadata": {},
     "output_type": "execute_result"
    }
   ],
   "source": [
    "# которая возвращает итерируемый объект\n",
    "my_object = iter(some_steps)\n",
    "my_object"
   ]
  },
  {
   "cell_type": "code",
   "execution_count": 14,
   "metadata": {},
   "outputs": [
    {
     "name": "stdout",
     "output_type": "stream",
     "text": [
      "2\n",
      "3\n",
      "4\n",
      "5\n",
      "6\n",
      "7\n",
      "8\n",
      "9\n"
     ]
    }
   ],
   "source": [
    "# но может твориться магия (совсем нет! )\n",
    "for i in my_object:\n",
    "    print(i)"
   ]
  },
  {
   "cell_type": "code",
   "execution_count": 15,
   "metadata": {},
   "outputs": [
    {
     "ename": "StopIteration",
     "evalue": "",
     "output_type": "error",
     "traceback": [
      "\u001b[1;31m---------------------------------------------------------------------------\u001b[0m",
      "\u001b[1;31mStopIteration\u001b[0m                             Traceback (most recent call last)",
      "\u001b[1;32m<ipython-input-15-d684b804b235>\u001b[0m in \u001b[0;36m<module>\u001b[1;34m\u001b[0m\n\u001b[1;32m----> 1\u001b[1;33m \u001b[0mnext\u001b[0m\u001b[1;33m(\u001b[0m\u001b[0mmy_object\u001b[0m\u001b[1;33m)\u001b[0m\u001b[1;33m\u001b[0m\u001b[1;33m\u001b[0m\u001b[0m\n\u001b[0m",
      "\u001b[1;31mStopIteration\u001b[0m: "
     ]
    }
   ],
   "source": [
    "# next - вызывет каждый объект по пордку / или ошибку StopIteration\n",
    "next(my_object)"
   ]
  },
  {
   "cell_type": "markdown",
   "metadata": {},
   "source": [
    "<img src='img/iter.png'>"
   ]
  },
  {
   "cell_type": "code",
   "execution_count": 16,
   "metadata": {},
   "outputs": [],
   "source": [
    "my_object = iter(some_steps)"
   ]
  },
  {
   "cell_type": "code",
   "execution_count": 17,
   "metadata": {},
   "outputs": [
    {
     "data": {
      "text/plain": [
       "0"
      ]
     },
     "execution_count": 17,
     "metadata": {},
     "output_type": "execute_result"
    }
   ],
   "source": [
    "next(my_object)"
   ]
  },
  {
   "cell_type": "code",
   "execution_count": 18,
   "metadata": {},
   "outputs": [
    {
     "data": {
      "text/plain": [
       "1"
      ]
     },
     "execution_count": 18,
     "metadata": {},
     "output_type": "execute_result"
    }
   ],
   "source": [
    "next(my_object)"
   ]
  },
  {
   "cell_type": "code",
   "execution_count": 19,
   "metadata": {},
   "outputs": [
    {
     "data": {
      "text/plain": [
       "2"
      ]
     },
     "execution_count": 19,
     "metadata": {},
     "output_type": "execute_result"
    }
   ],
   "source": [
    "# равнозначно\n",
    "my_object.__next__()"
   ]
  },
  {
   "cell_type": "markdown",
   "metadata": {},
   "source": [
    "#### попробуем самостоятельно"
   ]
  },
  {
   "cell_type": "code",
   "execution_count": null,
   "metadata": {},
   "outputs": [],
   "source": [
    "# это основа работы циклов\n",
    "# сделаем свой циклы (легко!)\n",
    "\n",
    "iter_obj=iter(# любой итерируемый объект )\n",
    "while True:\n",
    "\n",
    "    # какое-то простое действие с next()\n"
   ]
  },
  {
   "cell_type": "code",
   "execution_count": 37,
   "metadata": {},
   "outputs": [
    {
     "data": {
      "text/plain": [
       "8"
      ]
     },
     "execution_count": 37,
     "metadata": {},
     "output_type": "execute_result"
    }
   ],
   "source": [
    "# запомним! Основная необходимость самому создавать итератор\n",
    "# => это использовать в определенный момент одно значение, а не хранить весь список\n",
    "# например, вы делаете сложное вычисление или создаете тяжелый объекты\n",
    "\n",
    "# Пример - класс итератор\n",
    "class SuperCounter:\n",
    "    \n",
    "    # создаение максимального объекта (устанавливает пользователь)\n",
    "    def __init__(self,max=1):\n",
    "        self.max=max\n",
    "    \n",
    "    # делаем указатель итератора\n",
    "    def __iter__(self):\n",
    "        self.n=1\n",
    "        return self\n",
    "    \n",
    "    # указываем действия при вызове элемента\n",
    "    def __next__(self):\n",
    "        if self.n<=self.max:\n",
    "            # если элементы ещё существуют в списке\n",
    "            result=(2**self.n)**3\n",
    "            self.n+=1\n",
    "            return result\n",
    "        else:\n",
    "            # если кончились элементы\n",
    "            raise StopIteration\n",
    "            \n",
    "            \n",
    "a = iter(SuperCounter(2))\n",
    "next(a)"
   ]
  },
  {
   "cell_type": "markdown",
   "metadata": {},
   "source": [
    "#### в качестве домашнего исследования"
   ]
  },
  {
   "cell_type": "code",
   "execution_count": null,
   "metadata": {},
   "outputs": [],
   "source": [
    "# в Python есть целая библиотека, \n",
    "# которая содержит набор итератор\n",
    "\n",
    "# изучите её самостоятельно и проведите исследование предлагаемых функций.\n",
    "# Они позволят Вам ускорить разработку и исследовательскую работу\n",
    "\n",
    "from itertools import *\n",
    "\n",
    "# Успехов!"
   ]
  },
  {
   "cell_type": "markdown",
   "metadata": {},
   "source": [
    "### Generator"
   ]
  },
  {
   "cell_type": "code",
   "execution_count": 5,
   "metadata": {},
   "outputs": [
    {
     "data": {
      "text/plain": [
       "<generator object myGenerator at 0x000000D79F4684F8>"
      ]
     },
     "execution_count": 5,
     "metadata": {},
     "output_type": "execute_result"
    }
   ],
   "source": [
    "# объект, который создает итерируеую последовательность\n",
    "# ключевое слово yield (а не return)\n",
    "\n",
    "def myGenerator():\n",
    "    i = 0\n",
    "    \n",
    "    while (i <= 5):\n",
    "        # делаем возврат yeild, а не return\n",
    "        yield i\n",
    "        \n",
    "        #и после yield мы можем ещё делать действия\n",
    "        i+=1\n",
    "        \n",
    "# получаем интересный объект\n",
    "myGenerator()"
   ]
  },
  {
   "cell_type": "code",
   "execution_count": 7,
   "metadata": {},
   "outputs": [
    {
     "name": "stdout",
     "output_type": "stream",
     "text": [
      "[0, 1, 2, 3, 4, 5]\n",
      "0\n",
      "1\n",
      "2\n",
      "3\n",
      "4\n",
      "5\n"
     ]
    }
   ],
   "source": [
    "# как его получить\n",
    "\n",
    "# 1\n",
    "print(list(myGenerator()))\n",
    "\n",
    "# 2\n",
    "for i in myGenerator():\n",
    "    print(i)"
   ]
  },
  {
   "cell_type": "code",
   "execution_count": 9,
   "metadata": {},
   "outputs": [
    {
     "name": "stdout",
     "output_type": "stream",
     "text": [
      "Event\n",
      "Event\n",
      "Event\n",
      "Event\n"
     ]
    }
   ],
   "source": [
    "# для чего они существуют?\n",
    "\n",
    "def myGenerator(x):\n",
    "    while(x>0):\n",
    "        # исполняем до ожидаемого события\n",
    "        if x%2==0:\n",
    "            # действие произошло без блокировани (остаовки) выполнения функции\n",
    "            yield 'Event'\n",
    "            \n",
    "            # где это можно применить? \n",
    "        else:\n",
    "            pass\n",
    "        \n",
    "        x-=1\n",
    "        \n",
    "for i in myGenerator(9):\n",
    "    print(i)"
   ]
  },
  {
   "cell_type": "markdown",
   "metadata": {},
   "source": [
    "### Iterator vs Generator"
   ]
  },
  {
   "cell_type": "code",
   "execution_count": 11,
   "metadata": {},
   "outputs": [],
   "source": [
    "# генератор - результат функции / итератор создается с помощью iter/ next\n",
    "# yield в генераторе дает возможность продолжать работе функции\n",
    "# в функции - генераторе может быть сколько угодно yield\n",
    "# на основе итератор можно создать функции, но это плохая идея для генератора\n",
    "# к сожелению, генераторы занимаю больше места в памяти, чем итераторы"
   ]
  },
  {
   "cell_type": "code",
   "execution_count": 13,
   "metadata": {},
   "outputs": [
    {
     "data": {
      "text/plain": [
       "[0, 1, 2, 3, 4, 5]"
      ]
     },
     "execution_count": 13,
     "metadata": {},
     "output_type": "execute_result"
    }
   ],
   "source": [
    "def myGenerator():\n",
    "    i = 0\n",
    "    \n",
    "    while (i <= 5):\n",
    "        # делаем возврат yeild, а не return\n",
    "        yield i\n",
    "        \n",
    "        #и после yield мы можем ещё делать действия\n",
    "        i+=1\n",
    "        \n",
    "list(myGenerator())"
   ]
  },
  {
   "cell_type": "code",
   "execution_count": 14,
   "metadata": {},
   "outputs": [
    {
     "data": {
      "text/plain": [
       "96"
      ]
     },
     "execution_count": 14,
     "metadata": {},
     "output_type": "execute_result"
    }
   ],
   "source": [
    "myGenerator().__sizeof__()"
   ]
  },
  {
   "cell_type": "code",
   "execution_count": 15,
   "metadata": {},
   "outputs": [
    {
     "data": {
      "text/plain": [
       "32"
      ]
     },
     "execution_count": 15,
     "metadata": {},
     "output_type": "execute_result"
    }
   ],
   "source": [
    "iter([0, 1, 2, 3, 4, 5]).__sizeof__()"
   ]
  },
  {
   "cell_type": "markdown",
   "metadata": {},
   "source": [
    "### Lambda"
   ]
  },
  {
   "cell_type": "code",
   "execution_count": 16,
   "metadata": {},
   "outputs": [
    {
     "name": "stdout",
     "output_type": "stream",
     "text": [
      "77 77\n"
     ]
    }
   ],
   "source": [
    "# lambda [args]:[expression with args]\n",
    "# отличная анонимная функция\n",
    "\n",
    "# lambda x: x\n",
    "# var = lambda x: x\n",
    "\n",
    "# Применяется для\n",
    "# 1 - быстрой арифметики a*b, a**b\n",
    "# 2 - для вызова функции some_func(a)\n",
    "\n",
    "\n",
    "def myFunc(x=11, y=22, z=44):\n",
    "    return x+y+z\n",
    "\n",
    "myLambda = lambda x=11, y=22, z=44: x+y+z\n",
    "\n",
    "print(myFunc(), myLambda())"
   ]
  },
  {
   "cell_type": "code",
   "execution_count": 19,
   "metadata": {},
   "outputs": [
    {
     "data": {
      "text/plain": [
       "[0, 3, 6, 9, 12, 15, 18]"
      ]
     },
     "execution_count": 19,
     "metadata": {},
     "output_type": "execute_result"
    }
   ],
   "source": [
    "# отлично работает со встроенным функциям\n",
    "\n",
    "numbers=range(0, 20)\n",
    "\n",
    "#значительно сокращается код\n",
    "list(filter(lambda x:x%3==0, numbers))"
   ]
  },
  {
   "cell_type": "code",
   "execution_count": 20,
   "metadata": {},
   "outputs": [
    {
     "data": {
      "text/plain": [
       "[True,\n",
       " False,\n",
       " False,\n",
       " True,\n",
       " False,\n",
       " False,\n",
       " True,\n",
       " False,\n",
       " False,\n",
       " True,\n",
       " False,\n",
       " False,\n",
       " True,\n",
       " False,\n",
       " False,\n",
       " True,\n",
       " False,\n",
       " False,\n",
       " True,\n",
       " False]"
      ]
     },
     "execution_count": 20,
     "metadata": {},
     "output_type": "execute_result"
    }
   ],
   "source": [
    "list(map(lambda x:x%3==0, numbers))"
   ]
  },
  {
   "cell_type": "markdown",
   "metadata": {},
   "source": [
    "### ПРАКТИКА"
   ]
  },
  {
   "cell_type": "markdown",
   "metadata": {},
   "source": [
    "### Задание обычное"
   ]
  },
  {
   "cell_type": "code",
   "execution_count": 31,
   "metadata": {},
   "outputs": [],
   "source": [
    "#разработайте генератор чисел, где \n",
    "# begin - начальное значение\n",
    "# step - шаг вычисления\n",
    "# end - финальное значение\n",
    "# генератор долже создавать объект, который вы передадите итератор\n",
    "# объект должен включать в себя последовательность от старт до стоп, с указанным шагом\n",
    "\n",
    "\n",
    "\n",
    "import itertools\n",
    "\n",
    "def stepGen(begin, step, end=None):\n",
    "    \n",
    "    #учитет возможность begin, step, end не правильных значений\n",
    "    # begin не должен быть больше end\n",
    "    \n",
    "    #может быть несколько yield"
   ]
  },
  {
   "cell_type": "code",
   "execution_count": 38,
   "metadata": {},
   "outputs": [
    {
     "data": {
      "text/plain": [
       "[1.0, 1.5, 2.0, 2.5, 3.0, 3.5, 4.0, 4.5]"
      ]
     },
     "execution_count": 38,
     "metadata": {},
     "output_type": "execute_result"
    }
   ],
   "source": [
    "# результат генератора\n",
    "g = stepGen(1, .5, 5)\n",
    "list(g)"
   ]
  },
  {
   "cell_type": "markdown",
   "metadata": {},
   "source": [
    "### Задание повышенной сложности"
   ]
  },
  {
   "cell_type": "code",
   "execution_count": 41,
   "metadata": {},
   "outputs": [],
   "source": [
    "# создать генератор процесса\n",
    "# нужно будет подумать и доработать функцию taxi_process\n",
    "# функция управляет процессом такси, создавая генератор \n",
    "\n",
    "\n",
    "import random\n",
    "import collections\n",
    "import queue\n",
    "import argparse\n",
    "import time\n",
    "\n",
    "DEFAULT_NUMBER_OF_TAXIS = 3\n",
    "DEFAULT_END_TIME = 180\n",
    "SEARCH_DURATION = 5\n",
    "TRIP_DURATION = 20\n",
    "DEPARTURE_INTERVAL = 5\n",
    "\n",
    "Event = collections.namedtuple('Event', 'time taxi action')\n",
    "\n",
    "\n",
    "# реализуйте генератор в этой функции\n",
    "def taxi_process(ident, trips, start_time=0):  \n",
    "    # разаботате процессинг для такси\n",
    "    # проанализируйте, что возвращает Event\n",
    "    \n",
    "    # разаботате процессинг для такси\n",
    "    # проанализируйте, что возвращает Event\n",
    "    # и как можео это использовать в функции времени\n",
    "\n",
    "\n",
    "    #доступные записи для Event\n",
    "    # Event(start_time, ident, 'выехал из парка')  \n",
    "    # Event(time, ident, 'забрал пассажира')\n",
    "    # Event(time, ident, 'высадил пассажира')  \n",
    "    # Event(time, ident, 'в парк')      \n",
    "\n",
    "\n",
    "    \n",
    "    \n",
    "class Simulator:\n",
    "\n",
    "    def __init__(self, procs_map):\n",
    "        self.events = queue.PriorityQueue()\n",
    "        self.procs = dict(procs_map)\n",
    "\n",
    "    def run(self, end_time, delay=False):  # <1>\n",
    "        # создание првого задания для каждой машины \n",
    "        for _, proc in sorted(self.procs.items()):  \n",
    "            first_event = next(proc)  \n",
    "            self.events.put(first_event)  \n",
    "\n",
    "        #\n",
    "        sim_time = 0  \n",
    "        while sim_time < end_time:  \n",
    "            if self.events.empty():  \n",
    "                print('*** конец действий ***')\n",
    "                break\n",
    "\n",
    "            # получить текущее задание\n",
    "            current_event = self.events.get()  \n",
    "            if delay:\n",
    "                time.sleep((current_event.time - sim_time) / 2)\n",
    "            #  апдейт времени\n",
    "            sim_time, proc_id, previous_action = current_event\n",
    "            print('taxi:', proc_id, proc_id * '   ', current_event)\n",
    "            active_proc = self.procs[proc_id]\n",
    "            # расписание слежующего действия \n",
    "            next_time = sim_time + compute_duration(previous_action)\n",
    "            try:\n",
    "                next_event = active_proc.send(next_time) \n",
    "            except StopIteration:\n",
    "                del self.procs[proc_id]  \n",
    "            else:\n",
    "                self.events.put(next_event)  \n",
    "        else:  \n",
    "            msg = '*** конец работы таксопарка ***'\n",
    "            print(msg.format(self.events.qsize()))\n",
    "\n",
    "\n",
    "def compute_duration(previous_action):\n",
    "    if previous_action in ['выехал из парка', 'высадил пассажира']:\n",
    "        # новое состояние \n",
    "        interval = SEARCH_DURATION\n",
    "    elif previous_action == 'забрал пассажира':\n",
    "        # новое состояние \n",
    "        interval = TRIP_DURATION\n",
    "    elif previous_action == 'в парк':\n",
    "        interval = 1\n",
    "    else:\n",
    "        raise ValueError('Неизвестное прошлое действие: %s' % previous_action)\n",
    "    return int(random.expovariate(1/interval)) + 1\n",
    "\n",
    "\n",
    "def main(end_time=DEFAULT_END_TIME, num_taxis=DEFAULT_NUMBER_OF_TAXIS,\n",
    "         seed=None, delay=False):\n",
    "    if seed is not None:\n",
    "        random.seed(seed)  # get reproducible results\n",
    "    \n",
    "    ####\n",
    "    # используйте функцию taxi_process здесь\n",
    "    ####\n",
    "    \n",
    "    sim = Simulator(taxis)\n",
    "    sim.run(end_time, delay)"
   ]
  },
  {
   "cell_type": "code",
   "execution_count": 42,
   "metadata": {},
   "outputs": [
    {
     "name": "stdout",
     "output_type": "stream",
     "text": [
      "taxi: 0  Event(time=0, taxi=0, action='выехал из парка')\n",
      "taxi: 0  Event(time=1, taxi=0, action='забрал пассажира')\n",
      "taxi: 0  Event(time=4, taxi=0, action='высадил пассажира')\n",
      "taxi: 1     Event(time=5, taxi=1, action='выехал из парка')\n",
      "taxi: 2        Event(time=10, taxi=2, action='выехал из парка')\n",
      "taxi: 0  Event(time=13, taxi=0, action='забрал пассажира')\n",
      "taxi: 2        Event(time=15, taxi=2, action='забрал пассажира')\n",
      "taxi: 1     Event(time=25, taxi=1, action='забрал пассажира')\n",
      "taxi: 0  Event(time=35, taxi=0, action='высадил пассажира')\n",
      "taxi: 1     Event(time=36, taxi=1, action='высадил пассажира')\n",
      "taxi: 0  Event(time=37, taxi=0, action='в парк')\n",
      "taxi: 1     Event(time=41, taxi=1, action='забрал пассажира')\n",
      "taxi: 2        Event(time=50, taxi=2, action='высадил пассажира')\n",
      "taxi: 2        Event(time=53, taxi=2, action='забрал пассажира')\n",
      "taxi: 2        Event(time=59, taxi=2, action='высадил пассажира')\n",
      "taxi: 2        Event(time=60, taxi=2, action='забрал пассажира')\n",
      "taxi: 2        Event(time=62, taxi=2, action='высадил пассажира')\n",
      "taxi: 2        Event(time=64, taxi=2, action='забрал пассажира')\n",
      "taxi: 1     Event(time=70, taxi=1, action='высадил пассажира')\n",
      "taxi: 1     Event(time=71, taxi=1, action='забрал пассажира')\n",
      "taxi: 2        Event(time=107, taxi=2, action='высадил пассажира')\n",
      "taxi: 2        Event(time=108, taxi=2, action='забрал пассажира')\n",
      "taxi: 2        Event(time=112, taxi=2, action='высадил пассажира')\n",
      "taxi: 2        Event(time=114, taxi=2, action='забрал пассажира')\n",
      "taxi: 1     Event(time=118, taxi=1, action='высадил пассажира')\n",
      "taxi: 1     Event(time=120, taxi=1, action='забрал пассажира')\n",
      "taxi: 1     Event(time=138, taxi=1, action='высадил пассажира')\n",
      "taxi: 1     Event(time=139, taxi=1, action='в парк')\n",
      "taxi: 2        Event(time=139, taxi=2, action='высадил пассажира')\n",
      "taxi: 2        Event(time=140, taxi=2, action='в парк')\n",
      "*** конец действий ***\n"
     ]
    }
   ],
   "source": [
    "# пример работы\n",
    "main()"
   ]
  },
  {
   "cell_type": "code",
   "execution_count": null,
   "metadata": {},
   "outputs": [],
   "source": []
  }
 ],
 "metadata": {
  "kernelspec": {
   "display_name": "Python 3",
   "language": "python",
   "name": "python3"
  },
  "language_info": {
   "codemirror_mode": {
    "name": "ipython",
    "version": 3
   },
   "file_extension": ".py",
   "mimetype": "text/x-python",
   "name": "python",
   "nbconvert_exporter": "python",
   "pygments_lexer": "ipython3",
   "version": "3.7.3"
  }
 },
 "nbformat": 4,
 "nbformat_minor": 2
}

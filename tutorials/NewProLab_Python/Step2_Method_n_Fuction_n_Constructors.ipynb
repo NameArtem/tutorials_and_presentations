{
 "cells": [
  {
   "cell_type": "markdown",
   "metadata": {},
   "source": [
    "### Intro"
   ]
  },
  {
   "cell_type": "code",
   "execution_count": null,
   "metadata": {},
   "outputs": [],
   "source": [
    "t = list()\n",
    "t.__class__"
   ]
  },
  {
   "cell_type": "code",
   "execution_count": null,
   "metadata": {},
   "outputs": [],
   "source": [
    "# что есть класс\n",
    "\n",
    "class NPL:\n",
    "    \"\"\"\n",
    "        NewProLab Class\n",
    "    \"\"\"\n",
    "    \n",
    "    pass"
   ]
  },
  {
   "cell_type": "code",
   "execution_count": null,
   "metadata": {},
   "outputs": [],
   "source": [
    "NPL.__class__"
   ]
  },
  {
   "cell_type": "code",
   "execution_count": null,
   "metadata": {},
   "outputs": [],
   "source": [
    "NPL"
   ]
  },
  {
   "cell_type": "code",
   "execution_count": null,
   "metadata": {},
   "outputs": [],
   "source": [
    "# добавим данных\n",
    "\n",
    "class NPL(object):\n",
    "    \"\"\"\n",
    "        NewProLab Class\n",
    "    \"\"\"\n",
    "    \n",
    "    #переменные класса\n",
    "    # публичные\n",
    "    COURSE = 'Python'\n",
    "    CNT_STUDENTS = 20\n",
    "    \n",
    "    # частные\n",
    "    __FULL_COURSE = True\n",
    "    \n",
    "    \n",
    "    def get_course_name(): #надо передать в функцию self\n",
    "        return self.COURSE\n",
    "    \n",
    "    def __repr__(self):\n",
    "        return \"\"\"Class NewProLab for course: {} and the class full of students: {},\n",
    "                  count of students = {}\"\"\".format(self.COURSE, self.__FULL_COURSE, self.CNT_STUDENTS)\n",
    "        "
   ]
  },
  {
   "cell_type": "code",
   "execution_count": null,
   "metadata": {},
   "outputs": [],
   "source": [
    "user = NPL() # init класса == \"запуск в работу\"\n",
    "user.get_course_name # получаем объект, () - вызываем объект"
   ]
  },
  {
   "cell_type": "code",
   "execution_count": null,
   "metadata": {},
   "outputs": [],
   "source": [
    "# обратиться к переменным класса\n",
    "user.CNT_STUDENTS"
   ]
  },
  {
   "cell_type": "code",
   "execution_count": null,
   "metadata": {},
   "outputs": [],
   "source": [
    "user.__FULL_COURSE"
   ]
  },
  {
   "cell_type": "code",
   "execution_count": null,
   "metadata": {},
   "outputs": [],
   "source": [
    "# получить описание класса\n",
    "NPL.__doc__"
   ]
  },
  {
   "cell_type": "markdown",
   "metadata": {},
   "source": [
    "### Init of Class"
   ]
  },
  {
   "cell_type": "code",
   "execution_count": null,
   "metadata": {},
   "outputs": [],
   "source": [
    "# добавим init\n",
    "class NPL(object):\n",
    "    \"\"\"\n",
    "        NewProLab Class\n",
    "    \"\"\"\n",
    "    \n",
    "    #переменные класса\n",
    "    # публичные\n",
    "    COURSE = 'Python'\n",
    "    CNT_STUDENTS = 20\n",
    "    \n",
    "    # частные\n",
    "    __FULL_COURSE = True\n",
    "    \n",
    "    def __init__(self,teacher,helper):\n",
    "        self.teacher=teacher\n",
    "        self.helper=helper\n",
    "    \n",
    "    def get_course_name(self):\n",
    "        return self.COURSE\n",
    "    \n",
    "    def __repr__(self):\n",
    "        return \"\"\"Class NewProLab for course: {} and the class full of students: {},\n",
    "                  count of students = {}\"\"\".format(self.COURSE, self.__FULL_COURSE, self.CNT_STUDENTS)\n",
    "        "
   ]
  },
  {
   "cell_type": "code",
   "execution_count": null,
   "metadata": {},
   "outputs": [],
   "source": [
    "user = NPL('NameArtem', 'Main')\n",
    "user"
   ]
  },
  {
   "cell_type": "code",
   "execution_count": null,
   "metadata": {},
   "outputs": [],
   "source": [
    "# добавим init\n",
    "class NPL(list):\n",
    "    \"\"\"\n",
    "        NewProLab Class\n",
    "    \"\"\"\n",
    "    \n",
    "    #переменные класса\n",
    "    # публичные\n",
    "    COURSE = 'Python'\n",
    "    CNT_STUDENTS = 20\n",
    "    \n",
    "    # частные\n",
    "    __FULL_COURSE = True\n",
    "    \n",
    "    def __init__(self,teacher,helper):\n",
    "        # перезагрузка инит метода из базового класса в нашем\n",
    "        super(NPL, self).__init__()\n",
    "        #\n",
    "        self.append(teacher)\n",
    "        self.append(helper)\n",
    "        \n",
    "    def get_course_name(self):\n",
    "        return self.COURSE\n",
    "    \n",
    "    def __repr__(self):\n",
    "        # переделаем презентацию класса\n",
    "        return \"[\"+\", \".join(self)+\"]\"\n",
    "        "
   ]
  },
  {
   "cell_type": "code",
   "execution_count": null,
   "metadata": {},
   "outputs": [],
   "source": [
    "user = NPL('NameArtem', 'Main')\n",
    "print(user)\n",
    "\n",
    "# проверим, есть ли там возможности списка (is iter)\n",
    "if isinstance(user, list):\n",
    "    print('Теперь там возможности списка')"
   ]
  },
  {
   "cell_type": "markdown",
   "metadata": {},
   "source": [
    "### Method"
   ]
  },
  {
   "cell_type": "code",
   "execution_count": null,
   "metadata": {},
   "outputs": [],
   "source": [
    "# разберем подробние\n",
    "\n",
    "def __init__(self,teacher,helper):\n",
    "    \"\"\"\n",
    "        Основной метод класса\n",
    "        Инициализирует атрибуты класса\n",
    "        \n",
    "        В данном случае: перезагружает в классе NPL атрибуты родительского класса\n",
    "        \n",
    "        \n",
    "        Здесь мы сталкиваемся с self\n",
    "        => это указатель на весь объект, которые содержит все что есть в данном классе \n",
    "        (как this в Java)\n",
    "    \"\"\"\n",
    "    # перезагрузка инит метода из базового класса в нашем\n",
    "    super(NPL, self).__init__()\n",
    "    #\n",
    "    self.append(teacher)\n",
    "    self.append(helper)"
   ]
  },
  {
   "cell_type": "code",
   "execution_count": null,
   "metadata": {},
   "outputs": [],
   "source": [
    "# пример\n",
    "class Result:\n",
    "    \n",
    "    def __init__(self,**kwargs):\n",
    "        \n",
    "        # устанавливаем все параметры авоматически\n",
    "        self.__dict__.update(kwargs)\n",
    "        \n",
    "    def printavg(self):\n",
    "        # __dict__ вызов всех методов\n",
    "        # self.__dict__\n",
    "        print(f\"Average of {', '.join(self.__dict__.keys())} is {sum(self.__dict__.values()) / len(self.__dict__.values())} points\")\n",
    "    \n",
    "myAvg = Result(math = 3, chi = 4, rus = 5, eng = 5)\n",
    "myAvg.printavg()"
   ]
  },
  {
   "cell_type": "markdown",
   "metadata": {},
   "source": [
    "### A little Magic"
   ]
  },
  {
   "cell_type": "markdown",
   "metadata": {},
   "source": [
    "### Python Constructor"
   ]
  },
  {
   "cell_type": "code",
   "execution_count": null,
   "metadata": {},
   "outputs": [],
   "source": [
    "# самый знаменитый конструктор, который используем - слайсер => list[n:m]\n",
    "# он реализован __getitem__() / __len__()\n",
    "# в интерируемых объектах есть функция slice(start, stop, step)\n",
    "\n",
    "words=['One','Another','Summer']\n",
    "words[slice(2)]  # от 0 + 2 объекта"
   ]
  },
  {
   "cell_type": "code",
   "execution_count": null,
   "metadata": {},
   "outputs": [],
   "source": [
    "# slice(start, stop, step)\n",
    "words[slice(1, 3, 1)] "
   ]
  },
  {
   "cell_type": "code",
   "execution_count": null,
   "metadata": {},
   "outputs": [],
   "source": [
    "# конструкторы\n",
    "# классы содержат в себе конструкторы __init__ / __new__\n",
    "\n",
    "\n",
    "# Многие считаю, что это основная разница в конструторах\n",
    "class P:\n",
    "    def __init__(self):\n",
    "        return 5\n",
    "\n",
    "class G:\n",
    "    def __new__(self):\n",
    "        return 5"
   ]
  },
  {
   "cell_type": "code",
   "execution_count": null,
   "metadata": {},
   "outputs": [],
   "source": [
    "P()"
   ]
  },
  {
   "cell_type": "code",
   "execution_count": null,
   "metadata": {},
   "outputs": [],
   "source": [
    "G()"
   ]
  },
  {
   "cell_type": "code",
   "execution_count": null,
   "metadata": {},
   "outputs": [],
   "source": [
    "# но нет! \n",
    "# разберем пример\n",
    "\n",
    "# ! new выполняется перед init\n",
    "# new - возвращает новый объект типа\n",
    "# new - подходит для изменяемых и не изменяемых объектов\n",
    "\n",
    "# есть new, объект не изменяется (не переинициализируется)\n",
    "tpl = tuple(words.copy())  # а почему я сделал copy() <== ???\n",
    "tpl.__init__([1,2,3])\n",
    "tpl   #! "
   ]
  },
  {
   "cell_type": "code",
   "execution_count": null,
   "metadata": {},
   "outputs": [],
   "source": [
    "# нет new, только init - получаем новый объект\n",
    "lst = words\n",
    "lst.__init__([1,2,3])\n",
    "lst"
   ]
  },
  {
   "cell_type": "markdown",
   "metadata": {},
   "source": [
    "### Method vs Function"
   ]
  },
  {
   "cell_type": "code",
   "execution_count": null,
   "metadata": {},
   "outputs": [],
   "source": [
    "# метод - это функция добавленая в объект =)\n",
    "# метод вызывается в экземпляре класса\n",
    "# метод может изменять данные внутри класса, функция изменяет входящий объект\n",
    "# функция не зависит от класса\n",
    "# функция (обычно) возвращает объект\n",
    "\n",
    "# то есть\n",
    "len([1,2,3]) == [1,2,3].__len__()"
   ]
  },
  {
   "cell_type": "code",
   "execution_count": null,
   "metadata": {},
   "outputs": [],
   "source": [
    "# 1\n",
    "def len(list):\n",
    "    pass"
   ]
  },
  {
   "cell_type": "code",
   "execution_count": null,
   "metadata": {},
   "outputs": [],
   "source": [
    "# 2\n",
    "class list(list):\n",
    "    \n",
    "    def __len__(self):\n",
    "        pass"
   ]
  }
 ],
 "metadata": {
  "kernelspec": {
   "display_name": "Python 3",
   "language": "python",
   "name": "python3"
  },
  "language_info": {
   "codemirror_mode": {
    "name": "ipython",
    "version": 3
   },
   "file_extension": ".py",
   "mimetype": "text/x-python",
   "name": "python",
   "nbconvert_exporter": "python",
   "pygments_lexer": "ipython3",
   "version": "3.7.3"
  }
 },
 "nbformat": 4,
 "nbformat_minor": 2
}

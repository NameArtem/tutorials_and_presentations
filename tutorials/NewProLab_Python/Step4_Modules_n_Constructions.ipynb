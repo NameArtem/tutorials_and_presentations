{
 "cells": [
  {
   "cell_type": "markdown",
   "metadata": {},
   "source": [
    "### Counter"
   ]
  },
  {
   "cell_type": "code",
   "execution_count": 1,
   "metadata": {},
   "outputs": [
    {
     "data": {
      "text/plain": [
       "{'income': 3, 'outcome': 2, 'base': 1, 'nap': 1, 'tbd': 1}"
      ]
     },
     "execution_count": 1,
     "metadata": {},
     "output_type": "execute_result"
    }
   ],
   "source": [
    "# часто бывает так ,что есть список с повторяющимися значениями\n",
    "# например:\n",
    "l = ['income', 'outcome', 'base', 'income', 'nap', 'income', 'tbd', 'outcome']\n",
    "\n",
    "# нужно посчитать кол-во повторений\n",
    "# и делают так\n",
    "dl = dict()\n",
    "for i in l:\n",
    "    if i in dl.keys():\n",
    "        dl[i] += 1\n",
    "    else:\n",
    "        dl[i] = 1\n",
    "dl"
   ]
  },
  {
   "cell_type": "code",
   "execution_count": 2,
   "metadata": {},
   "outputs": [
    {
     "data": {
      "text/plain": [
       "Counter({'income': 3, 'outcome': 2, 'base': 1, 'nap': 1, 'tbd': 1})"
      ]
     },
     "execution_count": 2,
     "metadata": {},
     "output_type": "execute_result"
    }
   ],
   "source": [
    "# но есть специальный модуль\n",
    "from collections import Counter\n",
    "counted_l = Counter(dl)\n",
    "counted_l"
   ]
  },
  {
   "cell_type": "code",
   "execution_count": 3,
   "metadata": {},
   "outputs": [
    {
     "data": {
      "text/plain": [
       "True"
      ]
     },
     "execution_count": 3,
     "metadata": {},
     "output_type": "execute_result"
    }
   ],
   "source": [
    "# это словарь\n",
    "issubclass(Counter, dict)"
   ]
  },
  {
   "cell_type": "code",
   "execution_count": 4,
   "metadata": {},
   "outputs": [
    {
     "data": {
      "text/plain": [
       "3"
      ]
     },
     "execution_count": 4,
     "metadata": {},
     "output_type": "execute_result"
    }
   ],
   "source": [
    "#то есть\n",
    "counted_l['income']"
   ]
  },
  {
   "cell_type": "code",
   "execution_count": 5,
   "metadata": {},
   "outputs": [
    {
     "data": {
      "text/plain": [
       "Counter({'с': 1,\n",
       "         'л': 2,\n",
       "         'о': 5,\n",
       "         'в': 1,\n",
       "         'а': 1,\n",
       "         'р': 2,\n",
       "         'ь': 2,\n",
       "         ',': 1,\n",
       "         ' ': 3,\n",
       "         'к': 1,\n",
       "         'т': 2,\n",
       "         'ы': 1,\n",
       "         'й': 1,\n",
       "         'м': 1,\n",
       "         'ж': 1,\n",
       "         'е': 2,\n",
       "         'б': 1,\n",
       "         'ш': 1})"
      ]
     },
     "execution_count": 5,
     "metadata": {},
     "output_type": "execute_result"
    }
   ],
   "source": [
    "#словарь, который может больше, чем словарь\n",
    "sentence = Counter('словарь, который может больше')\n",
    "sentence"
   ]
  },
  {
   "cell_type": "code",
   "execution_count": 6,
   "metadata": {},
   "outputs": [
    {
     "data": {
      "text/plain": [
       "[('о', 5),\n",
       " (' ', 3),\n",
       " ('л', 2),\n",
       " ('р', 2),\n",
       " ('ь', 2),\n",
       " ('т', 2),\n",
       " ('е', 2),\n",
       " ('с', 1),\n",
       " ('в', 1),\n",
       " ('а', 1),\n",
       " (',', 1),\n",
       " ('к', 1),\n",
       " ('ы', 1),\n",
       " ('й', 1),\n",
       " ('м', 1),\n",
       " ('ж', 1),\n",
       " ('б', 1),\n",
       " ('ш', 1)]"
      ]
     },
     "execution_count": 6,
     "metadata": {},
     "output_type": "execute_result"
    }
   ],
   "source": [
    "# сразу сортированные элементы\n",
    "sentence.most_common()"
   ]
  },
  {
   "cell_type": "code",
   "execution_count": 7,
   "metadata": {},
   "outputs": [
    {
     "data": {
      "text/plain": [
       "[('о', 5), (' ', 3), ('л', 2)]"
      ]
     },
     "execution_count": 7,
     "metadata": {},
     "output_type": "execute_result"
    }
   ],
   "source": [
    "# доступ по топ\n",
    "sentence.most_common(3)"
   ]
  },
  {
   "cell_type": "code",
   "execution_count": 8,
   "metadata": {},
   "outputs": [
    {
     "data": {
      "text/plain": [
       "Counter({'с': 2,\n",
       "         'л': 4,\n",
       "         'о': 10,\n",
       "         'в': 2,\n",
       "         'а': 2,\n",
       "         'р': 4,\n",
       "         'ь': 4,\n",
       "         ',': 2,\n",
       "         ' ': 6,\n",
       "         'к': 2,\n",
       "         'т': 4,\n",
       "         'ы': 2,\n",
       "         'й': 2,\n",
       "         'м': 2,\n",
       "         'ж': 2,\n",
       "         'е': 4,\n",
       "         'б': 2,\n",
       "         'ш': 2})"
      ]
     },
     "execution_count": 8,
     "metadata": {},
     "output_type": "execute_result"
    }
   ],
   "source": [
    "# Counter имеет возможность сложения и вычитания\n",
    "sentence+sentence"
   ]
  },
  {
   "cell_type": "code",
   "execution_count": 9,
   "metadata": {},
   "outputs": [
    {
     "data": {
      "text/plain": [
       "Counter()"
      ]
     },
     "execution_count": 9,
     "metadata": {},
     "output_type": "execute_result"
    }
   ],
   "source": [
    "sentence - sentence"
   ]
  },
  {
   "cell_type": "code",
   "execution_count": 10,
   "metadata": {},
   "outputs": [
    {
     "data": {
      "text/plain": [
       "Counter({'с': 1,\n",
       "         'л': 2,\n",
       "         'о': 5,\n",
       "         'в': 1,\n",
       "         'а': 1,\n",
       "         'р': 2,\n",
       "         'ь': 2,\n",
       "         ',': 1,\n",
       "         ' ': 3,\n",
       "         'к': 1,\n",
       "         'т': 2,\n",
       "         'ы': 1,\n",
       "         'й': 1,\n",
       "         'м': 1,\n",
       "         'ж': 1,\n",
       "         'е': 2,\n",
       "         'б': 1,\n",
       "         'ш': 1})"
      ]
     },
     "execution_count": 10,
     "metadata": {},
     "output_type": "execute_result"
    }
   ],
   "source": [
    "# он даже поддерживает логические выражения OR | AND \n",
    "sentence | sentence"
   ]
  },
  {
   "cell_type": "markdown",
   "metadata": {},
   "source": [
    "### Dicts "
   ]
  },
  {
   "cell_type": "code",
   "execution_count": 11,
   "metadata": {},
   "outputs": [],
   "source": [
    "from collections import defaultdict,OrderedDict"
   ]
  },
  {
   "cell_type": "code",
   "execution_count": 12,
   "metadata": {},
   "outputs": [
    {
     "data": {
      "text/plain": [
       "True"
      ]
     },
     "execution_count": 12,
     "metadata": {},
     "output_type": "execute_result"
    }
   ],
   "source": [
    "# есть ещё словари\n",
    "issubclass(defaultdict, dict)"
   ]
  },
  {
   "cell_type": "code",
   "execution_count": 13,
   "metadata": {},
   "outputs": [
    {
     "data": {
      "text/plain": [
       "True"
      ]
     },
     "execution_count": 13,
     "metadata": {},
     "output_type": "execute_result"
    }
   ],
   "source": [
    "issubclass(OrderedDict, dict)"
   ]
  },
  {
   "cell_type": "markdown",
   "metadata": {},
   "source": [
    "#### defaultdict"
   ]
  },
  {
   "cell_type": "code",
   "execution_count": 14,
   "metadata": {},
   "outputs": [
    {
     "data": {
      "text/plain": [
       "{}"
      ]
     },
     "execution_count": 14,
     "metadata": {},
     "output_type": "execute_result"
    }
   ],
   "source": [
    "# словарь с возможностью иметь пусты значения в value (не пустым, а базовым значением )\n",
    "# создается через фабрику (берется в базе какой-то класс)\n",
    "def_dict = defaultdict(dict)\n",
    "def_dict['Artem'] = 30\n",
    "def_dict['Vlad'] = 24\n",
    "def_dict['Ekaterina'] = 18\n",
    "def_dict['Anna'] = 22\n",
    "def_dict['Evgen']"
   ]
  },
  {
   "cell_type": "code",
   "execution_count": 15,
   "metadata": {},
   "outputs": [
    {
     "data": {
      "text/plain": [
       "{}"
      ]
     },
     "execution_count": 15,
     "metadata": {},
     "output_type": "execute_result"
    }
   ],
   "source": [
    "def_dict.__missing__('Evgen') #базовое значение == переданной фабрике при создание экзепляра класса (был dict у нас)"
   ]
  },
  {
   "cell_type": "code",
   "execution_count": 16,
   "metadata": {},
   "outputs": [],
   "source": [
    "def_dict['Evgen'] = 24"
   ]
  },
  {
   "cell_type": "code",
   "execution_count": 17,
   "metadata": {},
   "outputs": [
    {
     "data": {
      "text/plain": [
       "defaultdict(dict,\n",
       "            {'Artem': 30,\n",
       "             'Vlad': 24,\n",
       "             'Ekaterina': 18,\n",
       "             'Anna': 22,\n",
       "             'Evgen': 24})"
      ]
     },
     "execution_count": 17,
     "metadata": {},
     "output_type": "execute_result"
    }
   ],
   "source": [
    "def_dict"
   ]
  },
  {
   "cell_type": "code",
   "execution_count": 18,
   "metadata": {},
   "outputs": [
    {
     "data": {
      "text/plain": [
       "0"
      ]
     },
     "execution_count": 18,
     "metadata": {},
     "output_type": "execute_result"
    }
   ],
   "source": [
    "# сделать базовым значением 0\n",
    "def_dict = defaultdict(lambda: 0)\n",
    "def_dict['SomeName']\n",
    "def_dict.__missing__('SomeName') "
   ]
  },
  {
   "cell_type": "code",
   "execution_count": 19,
   "metadata": {},
   "outputs": [
    {
     "data": {
      "text/plain": [
       "False"
      ]
     },
     "execution_count": 19,
     "metadata": {},
     "output_type": "execute_result"
    }
   ],
   "source": [
    "# можно сделать функцию - базомы значением (то, что она возвращает)\n",
    "\n",
    "#функция\n",
    "def defaultvalue():\n",
    "    return False\n",
    "\n",
    "def_dict = defaultdict(defaultvalue)\n",
    "def_dict['SomeName']\n",
    "def_dict.__missing__('SomeName') "
   ]
  },
  {
   "cell_type": "code",
   "execution_count": 20,
   "metadata": {},
   "outputs": [
    {
     "data": {
      "text/plain": [
       "defaultdict(<function __main__.defaultvalue()>, {'SomeName': False, '212': 4})"
      ]
     },
     "execution_count": 20,
     "metadata": {},
     "output_type": "execute_result"
    }
   ],
   "source": [
    "def_dict['212'] = 4\n",
    "def_dict"
   ]
  },
  {
   "cell_type": "code",
   "execution_count": 21,
   "metadata": {},
   "outputs": [
    {
     "data": {
      "text/plain": [
       "defaultdict(<function __main__.defaultvalue()>, {'SomeName': False, '212': 4})"
      ]
     },
     "execution_count": 21,
     "metadata": {},
     "output_type": "execute_result"
    }
   ],
   "source": [
    "def_dict"
   ]
  },
  {
   "cell_type": "code",
   "execution_count": 22,
   "metadata": {},
   "outputs": [
    {
     "data": {
      "text/plain": [
       "defaultdict(list, {'a': [1], 'b': [2], 'c': [3]})"
      ]
     },
     "execution_count": 22,
     "metadata": {},
     "output_type": "execute_result"
    }
   ],
   "source": [
    "# значение в values может принимать те методы, бызовый класс который назначен defaultdict\n",
    "a=[('a',1),('b',2),('c',3)]\n",
    "b=defaultdict(list)\n",
    "for i,j in a:\n",
    "    b[i].append(j)\n",
    "b"
   ]
  },
  {
   "cell_type": "markdown",
   "metadata": {},
   "source": [
    "#### OrderedDict"
   ]
  },
  {
   "cell_type": "code",
   "execution_count": 26,
   "metadata": {},
   "outputs": [
    {
     "data": {
      "text/plain": [
       "OrderedDict([('Artem', 30), ('Vlad', 24), ('Ekaterina', 18), ('Anna', 22)])"
      ]
     },
     "execution_count": 26,
     "metadata": {},
     "output_type": "execute_result"
    }
   ],
   "source": [
    "# Отличный словарь, который запоминает последовательность\n",
    "ord_dict = OrderedDict()\n",
    "ord_dict['Artem'] = 30\n",
    "ord_dict['Vlad'] = 24\n",
    "ord_dict['Ekaterina'] = 18\n",
    "ord_dict['Anna'] = 22\n",
    "ord_dict"
   ]
  },
  {
   "cell_type": "code",
   "execution_count": 25,
   "metadata": {},
   "outputs": [],
   "source": [
    "# !запомним, именно последовательность, то есть порядок, когда элементы были добавлены в словарь"
   ]
  },
  {
   "cell_type": "code",
   "execution_count": 30,
   "metadata": {},
   "outputs": [
    {
     "data": {
      "text/plain": [
       "OrderedDict([('Vlad', 24), ('Ekaterina', 18), ('Anna', 22), ('Artem', 30)])"
      ]
     },
     "execution_count": 30,
     "metadata": {},
     "output_type": "execute_result"
    }
   ],
   "source": [
    "# из-за этого добавляется метод перемещения внутри словаря\n",
    "ord_dict.move_to_end('Artem')\n",
    "ord_dict"
   ]
  },
  {
   "cell_type": "code",
   "execution_count": 33,
   "metadata": {},
   "outputs": [
    {
     "data": {
      "text/plain": [
       "OrderedDict([('Artem', 30), ('Vlad', 24), ('Ekaterina', 18), ('Anna', 22)])"
      ]
     },
     "execution_count": 33,
     "metadata": {},
     "output_type": "execute_result"
    }
   ],
   "source": [
    "ord_dict.move_to_end('Artem', last = False)\n",
    "ord_dict"
   ]
  },
  {
   "cell_type": "markdown",
   "metadata": {},
   "source": [
    "### NamedTuple"
   ]
  },
  {
   "cell_type": "code",
   "execution_count": 36,
   "metadata": {},
   "outputs": [
    {
     "data": {
      "text/plain": [
       "__main__.car"
      ]
     },
     "execution_count": 36,
     "metadata": {},
     "output_type": "execute_result"
    }
   ],
   "source": [
    "# tuple с именами\n",
    "from collections import namedtuple\n",
    "\n",
    "car=namedtuple('car','type engine wheel color')\n",
    "car"
   ]
  },
  {
   "cell_type": "code",
   "execution_count": 37,
   "metadata": {},
   "outputs": [
    {
     "data": {
      "text/plain": [
       "car(type='Sport', engine='V8', wheel='20', color='Red')"
      ]
     },
     "execution_count": 37,
     "metadata": {},
     "output_type": "execute_result"
    }
   ],
   "source": [
    "theFastes = car('Sport', 'V8', '20', 'Red')\n",
    "theFastes"
   ]
  },
  {
   "cell_type": "code",
   "execution_count": 38,
   "metadata": {},
   "outputs": [
    {
     "data": {
      "text/plain": [
       "'Red'"
      ]
     },
     "execution_count": 38,
     "metadata": {},
     "output_type": "execute_result"
    }
   ],
   "source": [
    "# теперь мы можем обращатся по именам\n",
    "theFastes.color"
   ]
  },
  {
   "cell_type": "code",
   "execution_count": 41,
   "metadata": {},
   "outputs": [
    {
     "data": {
      "text/plain": [
       "'Red'"
      ]
     },
     "execution_count": 41,
     "metadata": {},
     "output_type": "execute_result"
    }
   ],
   "source": [
    "# внутри есть магические методы __getattr__\n",
    "# мы можем использовать и эти методы\n",
    "getattr(theFastes, 'color')"
   ]
  },
  {
   "cell_type": "code",
   "execution_count": 42,
   "metadata": {},
   "outputs": [
    {
     "data": {
      "text/plain": [
       "car(type='Lorry', engine='MP-12', wheel='30', color='White')"
      ]
     },
     "execution_count": 42,
     "metadata": {},
     "output_type": "execute_result"
    }
   ],
   "source": [
    "# namedTuple можно создать из любого итерируемого объекта\n",
    "car._make(['Lorry', 'MP-12', '30', 'White'])"
   ]
  },
  {
   "cell_type": "code",
   "execution_count": 45,
   "metadata": {},
   "outputs": [
    {
     "data": {
      "text/plain": [
       "car(type='Jeep', engine='None', wheel=10, color='Green')"
      ]
     },
     "execution_count": 45,
     "metadata": {},
     "output_type": "execute_result"
    }
   ],
   "source": [
    "car(**{'type':'Jeep','engine':'None','wheel':10, 'color': 'Green'})"
   ]
  },
  {
   "cell_type": "code",
   "execution_count": null,
   "metadata": {},
   "outputs": [],
   "source": [
    "# ! запомним, вы не можете явно менять значения\n",
    "theFastes.type = 'Jeep'"
   ]
  },
  {
   "cell_type": "code",
   "execution_count": 48,
   "metadata": {},
   "outputs": [
    {
     "data": {
      "text/plain": [
       "('type', 'engine', 'wheel', 'color')"
      ]
     },
     "execution_count": 48,
     "metadata": {},
     "output_type": "execute_result"
    }
   ],
   "source": [
    "# вы всегда можете использовать внутреннии методы для работы\n",
    "# получение имен полей\n",
    "car._fields"
   ]
  },
  {
   "cell_type": "code",
   "execution_count": 50,
   "metadata": {},
   "outputs": [
    {
     "data": {
      "text/plain": [
       "OrderedDict([('type', 'Sport'),\n",
       "             ('engine', 'V8'),\n",
       "             ('wheel', '20'),\n",
       "             ('color', 'Red')])"
      ]
     },
     "execution_count": 50,
     "metadata": {},
     "output_type": "execute_result"
    }
   ],
   "source": [
    "# из этого объекта всегда можно получить один из словарей\n",
    "theFastes._asdict()"
   ]
  },
  {
   "cell_type": "code",
   "execution_count": null,
   "metadata": {},
   "outputs": [],
   "source": []
  }
 ],
 "metadata": {
  "kernelspec": {
   "display_name": "Python 3",
   "language": "python",
   "name": "python3"
  },
  "language_info": {
   "codemirror_mode": {
    "name": "ipython",
    "version": 3
   },
   "file_extension": ".py",
   "mimetype": "text/x-python",
   "name": "python",
   "nbconvert_exporter": "python",
   "pygments_lexer": "ipython3",
   "version": "3.7.3"
  }
 },
 "nbformat": 4,
 "nbformat_minor": 2
}

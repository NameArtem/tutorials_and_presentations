{
 "cells": [
  {
   "cell_type": "markdown",
   "metadata": {},
   "source": [
    "<img src=\"https://static.dribbble.com/users/410907/screenshots/4531744/price_formation.gif\"/>\n",
    "\n",
    "# Определение цены товара\n",
    "***\n",
    "### Можем ли мы автоматически предлагать цену для нового товара или изменять её для пользователей?"
   ]
  },
  {
   "cell_type": "markdown",
   "metadata": {},
   "source": [
    "От чего только не зависит цена на товар: сезонность, бренд, доступность на рынке и все-все-все другое, что не только входит в конкретный товар, а даже его \"окружает\".\n",
    "\n",
    "Давайте погрузимся в мир ретейла и продаж, представим себе, что мы аналитики, которым поставили задачу построить такую модель, которая будет определять цену любого товара, который поступить. Но чтобы протестить вашу разработку, Ваша компания договорилась с платформой-\"онлайн-барахолкой\" для тестирования вашей модели. \n",
    "\n",
    "Платформа предложила свои исторические данные по тому, какую цену ставили пользователи, а также ваша компания \"замешала\" туда свои данные. У вас на руках данные, которые содержат: описание продукта, категории продукта, бренд и дополнительные детали. К несчастью (а может и нет), вы не знаете, где и какие данные.\n",
    "\n",
    "Ваша задача состоит из двух основных шагов:\n",
    "* **Сделать анализ данных**\n",
    "* **Построить модель автоматического определения цены**\n",
    "\n",
    "### Набор данных состоит из\n",
    "\n",
    "- **ID**: id предмета\n",
    "- **Name:** строка - наименование товара\n",
    "- **Item Condition:** внутреннее условие (назначается поставщиком товара)\n",
    "- **Category Name:** категория предмета\n",
    "- **Brand Name:** бренд (если имеется)\n",
    "- **Shipping:** доступна или нет доставка товара от поставщика\n",
    "- **Item Description:** полное описание товара\n",
    "- **Price:** фактическая цена за которую был продан товар (так как товар может торговаться по одной цене, а потом иметь скидки, тут указана цена именно продажи). В USD. Используем, как целевую переменную.\n",
    "\n",
    "### Основные способы обработки данных в тексте\n",
    "- **Удаление стоп слов:** удаление слов, которые много в тексте, но они не несут смысловой нагрузки\n",
    "\n",
    "- **Bag of Words: ** поиск среди слов основных носителей информации и преобразование их признаки \n",
    "\n",
    "- **TFIDF**: статистическая мера, используемая для оценки важности слова в контексте документа, являющегося частью коллекции документов или корпуса. Вес некоторого слова пропорционален частоте употребления этого слова в документе и обратно пропорционален частоте употребления слова во всех документах коллекции\n",
    "\n",
    "- **N-grams**: последовательность слов, которые можно воспринимать, как термин или категорию\n",
    "\n",
    "- **Лемматизация описания**: процесс приведения словоформы к лемме — её нормальной (словарной) форме\n",
    "\n",
    "- **Topic Models**: Тип обработки данные, которые ищет значимые последовательности\n",
    "\n",
    "\n",
    "# Ключевые точки, через которые пройдем\n",
    "***\n",
    "\n",
    "**Определение бизнес потребности данной работы** \n",
    "\n",
    "**Как обработать данные и приготовить их к работе с алгоритмом**\n",
    "\n",
    "**Как обработать текст в описании товара** \n",
    "\n",
    "**Как решить проблему автоматической определения цены**\n",
    "\n",
    "**Как измерить результат**\n",
    "\n",
    "**Как использовать данное решение** \n",
    "\n"
   ]
  },
  {
   "cell_type": "markdown",
   "metadata": {},
   "source": [
    "# Чем Вы заполните пустой ценник?"
   ]
  },
  {
   "cell_type": "markdown",
   "metadata": {},
   "source": [
    "<img src = \"img/BestPriceRed.jpg\"/>"
   ]
  },
  {
   "cell_type": "markdown",
   "metadata": {},
   "source": [
    "# Import Packages\n",
    "***"
   ]
  },
  {
   "cell_type": "code",
   "execution_count": 2,
   "metadata": {},
   "outputs": [],
   "source": [
    "import pandas as pd\n",
    "import numpy as np\n",
    "import matplotlib.pyplot as plt\n",
    "import seaborn as sns\n",
    "import gc"
   ]
  },
  {
   "cell_type": "code",
   "execution_count": 3,
   "metadata": {},
   "outputs": [],
   "source": [
    "from string import punctuation"
   ]
  },
  {
   "cell_type": "code",
   "execution_count": 4,
   "metadata": {},
   "outputs": [],
   "source": [
    "# vstack - добавляет строчки\n",
    "# hstack - добавляет колонки \n",
    "# csr_matrix - используем для работы с матрицей\n",
    "from scipy.sparse import vstack, hstack, csr_matrix"
   ]
  },
  {
   "cell_type": "code",
   "execution_count": 5,
   "metadata": {},
   "outputs": [],
   "source": [
    "# CountVectorizer - используется для расчтета частоты слов\n",
    "# TfidfVectorizer - используется для расчета TFIDF, функция, которая считает важность слов в предложении\n",
    "from sklearn.feature_extraction.text import CountVectorizer, TfidfVectorizer"
   ]
  },
  {
   "cell_type": "markdown",
   "metadata": {},
   "source": [
    "<img src=\"img/tfidf.png\"/>"
   ]
  },
  {
   "cell_type": "code",
   "execution_count": 6,
   "metadata": {},
   "outputs": [],
   "source": [
    "# LabelBinarizer - конвертация буквенных значений (категорий) в цифровые значения \"A,B,C\" -> [1,2,3]\n",
    "from sklearn.preprocessing import LabelBinarizer"
   ]
  },
  {
   "cell_type": "code",
   "execution_count": 7,
   "metadata": {},
   "outputs": [],
   "source": [
    "# Ridge - используем для уменьшения мультиколлиальности в регрессии (L2 Regularization)\n",
    "from sklearn.linear_model import Ridge"
   ]
  },
  {
   "cell_type": "markdown",
   "metadata": {},
   "source": [
    "<img src=\"img/ridgeReg.png\"/>"
   ]
  },
  {
   "cell_type": "markdown",
   "metadata": {},
   "source": [
    "# Import Train / Test Data\n",
    "***"
   ]
  },
  {
   "cell_type": "code",
   "execution_count": 12,
   "metadata": {
    "scrolled": true
   },
   "outputs": [
    {
     "data": {
      "text/html": [
       "<div>\n",
       "<style scoped>\n",
       "    .dataframe tbody tr th:only-of-type {\n",
       "        vertical-align: middle;\n",
       "    }\n",
       "\n",
       "    .dataframe tbody tr th {\n",
       "        vertical-align: top;\n",
       "    }\n",
       "\n",
       "    .dataframe thead th {\n",
       "        text-align: right;\n",
       "    }\n",
       "</style>\n",
       "<table border=\"1\" class=\"dataframe\">\n",
       "  <thead>\n",
       "    <tr style=\"text-align: right;\">\n",
       "      <th></th>\n",
       "      <th>train_id</th>\n",
       "      <th>name</th>\n",
       "      <th>item_condition_id</th>\n",
       "      <th>category_name</th>\n",
       "      <th>brand_name</th>\n",
       "      <th>price</th>\n",
       "      <th>shipping</th>\n",
       "      <th>item_description</th>\n",
       "    </tr>\n",
       "  </thead>\n",
       "  <tbody>\n",
       "    <tr>\n",
       "      <th>0</th>\n",
       "      <td>0</td>\n",
       "      <td>MLB Cincinnati Reds T Shirt Size XL</td>\n",
       "      <td>3</td>\n",
       "      <td>Men/Tops/T-shirts</td>\n",
       "      <td>NaN</td>\n",
       "      <td>10.0</td>\n",
       "      <td>1</td>\n",
       "      <td>No description yet</td>\n",
       "    </tr>\n",
       "    <tr>\n",
       "      <th>1</th>\n",
       "      <td>1</td>\n",
       "      <td>Razer BlackWidow Chroma Keyboard</td>\n",
       "      <td>3</td>\n",
       "      <td>Electronics/Computers &amp; Tablets/Components &amp; P...</td>\n",
       "      <td>Razer</td>\n",
       "      <td>52.0</td>\n",
       "      <td>0</td>\n",
       "      <td>This keyboard is in great condition and works ...</td>\n",
       "    </tr>\n",
       "    <tr>\n",
       "      <th>2</th>\n",
       "      <td>2</td>\n",
       "      <td>AVA-VIV Blouse</td>\n",
       "      <td>1</td>\n",
       "      <td>Women/Tops &amp; Blouses/Blouse</td>\n",
       "      <td>Target</td>\n",
       "      <td>10.0</td>\n",
       "      <td>1</td>\n",
       "      <td>Adorable top with a hint of lace and a key hol...</td>\n",
       "    </tr>\n",
       "    <tr>\n",
       "      <th>3</th>\n",
       "      <td>3</td>\n",
       "      <td>Leather Horse Statues</td>\n",
       "      <td>1</td>\n",
       "      <td>Home/Home Décor/Home Décor Accents</td>\n",
       "      <td>NaN</td>\n",
       "      <td>35.0</td>\n",
       "      <td>1</td>\n",
       "      <td>New with tags. Leather horses. Retail for [rm]...</td>\n",
       "    </tr>\n",
       "    <tr>\n",
       "      <th>4</th>\n",
       "      <td>4</td>\n",
       "      <td>24K GOLD plated rose</td>\n",
       "      <td>1</td>\n",
       "      <td>Women/Jewelry/Necklaces</td>\n",
       "      <td>NaN</td>\n",
       "      <td>44.0</td>\n",
       "      <td>0</td>\n",
       "      <td>Complete with certificate of authenticity</td>\n",
       "    </tr>\n",
       "  </tbody>\n",
       "</table>\n",
       "</div>"
      ],
      "text/plain": [
       "   train_id                                 name  item_condition_id  \\\n",
       "0         0  MLB Cincinnati Reds T Shirt Size XL                  3   \n",
       "1         1     Razer BlackWidow Chroma Keyboard                  3   \n",
       "2         2                       AVA-VIV Blouse                  1   \n",
       "3         3                Leather Horse Statues                  1   \n",
       "4         4                 24K GOLD plated rose                  1   \n",
       "\n",
       "                                       category_name brand_name  price  \\\n",
       "0                                  Men/Tops/T-shirts        NaN   10.0   \n",
       "1  Electronics/Computers & Tablets/Components & P...      Razer   52.0   \n",
       "2                        Women/Tops & Blouses/Blouse     Target   10.0   \n",
       "3                 Home/Home Décor/Home Décor Accents        NaN   35.0   \n",
       "4                            Women/Jewelry/Necklaces        NaN   44.0   \n",
       "\n",
       "   shipping                                   item_description  \n",
       "0         1                                 No description yet  \n",
       "1         0  This keyboard is in great condition and works ...  \n",
       "2         1  Adorable top with a hint of lace and a key hol...  \n",
       "3         1  New with tags. Leather horses. Retail for [rm]...  \n",
       "4         0          Complete with certificate of authenticity  "
      ]
     },
     "execution_count": 12,
     "metadata": {},
     "output_type": "execute_result"
    }
   ],
   "source": [
    "# Загружаем данные\n",
    "train = pd.read_csv('data/train/train.tsv', sep = '\\t', nrows = 100)\n",
    "train.head()"
   ]
  },
  {
   "cell_type": "code",
   "execution_count": 20,
   "metadata": {},
   "outputs": [
    {
     "data": {
      "text/html": [
       "<div>\n",
       "<style scoped>\n",
       "    .dataframe tbody tr th:only-of-type {\n",
       "        vertical-align: middle;\n",
       "    }\n",
       "\n",
       "    .dataframe tbody tr th {\n",
       "        vertical-align: top;\n",
       "    }\n",
       "\n",
       "    .dataframe thead th {\n",
       "        text-align: right;\n",
       "    }\n",
       "</style>\n",
       "<table border=\"1\" class=\"dataframe\">\n",
       "  <thead>\n",
       "    <tr style=\"text-align: right;\">\n",
       "      <th></th>\n",
       "      <th>test_id</th>\n",
       "      <th>name</th>\n",
       "      <th>item_condition_id</th>\n",
       "      <th>category_name</th>\n",
       "      <th>brand_name</th>\n",
       "      <th>shipping</th>\n",
       "      <th>item_description</th>\n",
       "    </tr>\n",
       "  </thead>\n",
       "  <tbody>\n",
       "    <tr>\n",
       "      <th>0</th>\n",
       "      <td>0</td>\n",
       "      <td>Breast cancer \"I fight like a girl\" ring</td>\n",
       "      <td>1</td>\n",
       "      <td>Women/Jewelry/Rings</td>\n",
       "      <td>NaN</td>\n",
       "      <td>1</td>\n",
       "      <td>Size 7</td>\n",
       "    </tr>\n",
       "    <tr>\n",
       "      <th>1</th>\n",
       "      <td>1</td>\n",
       "      <td>25 pcs NEW 7.5\"x12\" Kraft Bubble Mailers</td>\n",
       "      <td>1</td>\n",
       "      <td>Other/Office supplies/Shipping Supplies</td>\n",
       "      <td>NaN</td>\n",
       "      <td>1</td>\n",
       "      <td>25 pcs NEW 7.5\"x12\" Kraft Bubble Mailers Lined...</td>\n",
       "    </tr>\n",
       "    <tr>\n",
       "      <th>2</th>\n",
       "      <td>2</td>\n",
       "      <td>Coach bag</td>\n",
       "      <td>1</td>\n",
       "      <td>Vintage &amp; Collectibles/Bags and Purses/Handbag</td>\n",
       "      <td>Coach</td>\n",
       "      <td>1</td>\n",
       "      <td>Brand new coach bag. Bought for [rm] at a Coac...</td>\n",
       "    </tr>\n",
       "    <tr>\n",
       "      <th>3</th>\n",
       "      <td>3</td>\n",
       "      <td>Floral Kimono</td>\n",
       "      <td>2</td>\n",
       "      <td>Women/Sweaters/Cardigan</td>\n",
       "      <td>NaN</td>\n",
       "      <td>0</td>\n",
       "      <td>-floral kimono -never worn -lightweight and pe...</td>\n",
       "    </tr>\n",
       "    <tr>\n",
       "      <th>4</th>\n",
       "      <td>4</td>\n",
       "      <td>Life after Death</td>\n",
       "      <td>3</td>\n",
       "      <td>Other/Books/Religion &amp; Spirituality</td>\n",
       "      <td>NaN</td>\n",
       "      <td>1</td>\n",
       "      <td>Rediscovering life after the loss of a loved o...</td>\n",
       "    </tr>\n",
       "  </tbody>\n",
       "</table>\n",
       "</div>"
      ],
      "text/plain": [
       "   test_id                                      name  item_condition_id  \\\n",
       "0        0  Breast cancer \"I fight like a girl\" ring                  1   \n",
       "1        1  25 pcs NEW 7.5\"x12\" Kraft Bubble Mailers                  1   \n",
       "2        2                                 Coach bag                  1   \n",
       "3        3                             Floral Kimono                  2   \n",
       "4        4                          Life after Death                  3   \n",
       "\n",
       "                                    category_name brand_name  shipping  \\\n",
       "0                             Women/Jewelry/Rings        NaN         1   \n",
       "1         Other/Office supplies/Shipping Supplies        NaN         1   \n",
       "2  Vintage & Collectibles/Bags and Purses/Handbag      Coach         1   \n",
       "3                         Women/Sweaters/Cardigan        NaN         0   \n",
       "4             Other/Books/Religion & Spirituality        NaN         1   \n",
       "\n",
       "                                    item_description  \n",
       "0                                             Size 7  \n",
       "1  25 pcs NEW 7.5\"x12\" Kraft Bubble Mailers Lined...  \n",
       "2  Brand new coach bag. Bought for [rm] at a Coac...  \n",
       "3  -floral kimono -never worn -lightweight and pe...  \n",
       "4  Rediscovering life after the loss of a loved o...  "
      ]
     },
     "execution_count": 20,
     "metadata": {},
     "output_type": "execute_result"
    }
   ],
   "source": [
    "# загружаем данные теста\n",
    "test = pd.read_csv('data/test/test.tsv', sep = '\\t',engine = 'python', nrows=100)\n",
    "test.head()"
   ]
  },
  {
   "cell_type": "code",
   "execution_count": 16,
   "metadata": {},
   "outputs": [
    {
     "data": {
      "text/plain": [
       "0     10.0\n",
       "1     52.0\n",
       "2     10.0\n",
       "3     35.0\n",
       "4     44.0\n",
       "      ... \n",
       "95     9.0\n",
       "96    81.0\n",
       "97     9.0\n",
       "98    49.0\n",
       "99    44.0\n",
       "Name: price, Length: 100, dtype: float64"
      ]
     },
     "execution_count": 16,
     "metadata": {},
     "output_type": "execute_result"
    }
   ],
   "source": [
    "# какую мы видим проблему?!\n",
    "train['price']"
   ]
  },
  {
   "cell_type": "code",
   "execution_count": null,
   "metadata": {},
   "outputs": [],
   "source": [
    "# объяснения про цену и её обработку"
   ]
  },
  {
   "cell_type": "code",
   "execution_count": 17,
   "metadata": {},
   "outputs": [],
   "source": [
    "# одно из решений (Transformation), а какие ещё ?\n",
    "y = np.log1p(train['price'])"
   ]
  },
  {
   "cell_type": "markdown",
   "metadata": {},
   "source": [
    "# Соединение выборок Test / Train\n",
    "***"
   ]
  },
  {
   "cell_type": "code",
   "execution_count": 27,
   "metadata": {},
   "outputs": [
    {
     "data": {
      "text/plain": [
       "100"
      ]
     },
     "execution_count": 27,
     "metadata": {},
     "output_type": "execute_result"
    }
   ],
   "source": [
    "# соединим два набор в один\n",
    "combined = pd.concat([train,test])\n",
    "\n",
    "# почему этот метод? Какие ещё есть?\n",
    "#combined.head()\n",
    "\n",
    "# сохраним только тест\n",
    "#tst = test[['test_id']]\n",
    "\n",
    "# получим кол-во строк в train\n",
    "train_size = train.shape[0] #len(train)\n",
    "train_size"
   ]
  },
  {
   "cell_type": "code",
   "execution_count": 28,
   "metadata": {},
   "outputs": [
    {
     "data": {
      "text/plain": [
       "(200, 9)"
      ]
     },
     "execution_count": 28,
     "metadata": {},
     "output_type": "execute_result"
    }
   ],
   "source": [
    "combined.shape"
   ]
  },
  {
   "cell_type": "code",
   "execution_count": 29,
   "metadata": {},
   "outputs": [],
   "source": [
    "# отбор сэмпла\n",
    "combined_ML = combined.sample(frac=0.1).reset_index(drop=True)"
   ]
  },
  {
   "cell_type": "code",
   "execution_count": 30,
   "metadata": {},
   "outputs": [
    {
     "data": {
      "text/plain": [
       "(20, 9)"
      ]
     },
     "execution_count": 30,
     "metadata": {},
     "output_type": "execute_result"
    }
   ],
   "source": [
    "combined_ML.shape"
   ]
  },
  {
   "cell_type": "markdown",
   "metadata": {},
   "source": [
    "# Как начать анализ\n",
    "\n",
    "### Или как научиться есть пирог\n",
    "\n",
    "<img src=\"img/piechartdr.jpg\"/>"
   ]
  },
  {
   "cell_type": "markdown",
   "metadata": {},
   "source": [
    "# Обработка текста (самый большой кусок)\n",
    "***\n",
    "\n",
    "a. удаляем пунктуацию\n",
    "\n",
    "b. удаляем цифры\n",
    "\n",
    "c. ищем и удаляем \"стоп-слова\"\n",
    "\n",
    "d. приводим все слов к единому значению\n",
    "\n",
    "e. приводим к \"нормальной словарной форме\" (Лемматизация) / оставляем только общую часть от слова и его форм (стемминг)"
   ]
  },
  {
   "cell_type": "markdown",
   "metadata": {},
   "source": [
    "##  удаляем пунктуацию"
   ]
  },
  {
   "cell_type": "code",
   "execution_count": 31,
   "metadata": {},
   "outputs": [
    {
     "data": {
      "text/plain": [
       "'!\"#$%&\\'()*+,-./:;<=>?@[\\\\]^_`{|}~'"
      ]
     },
     "execution_count": 31,
     "metadata": {},
     "output_type": "execute_result"
    }
   ],
   "source": [
    "punctuation"
   ]
  },
  {
   "cell_type": "code",
   "execution_count": 32,
   "metadata": {},
   "outputs": [
    {
     "data": {
      "text/plain": [
       "[('!', ''),\n",
       " ('\"', ''),\n",
       " ('#', ''),\n",
       " ('$', ''),\n",
       " ('%', ''),\n",
       " ('&', ''),\n",
       " (\"'\", ''),\n",
       " ('(', ''),\n",
       " (')', ''),\n",
       " ('*', ''),\n",
       " ('+', ''),\n",
       " (',', ''),\n",
       " ('-', ''),\n",
       " ('.', ''),\n",
       " ('/', ''),\n",
       " (':', ''),\n",
       " (';', ''),\n",
       " ('<', ''),\n",
       " ('=', ''),\n",
       " ('>', ''),\n",
       " ('?', ''),\n",
       " ('@', ''),\n",
       " ('[', ''),\n",
       " ('\\\\', ''),\n",
       " (']', ''),\n",
       " ('^', ''),\n",
       " ('_', ''),\n",
       " ('`', ''),\n",
       " ('{', ''),\n",
       " ('|', ''),\n",
       " ('}', ''),\n",
       " ('~', '')]"
      ]
     },
     "execution_count": 32,
     "metadata": {},
     "output_type": "execute_result"
    }
   ],
   "source": [
    "# создаем список для замены \n",
    "punctuation_symbols = []\n",
    "for symbol in punctuation:\n",
    "    punctuation_symbols.append((symbol, ''))\n",
    "    \n",
    "punctuation_symbols"
   ]
  },
  {
   "cell_type": "markdown",
   "metadata": {},
   "source": [
    "**замена пунктуации**"
   ]
  },
  {
   "cell_type": "code",
   "execution_count": 33,
   "metadata": {},
   "outputs": [],
   "source": [
    "import string\n",
    "def remove_punctuation(sentence):  #str -> str\n",
    "    return sentence.translate(str.maketrans('', '', string.punctuation))"
   ]
  },
  {
   "cell_type": "markdown",
   "metadata": {},
   "source": [
    "###  удаление чисел"
   ]
  },
  {
   "cell_type": "code",
   "execution_count": 34,
   "metadata": {},
   "outputs": [],
   "source": [
    "def remove_digits(x):\n",
    "    x = ''.join([i for i in x if not i.isdigit()]) #обсуждение: надо делать? Почему? Какие ещё варианты?\n",
    "    return x"
   ]
  },
  {
   "cell_type": "markdown",
   "metadata": {},
   "source": [
    "### удаление стоп слов"
   ]
  },
  {
   "cell_type": "code",
   "execution_count": null,
   "metadata": {},
   "outputs": [],
   "source": [
    "# есть библиотека - помощник\n",
    "from nltk.corpus import stopwords\n",
    "\n",
    "stop = stopwords.words('english')\n",
    "\n",
    "def remove_stop_words(x):\n",
    "    x = ' '.join([i for i in x.lower().split(' ') if i not in stop])\n",
    "    return x"
   ]
  },
  {
   "cell_type": "markdown",
   "metadata": {},
   "source": [
    "#### переводим в нижний регистр"
   ]
  },
  {
   "cell_type": "code",
   "execution_count": 36,
   "metadata": {},
   "outputs": [],
   "source": [
    "def to_lower(x):\n",
    "    return x.lower()"
   ]
  },
  {
   "cell_type": "markdown",
   "metadata": {},
   "source": [
    "# Исследуем данные\n",
    "***"
   ]
  },
  {
   "cell_type": "markdown",
   "metadata": {},
   "source": [
    "**Пропущенные значения в столбцах:**\n",
    "- Category_name\n",
    "- Brand_name\n",
    "- Item_description"
   ]
  },
  {
   "cell_type": "markdown",
   "metadata": {},
   "source": [
    "**Категориальные переменные (сделаем их кодировку):** \n",
    "- name\n",
    "- category_name\n",
    "- brand_name\n",
    "- item_description\n",
    "\n",
    "\n",
    "+++ обсуждение способов кодировки и их представление (возможно совместное составление новых методо). Дискуссия на темы: LabelEncoding, OHE, Target Encoding, Cross - Fold, Leave - One - Out.\n",
    "\n",
    "+++ Есть ли специальная реализация алгоритма МЛ для работы с категориями?"
   ]
  },
  {
   "cell_type": "markdown",
   "metadata": {},
   "source": [
    "**Проверка на пропуски**"
   ]
  },
  {
   "cell_type": "code",
   "execution_count": 20,
   "metadata": {
    "scrolled": false
   },
   "outputs": [
    {
     "data": {
      "text/plain": [
       "train_id             593376\n",
       "name                 593376\n",
       "item_condition_id    593376\n",
       "category_name        590835\n",
       "brand_name           340359\n",
       "price                593376\n",
       "shipping             593376\n",
       "item_description     593375\n",
       "dtype: int64"
      ]
     },
     "execution_count": 20,
     "metadata": {},
     "output_type": "execute_result"
    }
   ],
   "source": [
    "train.count()"
   ]
  },
  {
   "cell_type": "markdown",
   "metadata": {},
   "source": [
    "**Типы данных**"
   ]
  },
  {
   "cell_type": "code",
   "execution_count": 21,
   "metadata": {
    "scrolled": true
   },
   "outputs": [
    {
     "data": {
      "text/plain": [
       "train_id               int64\n",
       "name                  object\n",
       "item_condition_id      int64\n",
       "category_name         object\n",
       "brand_name            object\n",
       "price                float64\n",
       "shipping               int64\n",
       "item_description      object\n",
       "dtype: object"
      ]
     },
     "execution_count": 21,
     "metadata": {},
     "output_type": "execute_result"
    }
   ],
   "source": [
    "train.dtypes"
   ]
  },
  {
   "cell_type": "markdown",
   "metadata": {},
   "source": [
    "## Смотрим распределение цены на исторических данных\n",
    "***\n",
    "\n",
    "**Почему цена изменяется?**\n",
    "- Количество поставки\n",
    "- Бренд\n",
    "- Фабричное / ручное изготовление\n",
    "- \"Качественный\" товар\n",
    "- Условия взаимодействия с товаром\n"
   ]
  },
  {
   "cell_type": "markdown",
   "metadata": {},
   "source": [
    "**Обзор данных:**\n",
    "- Средняя стоимость товара **26 USD**\n",
    "- Медиана **17 USD**\n",
    "- Максимальная цена товара **2000 USD**\n",
    "\n",
    "\n",
    "\n",
    "++ Мы видем, что наши данные смещены (медиана и стреднее не одно и тоже значение), что это значит? Как это использовать?"
   ]
  },
  {
   "cell_type": "markdown",
   "metadata": {},
   "source": [
    "<img src='img/skew.ppm'>"
   ]
  },
  {
   "cell_type": "code",
   "execution_count": 22,
   "metadata": {
    "scrolled": true
   },
   "outputs": [
    {
     "data": {
      "text/plain": [
       "count    593376.000000\n",
       "mean         26.689003\n",
       "std          38.340061\n",
       "min           0.000000\n",
       "25%          10.000000\n",
       "50%          17.000000\n",
       "75%          29.000000\n",
       "max        2000.000000\n",
       "Name: price, dtype: float64"
      ]
     },
     "execution_count": 22,
     "metadata": {},
     "output_type": "execute_result"
    }
   ],
   "source": [
    "train.price.describe()"
   ]
  },
  {
   "cell_type": "code",
   "execution_count": 23,
   "metadata": {},
   "outputs": [
    {
     "data": {
      "text/html": [
       "<div>\n",
       "<style>\n",
       "    .dataframe thead tr:only-child th {\n",
       "        text-align: right;\n",
       "    }\n",
       "\n",
       "    .dataframe thead th {\n",
       "        text-align: left;\n",
       "    }\n",
       "\n",
       "    .dataframe tbody tr th {\n",
       "        vertical-align: top;\n",
       "    }\n",
       "</style>\n",
       "<table border=\"1\" class=\"dataframe\">\n",
       "  <thead>\n",
       "    <tr style=\"text-align: right;\">\n",
       "      <th></th>\n",
       "      <th>count</th>\n",
       "      <th>mean</th>\n",
       "      <th>std</th>\n",
       "      <th>min</th>\n",
       "      <th>25%</th>\n",
       "      <th>50%</th>\n",
       "      <th>75%</th>\n",
       "      <th>max</th>\n",
       "    </tr>\n",
       "    <tr>\n",
       "      <th>price_bin</th>\n",
       "      <th></th>\n",
       "      <th></th>\n",
       "      <th></th>\n",
       "      <th></th>\n",
       "      <th></th>\n",
       "      <th></th>\n",
       "      <th></th>\n",
       "      <th></th>\n",
       "    </tr>\n",
       "  </thead>\n",
       "  <tbody>\n",
       "    <tr>\n",
       "      <th>q1</th>\n",
       "      <td>149944.0</td>\n",
       "      <td>7.710178</td>\n",
       "      <td>2.083100</td>\n",
       "      <td>3.0</td>\n",
       "      <td>6.0</td>\n",
       "      <td>8.0</td>\n",
       "      <td>10.0</td>\n",
       "      <td>10.0</td>\n",
       "    </tr>\n",
       "    <tr>\n",
       "      <th>q2</th>\n",
       "      <td>151863.0</td>\n",
       "      <td>13.834845</td>\n",
       "      <td>1.795258</td>\n",
       "      <td>10.5</td>\n",
       "      <td>12.0</td>\n",
       "      <td>14.0</td>\n",
       "      <td>15.0</td>\n",
       "      <td>17.0</td>\n",
       "    </tr>\n",
       "    <tr>\n",
       "      <th>q3</th>\n",
       "      <td>144043.0</td>\n",
       "      <td>22.539551</td>\n",
       "      <td>3.335075</td>\n",
       "      <td>17.5</td>\n",
       "      <td>20.0</td>\n",
       "      <td>22.0</td>\n",
       "      <td>25.0</td>\n",
       "      <td>29.0</td>\n",
       "    </tr>\n",
       "    <tr>\n",
       "      <th>q4</th>\n",
       "      <td>147215.0</td>\n",
       "      <td>63.396077</td>\n",
       "      <td>63.271190</td>\n",
       "      <td>30.0</td>\n",
       "      <td>35.0</td>\n",
       "      <td>45.0</td>\n",
       "      <td>66.0</td>\n",
       "      <td>2000.0</td>\n",
       "    </tr>\n",
       "  </tbody>\n",
       "</table>\n",
       "</div>"
      ],
      "text/plain": [
       "              count       mean        std   min   25%   50%   75%     max\n",
       "price_bin                                                                \n",
       "q1         149944.0   7.710178   2.083100   3.0   6.0   8.0  10.0    10.0\n",
       "q2         151863.0  13.834845   1.795258  10.5  12.0  14.0  15.0    17.0\n",
       "q3         144043.0  22.539551   3.335075  17.5  20.0  22.0  25.0    29.0\n",
       "q4         147215.0  63.396077  63.271190  30.0  35.0  45.0  66.0  2000.0"
      ]
     },
     "execution_count": 23,
     "metadata": {},
     "output_type": "execute_result"
    }
   ],
   "source": [
    "# Сделаем разбивку цены товара на квантили и посмотрим распределение на каждом из них\n",
    "\n",
    "bins = [0, 10, 17, 29, 2001]\n",
    "labels = ['q1','q2','q3','q4']\n",
    "train['price_bin'] = pd.cut(train['price'], bins=bins, labels=labels)\n",
    "train.groupby('price_bin')['price'].describe()"
   ]
  },
  {
   "cell_type": "code",
   "execution_count": 24,
   "metadata": {},
   "outputs": [
    {
     "data": {
      "image/png": "[encoded data removed]",
      "text/plain": [
       "<matplotlib.figure.Figure at 0x27d862ac518>"
      ]
     },
     "metadata": {},
     "output_type": "display_data"
    }
   ],
   "source": [
    "# визуализируем данные (какой лучший способ?)\n",
    "plt.figure(figsize=(12, 7))\n",
    "plt.hist(train['price'], bins=50, range=[0,250], label='price')\n",
    "plt.title('Price Distribution', fontsize=15)\n",
    "plt.xlabel('Price', fontsize=15)\n",
    "plt.ylabel('Samples', fontsize=15)\n",
    "plt.xticks(fontsize=15)\n",
    "plt.yticks(fontsize=15)\n",
    "plt.legend(fontsize=15)\n",
    "plt.show()"
   ]
  },
  {
   "cell_type": "code",
   "execution_count": 25,
   "metadata": {
    "scrolled": false
   },
   "outputs": [
    {
     "data": {
      "image/png": "[encoded data removed]",
      "text/plain": [
       "<matplotlib.figure.Figure at 0x27d86c1d198>"
      ]
     },
     "metadata": {},
     "output_type": "display_data"
    }
   ],
   "source": [
    "# сделаем разбивку по параметру (например доставка) и посмотрим распределение\n",
    "# какой ещё параметр можно использовать?\n",
    "\n",
    "shipping = train[train['shipping']==1]['price']\n",
    "no_shipping = train[train['shipping']==0]['price']\n",
    "\n",
    "plt.figure(figsize=(12,7))\n",
    "plt.hist(shipping, bins=50, normed=True, range=[0,250], alpha=0.7, label='Price With Shipping')\n",
    "plt.hist(no_shipping, bins=50, normed=True, range=[0,250], alpha=0.7, label='Price With No Shipping')\n",
    "plt.title('Price Distrubtion With/Without Shipping', fontsize=15)\n",
    "plt.xlabel('Price')\n",
    "plt.ylabel('Normalized Samples')\n",
    "plt.xticks(fontsize=15)\n",
    "plt.yticks(fontsize=15)\n",
    "plt.legend(fontsize=15)\n",
    "plt.show()"
   ]
  },
  {
   "cell_type": "markdown",
   "metadata": {},
   "source": [
    "## Анализ бренда товара\n",
    "***"
   ]
  },
  {
   "cell_type": "code",
   "execution_count": 26,
   "metadata": {
    "scrolled": false
   },
   "outputs": [
    {
     "data": {
      "text/plain": [
       "3751"
      ]
     },
     "execution_count": 26,
     "metadata": {},
     "output_type": "execute_result"
    }
   ],
   "source": [
    "# Получим уникальные бренды\n",
    "train['brand_name'].nunique()"
   ]
  },
  {
   "cell_type": "code",
   "execution_count": 27,
   "metadata": {},
   "outputs": [
    {
     "data": {
      "image/png": "[encoded data removed]",
      "text/plain": [
       "<matplotlib.figure.Figure at 0x27d8636e9e8>"
      ]
     },
     "metadata": {},
     "output_type": "display_data"
    }
   ],
   "source": [
    "# Top 20\n",
    "b20 = train['brand_name'].value_counts()[0:20].reset_index().rename(columns={'index': 'brand_name', 'brand_name':'count'})\n",
    "ax = sns.barplot(x=\"brand_name\", y=\"count\", data=b20)\n",
    "ax.set_xticklabels(ax.get_xticklabels(),rotation=90)\n",
    "ax.set_title('Top 20 Brand Distribution', fontsize=15)\n",
    "plt.show()"
   ]
  },
  {
   "cell_type": "code",
   "execution_count": 28,
   "metadata": {},
   "outputs": [
    {
     "data": {
      "image/png": "[encoded data removed]",
      "text/plain": [
       "<matplotlib.figure.Figure at 0x27d87232588>"
      ]
     },
     "metadata": {},
     "output_type": "display_data"
    },
    {
     "data": {
      "text/plain": [
       "PINK                 0.063659\n",
       "Nike                 0.062687\n",
       "Victoria's Secret    0.056910\n",
       "LuLaRoe              0.036462\n",
       "Apple                0.020337\n",
       "Nintendo             0.017958\n",
       "FOREVER 21           0.017649\n",
       "Lululemon            0.017047\n",
       "Michael Kors         0.016415\n",
       "American Eagle       0.015604\n",
       "Rae Dunn             0.014676\n",
       "Sephora              0.014303\n",
       "Coach                0.012372\n",
       "Adidas               0.012311\n",
       "Bath & Body Works    0.012167\n",
       "Disney               0.012014\n",
       "Funko                0.011030\n",
       "Under Armour         0.009807\n",
       "Sony                 0.009587\n",
       "Old Navy             0.009208\n",
       "Hollister            0.008106\n",
       "Carter's             0.007698\n",
       "Urban Decay          0.007383\n",
       "The North Face       0.007110\n",
       "Too Faced            0.006828\n",
       "Xbox                 0.006728\n",
       "Independent          0.006711\n",
       "MAC                  0.006514\n",
       "Brandy Melville      0.006464\n",
       "Kate Spade           0.006396\n",
       "                       ...   \n",
       "Sock It to Me        0.000003\n",
       "Cocomo               0.000003\n",
       "Onque Casuals        0.000003\n",
       "Kaii                 0.000003\n",
       "GoGroove Pal         0.000003\n",
       "Com                  0.000003\n",
       "Honda                0.000003\n",
       "White + Warren       0.000003\n",
       "Elomi                0.000003\n",
       "Mecca                0.000003\n",
       "Lulu Frost           0.000003\n",
       "True Rock            0.000003\n",
       "Christian Lacroix    0.000003\n",
       "Acne Jeans           0.000003\n",
       "First Act            0.000003\n",
       "Neil Allyn           0.000003\n",
       "Foundry              0.000003\n",
       "Dog MD               0.000003\n",
       "Armani Exchange      0.000003\n",
       "Oxford Golf          0.000003\n",
       "Yakima               0.000003\n",
       "Bacco Bucci          0.000003\n",
       "Bostonian            0.000003\n",
       "BedHead              0.000003\n",
       "Moose Mountain       0.000003\n",
       "Tootsie              0.000003\n",
       "Catit                0.000003\n",
       "Lisa Maree           0.000003\n",
       "Ecco Bella           0.000003\n",
       "Custo Barcelona      0.000003\n",
       "Name: brand_name, Length: 3751, dtype: float64"
      ]
     },
     "execution_count": 28,
     "metadata": {},
     "output_type": "execute_result"
    }
   ],
   "source": [
    "# Сделаем обзор топ 20 и их стредюю цену\n",
    "top20_brand = train.groupby('brand_name', axis=0).mean()\n",
    "df_expPrice = pd.DataFrame(top20_brand.sort_values('price', ascending = False)['price'][0:20].reset_index())\n",
    "\n",
    "\n",
    "ax = sns.barplot(x=\"brand_name\", y=\"price\", data=df_expPrice)\n",
    "ax.set_xticklabels(ax.get_xticklabels(),rotation=90, fontsize=15)\n",
    "ax.set_title('Top 20 Expensive Brand', fontsize=15)\n",
    "plt.xticks(fontsize=15)\n",
    "plt.yticks(fontsize=15)\n",
    "plt.show()\n",
    "train['brand_name'].value_counts(1)"
   ]
  },
  {
   "cell_type": "markdown",
   "metadata": {},
   "source": [
    "# Обзор категорий товара\n",
    "***"
   ]
  },
  {
   "cell_type": "code",
   "execution_count": 29,
   "metadata": {},
   "outputs": [
    {
     "data": {
      "text/html": [
       "<div>\n",
       "<style>\n",
       "    .dataframe thead tr:only-child th {\n",
       "        text-align: right;\n",
       "    }\n",
       "\n",
       "    .dataframe thead th {\n",
       "        text-align: left;\n",
       "    }\n",
       "\n",
       "    .dataframe tbody tr th {\n",
       "        vertical-align: top;\n",
       "    }\n",
       "</style>\n",
       "<table border=\"1\" class=\"dataframe\">\n",
       "  <thead>\n",
       "    <tr style=\"text-align: right;\">\n",
       "      <th></th>\n",
       "      <th>category_main</th>\n",
       "      <th>category_sub1</th>\n",
       "      <th>category_sub2</th>\n",
       "      <th>price</th>\n",
       "    </tr>\n",
       "  </thead>\n",
       "  <tbody>\n",
       "    <tr>\n",
       "      <th>0</th>\n",
       "      <td>Men</td>\n",
       "      <td>Tops</td>\n",
       "      <td>T-shirts</td>\n",
       "      <td>10.0</td>\n",
       "    </tr>\n",
       "    <tr>\n",
       "      <th>1</th>\n",
       "      <td>Electronics</td>\n",
       "      <td>Computers &amp; Tablets</td>\n",
       "      <td>Components &amp; Parts</td>\n",
       "      <td>52.0</td>\n",
       "    </tr>\n",
       "    <tr>\n",
       "      <th>2</th>\n",
       "      <td>Women</td>\n",
       "      <td>Tops &amp; Blouses</td>\n",
       "      <td>Blouse</td>\n",
       "      <td>10.0</td>\n",
       "    </tr>\n",
       "    <tr>\n",
       "      <th>3</th>\n",
       "      <td>Home</td>\n",
       "      <td>Home Décor</td>\n",
       "      <td>Home Décor Accents</td>\n",
       "      <td>35.0</td>\n",
       "    </tr>\n",
       "    <tr>\n",
       "      <th>4</th>\n",
       "      <td>Women</td>\n",
       "      <td>Jewelry</td>\n",
       "      <td>Necklaces</td>\n",
       "      <td>44.0</td>\n",
       "    </tr>\n",
       "  </tbody>\n",
       "</table>\n",
       "</div>"
      ],
      "text/plain": [
       "  category_main        category_sub1       category_sub2  price\n",
       "0           Men                 Tops            T-shirts   10.0\n",
       "1   Electronics  Computers & Tablets  Components & Parts   52.0\n",
       "2         Women       Tops & Blouses              Blouse   10.0\n",
       "3          Home           Home Décor  Home Décor Accents   35.0\n",
       "4         Women              Jewelry           Necklaces   44.0"
      ]
     },
     "execution_count": 29,
     "metadata": {},
     "output_type": "execute_result"
    }
   ],
   "source": [
    "def transform_category_name(category_name):\n",
    "    try:\n",
    "        main, sub1, sub2= category_name.split('/')\n",
    "        return main, sub1, sub2\n",
    "    except:\n",
    "        return np.nan, np.nan, np.nan\n",
    "\n",
    "train['category_main'], train['category_sub1'], train['category_sub2'] = zip(*train['category_name'].apply(transform_category_name))\n",
    "\n",
    "cat_train = train[['category_main','category_sub1','category_sub2', 'price']]\n",
    "\n",
    "cat_train.head()"
   ]
  },
  {
   "cell_type": "markdown",
   "metadata": {},
   "source": [
    "## Основные категории\n",
    "\n",
    "**Обзор интересов пользователей:**\n",
    "- Товары относящиеся к категории Beauty в основном распределены для потребителей женщин (больше 56%)\n",
    "\n",
    "++ Что её можно посмотреть?\n",
    "\n",
    "**Генерация признаков товара на основе категорий и потреблений:**\n",
    "- Можем мы определить потребителя товара и рабить категорию на пренадлежность к полу? (мужской, женский, универсальный товар)\n",
    "- Будет ли это значемо для определеия цены?\n",
    "- Можем ли создать признак по возрасту и разбить его на категории? "
   ]
  },
  {
   "cell_type": "code",
   "execution_count": null,
   "metadata": {},
   "outputs": [],
   "source": [
    "# Обзор основных категорий (что можно сказать по категории - электроника?)\n",
    "train.groupby('category_main')['price'].describe()"
   ]
  },
  {
   "cell_type": "code",
   "execution_count": 31,
   "metadata": {
    "scrolled": true
   },
   "outputs": [
    {
     "data": {
      "text/plain": [
       "Women                     0.451315\n",
       "Beauty                    0.141427\n",
       "Kids                      0.116116\n",
       "Electronics               0.081456\n",
       "Men                       0.063456\n",
       "Home                      0.046394\n",
       "Vintage & Collectibles    0.031697\n",
       "Other                     0.030981\n",
       "Handmade                  0.020806\n",
       "Sports & Outdoors         0.016350\n",
       "Name: category_main, dtype: float64"
      ]
     },
     "execution_count": 31,
     "metadata": {},
     "output_type": "execute_result"
    }
   ],
   "source": [
    "# Посмотрим распределение\n",
    "train['category_main'].value_counts(1)"
   ]
  },
  {
   "cell_type": "code",
   "execution_count": null,
   "metadata": {},
   "outputs": [],
   "source": [
    "plt.figure(figsize=(17,10))\n",
    "sns.countplot(y = train['category_main'], order = train['category_main'].value_counts().index, orient = 'v')\n",
    "plt.title('Top 10 Categories', fontsize = 25)\n",
    "plt.ylabel('Main Category', fontsize = 20)\n",
    "plt.xlabel('Number of Items in Main Category', fontsize = 20)\n",
    "plt.show()"
   ]
  },
  {
   "cell_type": "code",
   "execution_count": 33,
   "metadata": {
    "scrolled": false
   },
   "outputs": [
    {
     "data": {
      "image/png": "[encoded data removed]",
      "text/plain": [
       "<matplotlib.figure.Figure at 0x27dbd8f4a90>"
      ]
     },
     "metadata": {},
     "output_type": "display_data"
    }
   ],
   "source": [
    "# какие есть способы визуализации, которые покажут:\n",
    "# - где лежит основное кол-во данных?\n",
    "# - как они распределены?\n",
    "# - позволит уловить выбросы?\n",
    "#main = pd.DataFrame(cat_train['category_main'].value_counts()).reset_index().rename(columns={'index': 'main', 'category_main':'count'})\n",
    "fig, axes = plt.subplots(figsize=(12, 7))\n",
    "main = cat_train[cat_train[\"price\"]<100]\n",
    "# Use a color palette\n",
    "ax = sns.boxplot( x=main[\"category_main\"], y=main[\"price\"], palette=\"Blues\")\n",
    "ax.set_xticklabels(ax.get_xticklabels(),rotation=90, fontsize=12)\n",
    "\n",
    "sns.plt.show()"
   ]
  },
  {
   "cell_type": "code",
   "execution_count": 34,
   "metadata": {
    "collapsed": true
   },
   "outputs": [],
   "source": [
    "# Выделим товары не имющщие бренда\n",
    "train['no_brand'] = train['brand_name'].isnull()"
   ]
  },
  {
   "cell_type": "code",
   "execution_count": 35,
   "metadata": {},
   "outputs": [
    {
     "data": {
      "image/png": "[encoded data removed]",
      "text/plain": [
       "<matplotlib.figure.Figure at 0x27dbd8d2320>"
      ]
     },
     "metadata": {},
     "output_type": "display_data"
    }
   ],
   "source": [
    "f, ax = plt.subplots(figsize=(15, 4))\n",
    "sns.countplot(y='category_main', hue='no_brand', data=train).set_title('Category Distribution With/Without Brand');\n",
    "plt.show()"
   ]
  },
  {
   "cell_type": "markdown",
   "metadata": {},
   "source": [
    "## Распределение по подкатегориям 2\n"
   ]
  },
  {
   "cell_type": "code",
   "execution_count": 36,
   "metadata": {},
   "outputs": [
    {
     "data": {
      "image/png": "[encoded data removed]",
      "text/plain": [
       "<matplotlib.figure.Figure at 0x27db7d6a518>"
      ]
     },
     "metadata": {},
     "output_type": "display_data"
    }
   ],
   "source": [
    "df = cat_train.groupby(['category_sub2'])['price'].agg(['mean']).reset_index().rename(columns={'index': 'main', 'category_main':'count'})\n",
    "df= df.sort_values('mean', ascending=False).head(20)\n",
    "\n",
    "plt.figure(figsize=(20, 15))\n",
    "plt.barh(range(0,len(df)), df['mean'], align='center', alpha=0.5, color='r')\n",
    "plt.yticks(range(0,len(df)), df['category_sub2'], fontsize=15)\n",
    "\n",
    "plt.xlabel('Price', fontsize=15)\n",
    "plt.ylabel('Sub Category 2', fontsize=15)\n",
    "plt.title('Top 20 2nd Category (Mean Price)', fontsize=20)\n",
    "plt.show()"
   ]
  },
  {
   "cell_type": "markdown",
   "metadata": {},
   "source": [
    "## Распределение по подкатегориям 1"
   ]
  },
  {
   "cell_type": "code",
   "execution_count": 37,
   "metadata": {},
   "outputs": [
    {
     "data": {
      "image/png": "[encoded data removed]",
      "text/plain": [
       "<matplotlib.figure.Figure at 0x27db7db1a20>"
      ]
     },
     "metadata": {},
     "output_type": "display_data"
    }
   ],
   "source": [
    "df = cat_train.groupby(['category_sub1'])['price'].agg(['mean']).reset_index().rename(columns={'index': 'main', 'category_main':'count'})\n",
    "df= df.sort_values('mean', ascending=False)[0:20]\n",
    "\n",
    "plt.figure(figsize=(20, 15))\n",
    "plt.barh(range(0,len(df)), df['mean'], align='center', alpha=0.5, color='b')\n",
    "plt.yticks(range(0,len(df)), df['category_sub1'], fontsize=15)\n",
    "\n",
    "plt.xlabel('Price', fontsize=15)\n",
    "plt.ylabel('Sub Category 1', fontsize=15)\n",
    "plt.title('Top 20 1st Category (Mean Price)', fontsize=20)\n",
    "plt.show()"
   ]
  },
  {
   "cell_type": "markdown",
   "metadata": {},
   "source": [
    "## Анализ описания товара"
   ]
  },
  {
   "cell_type": "markdown",
   "metadata": {},
   "source": [
    "**Гипотезы:** \n",
    "- Влияет ли качественное описние и его длина на цену товара?\n",
    "- Точность описания влияет на цену товара?\n",
    "\n",
    "++ Какие ещё можно выбрать гипотезы?"
   ]
  },
  {
   "cell_type": "code",
   "execution_count": 38,
   "metadata": {
    "scrolled": false
   },
   "outputs": [
    {
     "name": "stderr",
     "output_type": "stream",
     "text": [
      "C:\\Users\\Randy\\Anaconda3\\lib\\site-packages\\ipykernel_launcher.py:5: SettingWithCopyWarning: \n",
      "A value is trying to be set on a copy of a slice from a DataFrame.\n",
      "Try using .loc[row_indexer,col_indexer] = value instead\n",
      "\n",
      "See the caveats in the documentation: http://pandas.pydata.org/pandas-docs/stable/indexing.html#indexing-view-versus-copy\n",
      "  \"\"\"\n",
      "C:\\Users\\Randy\\Anaconda3\\lib\\site-packages\\ipykernel_launcher.py:7: SettingWithCopyWarning: \n",
      "A value is trying to be set on a copy of a slice from a DataFrame.\n",
      "Try using .loc[row_indexer,col_indexer] = value instead\n",
      "\n",
      "See the caveats in the documentation: http://pandas.pydata.org/pandas-docs/stable/indexing.html#indexing-view-versus-copy\n",
      "  import sys\n",
      "C:\\Users\\Randy\\Anaconda3\\lib\\site-packages\\ipykernel_launcher.py:8: SettingWithCopyWarning: \n",
      "A value is trying to be set on a copy of a slice from a DataFrame.\n",
      "Try using .loc[row_indexer,col_indexer] = value instead\n",
      "\n",
      "See the caveats in the documentation: http://pandas.pydata.org/pandas-docs/stable/indexing.html#indexing-view-versus-copy\n",
      "  \n",
      "C:\\Users\\Randy\\Anaconda3\\lib\\site-packages\\ipykernel_launcher.py:9: SettingWithCopyWarning: \n",
      "A value is trying to be set on a copy of a slice from a DataFrame.\n",
      "Try using .loc[row_indexer,col_indexer] = value instead\n",
      "\n",
      "See the caveats in the documentation: http://pandas.pydata.org/pandas-docs/stable/indexing.html#indexing-view-versus-copy\n",
      "  if __name__ == '__main__':\n"
     ]
    },
    {
     "data": {
      "text/html": [
       "<div>\n",
       "<style>\n",
       "    .dataframe thead tr:only-child th {\n",
       "        text-align: right;\n",
       "    }\n",
       "\n",
       "    .dataframe thead th {\n",
       "        text-align: left;\n",
       "    }\n",
       "\n",
       "    .dataframe tbody tr th {\n",
       "        vertical-align: top;\n",
       "    }\n",
       "</style>\n",
       "<table border=\"1\" class=\"dataframe\">\n",
       "  <thead>\n",
       "    <tr style=\"text-align: right;\">\n",
       "      <th></th>\n",
       "      <th>item_description</th>\n",
       "      <th>price</th>\n",
       "      <th>count</th>\n",
       "    </tr>\n",
       "  </thead>\n",
       "  <tbody>\n",
       "    <tr>\n",
       "      <th>0</th>\n",
       "      <td>description yet</td>\n",
       "      <td>10.0</td>\n",
       "      <td>18</td>\n",
       "    </tr>\n",
       "    <tr>\n",
       "      <th>1</th>\n",
       "      <td>keyboard great condition works like came box p...</td>\n",
       "      <td>52.0</td>\n",
       "      <td>188</td>\n",
       "    </tr>\n",
       "    <tr>\n",
       "      <th>2</th>\n",
       "      <td>adorable top hint lace key hole back pale pink...</td>\n",
       "      <td>10.0</td>\n",
       "      <td>124</td>\n",
       "    </tr>\n",
       "  </tbody>\n",
       "</table>\n",
       "</div>"
      ],
      "text/plain": [
       "                                    item_description  price  count\n",
       "0                                    description yet   10.0     18\n",
       "1  keyboard great condition works like came box p...   52.0    188\n",
       "2  adorable top hint lace key hole back pale pink...   10.0    124"
      ]
     },
     "execution_count": 38,
     "metadata": {},
     "output_type": "execute_result"
    }
   ],
   "source": [
    "# Удаление пунктуации в описании\n",
    "combined.item_description = combined.item_description.astype(str)\n",
    "\n",
    "descr = combined[['item_description', 'price']]\n",
    "descr['count'] = descr['item_description'].apply(lambda x : len(str(x)))\n",
    "\n",
    "descr['item_description'] = descr['item_description'].apply(remove_digits)\n",
    "descr['item_description'] = descr['item_description'].apply(remove_punctuation)\n",
    "descr['item_description'] = descr['item_description'].apply(remove_stop_words)\n",
    "descr.head(3)"
   ]
  },
  {
   "cell_type": "code",
   "execution_count": 39,
   "metadata": {},
   "outputs": [
    {
     "name": "stderr",
     "output_type": "stream",
     "text": [
      "C:\\Users\\Randy\\Anaconda3\\lib\\site-packages\\ipykernel_launcher.py:5: SettingWithCopyWarning: \n",
      "A value is trying to be set on a copy of a slice from a DataFrame.\n",
      "Try using .loc[row_indexer,col_indexer] = value instead\n",
      "\n",
      "See the caveats in the documentation: http://pandas.pydata.org/pandas-docs/stable/indexing.html#indexing-view-versus-copy\n",
      "  \"\"\"\n"
     ]
    }
   ],
   "source": [
    "from nltk.stem.porter import PorterStemmer\n",
    "\n",
    "porter = PorterStemmer()\n",
    "\n",
    "descr['item_description'] = descr['item_description'].apply(porter.stem)"
   ]
  },
  {
   "cell_type": "code",
   "execution_count": 40,
   "metadata": {},
   "outputs": [
    {
     "data": {
      "text/html": [
       "<div>\n",
       "<style>\n",
       "    .dataframe thead tr:only-child th {\n",
       "        text-align: right;\n",
       "    }\n",
       "\n",
       "    .dataframe thead th {\n",
       "        text-align: left;\n",
       "    }\n",
       "\n",
       "    .dataframe tbody tr th {\n",
       "        vertical-align: top;\n",
       "    }\n",
       "</style>\n",
       "<table border=\"1\" class=\"dataframe\">\n",
       "  <thead>\n",
       "    <tr style=\"text-align: right;\">\n",
       "      <th></th>\n",
       "      <th>item_description</th>\n",
       "      <th>price</th>\n",
       "      <th>count</th>\n",
       "    </tr>\n",
       "  </thead>\n",
       "  <tbody>\n",
       "    <tr>\n",
       "      <th>693349</th>\n",
       "      <td>â�—ï¸�listing â�—ï¸� brand new shades piu scar...</td>\n",
       "      <td>NaN</td>\n",
       "      <td>71</td>\n",
       "    </tr>\n",
       "    <tr>\n",
       "      <th>693350</th>\n",
       "      <td>rm free shipping new highly addict</td>\n",
       "      <td>NaN</td>\n",
       "      <td>47</td>\n",
       "    </tr>\n",
       "    <tr>\n",
       "      <th>693351</th>\n",
       "      <td>purple boys polo shirt size  old navy never worn</td>\n",
       "      <td>NaN</td>\n",
       "      <td>59</td>\n",
       "    </tr>\n",
       "    <tr>\n",
       "      <th>693352</th>\n",
       "      <td>express deep olive green cardigan  ultra thin ...</td>\n",
       "      <td>NaN</td>\n",
       "      <td>121</td>\n",
       "    </tr>\n",
       "    <tr>\n",
       "      <th>693353</th>\n",
       "      <td>shade medium neutral barley us</td>\n",
       "      <td>NaN</td>\n",
       "      <td>41</td>\n",
       "    </tr>\n",
       "    <tr>\n",
       "      <th>693354</th>\n",
       "      <td>flintquartz cluster self mined âœ¨measures xin...</td>\n",
       "      <td>NaN</td>\n",
       "      <td>243</td>\n",
       "    </tr>\n",
       "    <tr>\n",
       "      <th>693355</th>\n",
       "      <td>cosmetics travel bundle includes brow power un...</td>\n",
       "      <td>NaN</td>\n",
       "      <td>968</td>\n",
       "    </tr>\n",
       "    <tr>\n",
       "      <th>693356</th>\n",
       "      <td>new free shipping basstop cas</td>\n",
       "      <td>NaN</td>\n",
       "      <td>31</td>\n",
       "    </tr>\n",
       "    <tr>\n",
       "      <th>693357</th>\n",
       "      <td>floral kimono tropical print open front hi low...</td>\n",
       "      <td>NaN</td>\n",
       "      <td>94</td>\n",
       "    </tr>\n",
       "    <tr>\n",
       "      <th>693358</th>\n",
       "      <td>floral scrub tops worn less  times brown belt ti</td>\n",
       "      <td>NaN</td>\n",
       "      <td>71</td>\n",
       "    </tr>\n",
       "  </tbody>\n",
       "</table>\n",
       "</div>"
      ],
      "text/plain": [
       "                                         item_description  price  count\n",
       "693349  â�—ï¸�listing â�—ï¸� brand new shades piu scar...    NaN     71\n",
       "693350                 rm free shipping new highly addict    NaN     47\n",
       "693351   purple boys polo shirt size  old navy never worn    NaN     59\n",
       "693352  express deep olive green cardigan  ultra thin ...    NaN    121\n",
       "693353                     shade medium neutral barley us    NaN     41\n",
       "693354  flintquartz cluster self mined âœ¨measures xin...    NaN    243\n",
       "693355  cosmetics travel bundle includes brow power un...    NaN    968\n",
       "693356                      new free shipping basstop cas    NaN     31\n",
       "693357  floral kimono tropical print open front hi low...    NaN     94\n",
       "693358   floral scrub tops worn less  times brown belt ti    NaN     71"
      ]
     },
     "execution_count": 40,
     "metadata": {},
     "output_type": "execute_result"
    }
   ],
   "source": [
    "descr.tail(10)"
   ]
  },
  {
   "cell_type": "code",
   "execution_count": 41,
   "metadata": {},
   "outputs": [
    {
     "data": {
      "image/png": "[encoded data removed]",
      "text/plain": [
       "<matplotlib.figure.Figure at 0x27dd562bc50>"
      ]
     },
     "metadata": {},
     "output_type": "display_data"
    }
   ],
   "source": [
    "# сделаем визуализацию данных\n",
    "# и посмотрим, как кол-во слов влияет на цену товара\n",
    "df = descr.groupby('count')['price'].mean().reset_index()\n",
    "sns.regplot(x=df[\"count\"], y=(df[\"price\"]))\n",
    "plt.xlabel(\"word count\")\n",
    "plt.show()"
   ]
  },
  {
   "cell_type": "markdown",
   "metadata": {},
   "source": [
    "# Препроцессинг обработки данных\n",
    "***"
   ]
  },
  {
   "cell_type": "code",
   "execution_count": 42,
   "metadata": {},
   "outputs": [
    {
     "data": {
      "text/html": [
       "<div>\n",
       "<style>\n",
       "    .dataframe thead tr:only-child th {\n",
       "        text-align: right;\n",
       "    }\n",
       "\n",
       "    .dataframe thead th {\n",
       "        text-align: left;\n",
       "    }\n",
       "\n",
       "    .dataframe tbody tr th {\n",
       "        vertical-align: top;\n",
       "    }\n",
       "</style>\n",
       "<table border=\"1\" class=\"dataframe\">\n",
       "  <thead>\n",
       "    <tr style=\"text-align: right;\">\n",
       "      <th></th>\n",
       "      <th>brand_name</th>\n",
       "      <th>category_name</th>\n",
       "      <th>item_condition_id</th>\n",
       "      <th>item_description</th>\n",
       "      <th>name</th>\n",
       "      <th>price</th>\n",
       "      <th>shipping</th>\n",
       "      <th>test_id</th>\n",
       "      <th>train_id</th>\n",
       "    </tr>\n",
       "  </thead>\n",
       "  <tbody>\n",
       "    <tr>\n",
       "      <th>0</th>\n",
       "      <td>NaN</td>\n",
       "      <td>Men/Tops/T-shirts</td>\n",
       "      <td>3</td>\n",
       "      <td>No description yet</td>\n",
       "      <td>MLB Cincinnati Reds T Shirt Size XL</td>\n",
       "      <td>10.0</td>\n",
       "      <td>1</td>\n",
       "      <td>NaN</td>\n",
       "      <td>0.0</td>\n",
       "    </tr>\n",
       "    <tr>\n",
       "      <th>1</th>\n",
       "      <td>Razer</td>\n",
       "      <td>Electronics/Computers &amp; Tablets/Components &amp; P...</td>\n",
       "      <td>3</td>\n",
       "      <td>This keyboard is in great condition and works ...</td>\n",
       "      <td>Razer BlackWidow Chroma Keyboard</td>\n",
       "      <td>52.0</td>\n",
       "      <td>0</td>\n",
       "      <td>NaN</td>\n",
       "      <td>1.0</td>\n",
       "    </tr>\n",
       "    <tr>\n",
       "      <th>2</th>\n",
       "      <td>Target</td>\n",
       "      <td>Women/Tops &amp; Blouses/Blouse</td>\n",
       "      <td>1</td>\n",
       "      <td>Adorable top with a hint of lace and a key hol...</td>\n",
       "      <td>AVA-VIV Blouse</td>\n",
       "      <td>10.0</td>\n",
       "      <td>1</td>\n",
       "      <td>NaN</td>\n",
       "      <td>2.0</td>\n",
       "    </tr>\n",
       "    <tr>\n",
       "      <th>3</th>\n",
       "      <td>NaN</td>\n",
       "      <td>Home/Home Décor/Home Décor Accents</td>\n",
       "      <td>1</td>\n",
       "      <td>New with tags. Leather horses. Retail for [rm]...</td>\n",
       "      <td>Leather Horse Statues</td>\n",
       "      <td>35.0</td>\n",
       "      <td>1</td>\n",
       "      <td>NaN</td>\n",
       "      <td>3.0</td>\n",
       "    </tr>\n",
       "    <tr>\n",
       "      <th>4</th>\n",
       "      <td>NaN</td>\n",
       "      <td>Women/Jewelry/Necklaces</td>\n",
       "      <td>1</td>\n",
       "      <td>Complete with certificate of authenticity</td>\n",
       "      <td>24K GOLD plated rose</td>\n",
       "      <td>44.0</td>\n",
       "      <td>0</td>\n",
       "      <td>NaN</td>\n",
       "      <td>4.0</td>\n",
       "    </tr>\n",
       "  </tbody>\n",
       "</table>\n",
       "</div>"
      ],
      "text/plain": [
       "  brand_name                                      category_name  \\\n",
       "0        NaN                                  Men/Tops/T-shirts   \n",
       "1      Razer  Electronics/Computers & Tablets/Components & P...   \n",
       "2     Target                        Women/Tops & Blouses/Blouse   \n",
       "3        NaN                 Home/Home Décor/Home Décor Accents   \n",
       "4        NaN                            Women/Jewelry/Necklaces   \n",
       "\n",
       "   item_condition_id                                   item_description  \\\n",
       "0                  3                                 No description yet   \n",
       "1                  3  This keyboard is in great condition and works ...   \n",
       "2                  1  Adorable top with a hint of lace and a key hol...   \n",
       "3                  1  New with tags. Leather horses. Retail for [rm]...   \n",
       "4                  1          Complete with certificate of authenticity   \n",
       "\n",
       "                                  name  price  shipping  test_id  train_id  \n",
       "0  MLB Cincinnati Reds T Shirt Size XL   10.0         1      NaN       0.0  \n",
       "1     Razer BlackWidow Chroma Keyboard   52.0         0      NaN       1.0  \n",
       "2                       AVA-VIV Blouse   10.0         1      NaN       2.0  \n",
       "3                Leather Horse Statues   35.0         1      NaN       3.0  \n",
       "4                 24K GOLD plated rose   44.0         0      NaN       4.0  "
      ]
     },
     "execution_count": 42,
     "metadata": {},
     "output_type": "execute_result"
    }
   ],
   "source": [
    "combined.head()"
   ]
  },
  {
   "cell_type": "code",
   "execution_count": 43,
   "metadata": {
    "collapsed": true
   },
   "outputs": [],
   "source": [
    "# обработка пропусков\n",
    "def handle_missing_values(df):\n",
    "    df['category_name'].fillna(value='missing', inplace=True)\n",
    "    df['brand_name'].fillna(value='None', inplace=True)\n",
    "    df['item_description'].fillna(value='None', inplace=True)"
   ]
  },
  {
   "cell_type": "code",
   "execution_count": 44,
   "metadata": {
    "collapsed": true
   },
   "outputs": [],
   "source": [
    "# преобразование в категориальные данные\n",
    "# - какое значение это имеет? На что может повлиять? Как отразиться на наборе данных?\n",
    "def to_categorical(df):\n",
    "    df['brand_name'] = df['brand_name'].astype('category')\n",
    "    df['category_name'] = df['category_name'].astype('category')\n",
    "    df['item_condition_id'] = df['item_condition_id'].astype('category')"
   ]
  },
  {
   "cell_type": "code",
   "execution_count": null,
   "metadata": {},
   "outputs": [],
   "source": [
    "# какие ещё можно сделать категориальные преобразования?\n",
    "# подходит ли предложенный способ для кодировки?"
   ]
  },
  {
   "cell_type": "markdown",
   "metadata": {},
   "source": [
    "<img src='img/categorical.png'>"
   ]
  },
  {
   "cell_type": "markdown",
   "metadata": {},
   "source": [
    "# Применение к данным\n",
    "***"
   ]
  },
  {
   "cell_type": "code",
   "execution_count": 45,
   "metadata": {
    "collapsed": true
   },
   "outputs": [],
   "source": [
    "# применяем функции к набору\n",
    "handle_missing_values(combined)\n",
    "to_categorical(combined)"
   ]
  },
  {
   "cell_type": "code",
   "execution_count": 46,
   "metadata": {
    "collapsed": true
   },
   "outputs": [],
   "source": [
    "# \n",
    "handle_missing_values(combined_ML)\n",
    "to_categorical(combined_ML)"
   ]
  },
  {
   "cell_type": "code",
   "execution_count": 47,
   "metadata": {},
   "outputs": [
    {
     "data": {
      "text/html": [
       "<div>\n",
       "<style>\n",
       "    .dataframe thead tr:only-child th {\n",
       "        text-align: right;\n",
       "    }\n",
       "\n",
       "    .dataframe thead th {\n",
       "        text-align: left;\n",
       "    }\n",
       "\n",
       "    .dataframe tbody tr th {\n",
       "        vertical-align: top;\n",
       "    }\n",
       "</style>\n",
       "<table border=\"1\" class=\"dataframe\">\n",
       "  <thead>\n",
       "    <tr style=\"text-align: right;\">\n",
       "      <th></th>\n",
       "      <th>brand_name</th>\n",
       "      <th>category_name</th>\n",
       "      <th>item_condition_id</th>\n",
       "      <th>item_description</th>\n",
       "      <th>name</th>\n",
       "      <th>price</th>\n",
       "      <th>shipping</th>\n",
       "      <th>test_id</th>\n",
       "      <th>train_id</th>\n",
       "    </tr>\n",
       "  </thead>\n",
       "  <tbody>\n",
       "    <tr>\n",
       "      <th>0</th>\n",
       "      <td>Rue21</td>\n",
       "      <td>Women/Skirts/Maxi</td>\n",
       "      <td>2</td>\n",
       "      <td>wore big size small normally wear extra small ...</td>\n",
       "      <td>maxi skirt</td>\n",
       "      <td>22.0</td>\n",
       "      <td>0</td>\n",
       "      <td>NaN</td>\n",
       "      <td>538425.0</td>\n",
       "    </tr>\n",
       "    <tr>\n",
       "      <th>1</th>\n",
       "      <td>PINK</td>\n",
       "      <td>Women/Tops &amp; Blouses/Tank, Cami</td>\n",
       "      <td>3</td>\n",
       "      <td>pink size xs racerback free shipping</td>\n",
       "      <td>vs pink dark maroon tank</td>\n",
       "      <td>NaN</td>\n",
       "      <td>1</td>\n",
       "      <td>366252.0</td>\n",
       "      <td>NaN</td>\n",
       "    </tr>\n",
       "    <tr>\n",
       "      <th>2</th>\n",
       "      <td>LuLaRoe</td>\n",
       "      <td>Women/Athletic Apparel/Pants, Tights, Leggings</td>\n",
       "      <td>1</td>\n",
       "      <td>description yet</td>\n",
       "      <td>lularoe xl irma tc leggings</td>\n",
       "      <td>NaN</td>\n",
       "      <td>0</td>\n",
       "      <td>311147.0</td>\n",
       "      <td>NaN</td>\n",
       "    </tr>\n",
       "  </tbody>\n",
       "</table>\n",
       "</div>"
      ],
      "text/plain": [
       "  brand_name                                   category_name  \\\n",
       "0      Rue21                               Women/Skirts/Maxi   \n",
       "1       PINK                 Women/Tops & Blouses/Tank, Cami   \n",
       "2    LuLaRoe  Women/Athletic Apparel/Pants, Tights, Leggings   \n",
       "\n",
       "  item_condition_id                                   item_description  \\\n",
       "0                 2  wore big size small normally wear extra small ...   \n",
       "1                 3               pink size xs racerback free shipping   \n",
       "2                 1                                    description yet   \n",
       "\n",
       "                          name  price  shipping   test_id  train_id  \n",
       "0                   maxi skirt   22.0         0       NaN  538425.0  \n",
       "1     vs pink dark maroon tank    NaN         1  366252.0       NaN  \n",
       "2  lularoe xl irma tc leggings    NaN         0  311147.0       NaN  "
      ]
     },
     "execution_count": 47,
     "metadata": {},
     "output_type": "execute_result"
    }
   ],
   "source": [
    "# удаляем пунктуации\n",
    "combined_ML.item_description = combined_ML.item_description.astype(str)\n",
    "\n",
    "combined_ML['item_description'] = combined_ML['item_description'].apply(remove_digits)\n",
    "combined_ML['item_description'] = combined_ML['item_description'].apply(remove_punctuation)\n",
    "combined_ML['item_description'] = combined_ML['item_description'].apply(remove_stop_words)\n",
    "combined_ML['item_description'] = combined_ML['item_description'].apply(to_lower)\n",
    "\n",
    "combined_ML['name'] = combined_ML['name'].apply(remove_digits)\n",
    "combined_ML['name'] = combined_ML['name'].apply(remove_punctuation)\n",
    "combined_ML['name'] = combined_ML['name'].apply(remove_stop_words)\n",
    "combined_ML['name'] = combined_ML['name'].apply(to_lower)\n",
    "\n",
    "combined_ML.head(3)"
   ]
  },
  {
   "cell_type": "code",
   "execution_count": 48,
   "metadata": {
    "collapsed": true
   },
   "outputs": [],
   "source": [
    "# \n",
    "combined.item_description = combined.item_description.astype(str)\n",
    "\n",
    "combined['item_description'] = combined['item_description'].apply(remove_digits)\n",
    "combined['item_description'] = combined['item_description'].apply(remove_punctuation)\n",
    "combined['item_description'] = combined['item_description'].apply(remove_stop_words)\n",
    "combined['item_description'] = combined['item_description'].apply(to_lower)\n",
    "\n",
    "combined['name'] = combined['name'].apply(remove_digits)\n",
    "combined['name'] = combined['name'].apply(remove_punctuation)\n",
    "combined['name'] = combined['name'].apply(remove_stop_words)\n",
    "combined['name'] = combined['name'].apply(to_lower)"
   ]
  },
  {
   "cell_type": "markdown",
   "metadata": {},
   "source": [
    "# Генерация новых сущностей (фичей) на основе категорий (Main, Sub1, Sub2)\n",
    "***"
   ]
  },
  {
   "cell_type": "code",
   "execution_count": 49,
   "metadata": {
    "scrolled": true
   },
   "outputs": [
    {
     "data": {
      "text/plain": [
       "brand_name           False\n",
       "category_name        False\n",
       "item_condition_id    False\n",
       "item_description     False\n",
       "name                 False\n",
       "price                 True\n",
       "shipping             False\n",
       "test_id               True\n",
       "train_id              True\n",
       "dtype: bool"
      ]
     },
     "execution_count": 49,
     "metadata": {},
     "output_type": "execute_result"
    }
   ],
   "source": [
    "combined.isnull().any()"
   ]
  },
  {
   "cell_type": "code",
   "execution_count": 50,
   "metadata": {
    "scrolled": false
   },
   "outputs": [
    {
     "data": {
      "text/html": [
       "<div>\n",
       "<style>\n",
       "    .dataframe thead tr:only-child th {\n",
       "        text-align: right;\n",
       "    }\n",
       "\n",
       "    .dataframe thead th {\n",
       "        text-align: left;\n",
       "    }\n",
       "\n",
       "    .dataframe tbody tr th {\n",
       "        vertical-align: top;\n",
       "    }\n",
       "</style>\n",
       "<table border=\"1\" class=\"dataframe\">\n",
       "  <thead>\n",
       "    <tr style=\"text-align: right;\">\n",
       "      <th></th>\n",
       "      <th>brand_name</th>\n",
       "      <th>category_name</th>\n",
       "      <th>item_condition_id</th>\n",
       "      <th>item_description</th>\n",
       "      <th>name</th>\n",
       "      <th>price</th>\n",
       "      <th>shipping</th>\n",
       "      <th>test_id</th>\n",
       "      <th>train_id</th>\n",
       "    </tr>\n",
       "  </thead>\n",
       "  <tbody>\n",
       "    <tr>\n",
       "      <th>0</th>\n",
       "      <td>None</td>\n",
       "      <td>Men/Tops/T-shirts</td>\n",
       "      <td>3</td>\n",
       "      <td>description yet</td>\n",
       "      <td>mlb cincinnati reds shirt size xl</td>\n",
       "      <td>10.0</td>\n",
       "      <td>1</td>\n",
       "      <td>NaN</td>\n",
       "      <td>0.0</td>\n",
       "    </tr>\n",
       "    <tr>\n",
       "      <th>1</th>\n",
       "      <td>Razer</td>\n",
       "      <td>Electronics/Computers &amp; Tablets/Components &amp; P...</td>\n",
       "      <td>3</td>\n",
       "      <td>keyboard great condition works like came box p...</td>\n",
       "      <td>razer blackwidow chroma keyboard</td>\n",
       "      <td>52.0</td>\n",
       "      <td>0</td>\n",
       "      <td>NaN</td>\n",
       "      <td>1.0</td>\n",
       "    </tr>\n",
       "    <tr>\n",
       "      <th>2</th>\n",
       "      <td>Target</td>\n",
       "      <td>Women/Tops &amp; Blouses/Blouse</td>\n",
       "      <td>1</td>\n",
       "      <td>adorable top hint lace key hole back pale pink...</td>\n",
       "      <td>avaviv blouse</td>\n",
       "      <td>10.0</td>\n",
       "      <td>1</td>\n",
       "      <td>NaN</td>\n",
       "      <td>2.0</td>\n",
       "    </tr>\n",
       "    <tr>\n",
       "      <th>3</th>\n",
       "      <td>None</td>\n",
       "      <td>Home/Home Décor/Home Décor Accents</td>\n",
       "      <td>1</td>\n",
       "      <td>new tags leather horses retail rm stand foot h...</td>\n",
       "      <td>leather horse statues</td>\n",
       "      <td>35.0</td>\n",
       "      <td>1</td>\n",
       "      <td>NaN</td>\n",
       "      <td>3.0</td>\n",
       "    </tr>\n",
       "    <tr>\n",
       "      <th>4</th>\n",
       "      <td>None</td>\n",
       "      <td>Women/Jewelry/Necklaces</td>\n",
       "      <td>1</td>\n",
       "      <td>complete certificate authenticity</td>\n",
       "      <td>k gold plated rose</td>\n",
       "      <td>44.0</td>\n",
       "      <td>0</td>\n",
       "      <td>NaN</td>\n",
       "      <td>4.0</td>\n",
       "    </tr>\n",
       "  </tbody>\n",
       "</table>\n",
       "</div>"
      ],
      "text/plain": [
       "  brand_name                                      category_name  \\\n",
       "0       None                                  Men/Tops/T-shirts   \n",
       "1      Razer  Electronics/Computers & Tablets/Components & P...   \n",
       "2     Target                        Women/Tops & Blouses/Blouse   \n",
       "3       None                 Home/Home Décor/Home Décor Accents   \n",
       "4       None                            Women/Jewelry/Necklaces   \n",
       "\n",
       "  item_condition_id                                   item_description  \\\n",
       "0                 3                                    description yet   \n",
       "1                 3  keyboard great condition works like came box p...   \n",
       "2                 1  adorable top hint lace key hole back pale pink...   \n",
       "3                 1  new tags leather horses retail rm stand foot h...   \n",
       "4                 1                  complete certificate authenticity   \n",
       "\n",
       "                                name  price  shipping  test_id  train_id  \n",
       "0  mlb cincinnati reds shirt size xl   10.0         1      NaN       0.0  \n",
       "1   razer blackwidow chroma keyboard   52.0         0      NaN       1.0  \n",
       "2                      avaviv blouse   10.0         1      NaN       2.0  \n",
       "3              leather horse statues   35.0         1      NaN       3.0  \n",
       "4                 k gold plated rose   44.0         0      NaN       4.0  "
      ]
     },
     "execution_count": 50,
     "metadata": {},
     "output_type": "execute_result"
    }
   ],
   "source": [
    "combined.head()"
   ]
  },
  {
   "cell_type": "code",
   "execution_count": 51,
   "metadata": {
    "scrolled": false
   },
   "outputs": [
    {
     "data": {
      "text/html": [
       "<div>\n",
       "<style>\n",
       "    .dataframe thead tr:only-child th {\n",
       "        text-align: right;\n",
       "    }\n",
       "\n",
       "    .dataframe thead th {\n",
       "        text-align: left;\n",
       "    }\n",
       "\n",
       "    .dataframe tbody tr th {\n",
       "        vertical-align: top;\n",
       "    }\n",
       "</style>\n",
       "<table border=\"1\" class=\"dataframe\">\n",
       "  <thead>\n",
       "    <tr style=\"text-align: right;\">\n",
       "      <th></th>\n",
       "      <th>brand_name</th>\n",
       "      <th>category_name</th>\n",
       "      <th>item_condition_id</th>\n",
       "      <th>item_description</th>\n",
       "      <th>name</th>\n",
       "      <th>price</th>\n",
       "      <th>shipping</th>\n",
       "      <th>test_id</th>\n",
       "      <th>train_id</th>\n",
       "    </tr>\n",
       "  </thead>\n",
       "  <tbody>\n",
       "    <tr>\n",
       "      <th>0</th>\n",
       "      <td>Rue21</td>\n",
       "      <td>Women/Skirts/Maxi</td>\n",
       "      <td>2</td>\n",
       "      <td>wore big size small normally wear extra small ...</td>\n",
       "      <td>maxi skirt</td>\n",
       "      <td>22.0</td>\n",
       "      <td>0</td>\n",
       "      <td>NaN</td>\n",
       "      <td>538425.0</td>\n",
       "    </tr>\n",
       "    <tr>\n",
       "      <th>1</th>\n",
       "      <td>PINK</td>\n",
       "      <td>Women/Tops &amp; Blouses/Tank, Cami</td>\n",
       "      <td>3</td>\n",
       "      <td>pink size xs racerback free shipping</td>\n",
       "      <td>vs pink dark maroon tank</td>\n",
       "      <td>NaN</td>\n",
       "      <td>1</td>\n",
       "      <td>366252.0</td>\n",
       "      <td>NaN</td>\n",
       "    </tr>\n",
       "    <tr>\n",
       "      <th>2</th>\n",
       "      <td>LuLaRoe</td>\n",
       "      <td>Women/Athletic Apparel/Pants, Tights, Leggings</td>\n",
       "      <td>1</td>\n",
       "      <td>description yet</td>\n",
       "      <td>lularoe xl irma tc leggings</td>\n",
       "      <td>NaN</td>\n",
       "      <td>0</td>\n",
       "      <td>311147.0</td>\n",
       "      <td>NaN</td>\n",
       "    </tr>\n",
       "    <tr>\n",
       "      <th>3</th>\n",
       "      <td>None</td>\n",
       "      <td>Beauty/Hair Care/Shampoo &amp; Conditioner Sets</td>\n",
       "      <td>1</td>\n",
       "      <td>silk express shampoo silk conditioner leave co...</td>\n",
       "      <td>silk express hair products</td>\n",
       "      <td>NaN</td>\n",
       "      <td>0</td>\n",
       "      <td>280598.0</td>\n",
       "      <td>NaN</td>\n",
       "    </tr>\n",
       "    <tr>\n",
       "      <th>4</th>\n",
       "      <td>Sephora</td>\n",
       "      <td>Beauty/Makeup/Face</td>\n",
       "      <td>1</td>\n",
       "      <td>deluxe samples ysl smashbox hourglass biossance</td>\n",
       "      <td>bundle es everythings</td>\n",
       "      <td>NaN</td>\n",
       "      <td>1</td>\n",
       "      <td>216302.0</td>\n",
       "      <td>NaN</td>\n",
       "    </tr>\n",
       "  </tbody>\n",
       "</table>\n",
       "</div>"
      ],
      "text/plain": [
       "  brand_name                                   category_name  \\\n",
       "0      Rue21                               Women/Skirts/Maxi   \n",
       "1       PINK                 Women/Tops & Blouses/Tank, Cami   \n",
       "2    LuLaRoe  Women/Athletic Apparel/Pants, Tights, Leggings   \n",
       "3       None     Beauty/Hair Care/Shampoo & Conditioner Sets   \n",
       "4    Sephora                              Beauty/Makeup/Face   \n",
       "\n",
       "  item_condition_id                                   item_description  \\\n",
       "0                 2  wore big size small normally wear extra small ...   \n",
       "1                 3               pink size xs racerback free shipping   \n",
       "2                 1                                    description yet   \n",
       "3                 1  silk express shampoo silk conditioner leave co...   \n",
       "4                 1    deluxe samples ysl smashbox hourglass biossance   \n",
       "\n",
       "                          name  price  shipping   test_id  train_id  \n",
       "0                   maxi skirt   22.0         0       NaN  538425.0  \n",
       "1     vs pink dark maroon tank    NaN         1  366252.0       NaN  \n",
       "2  lularoe xl irma tc leggings    NaN         0  311147.0       NaN  \n",
       "3   silk express hair products    NaN         0  280598.0       NaN  \n",
       "4        bundle es everythings    NaN         1  216302.0       NaN  "
      ]
     },
     "execution_count": 51,
     "metadata": {},
     "output_type": "execute_result"
    }
   ],
   "source": [
    "combined_ML.head()"
   ]
  },
  {
   "cell_type": "code",
   "execution_count": 52,
   "metadata": {},
   "outputs": [
    {
     "data": {
      "text/html": [
       "<div>\n",
       "<style>\n",
       "    .dataframe thead tr:only-child th {\n",
       "        text-align: right;\n",
       "    }\n",
       "\n",
       "    .dataframe thead th {\n",
       "        text-align: left;\n",
       "    }\n",
       "\n",
       "    .dataframe tbody tr th {\n",
       "        vertical-align: top;\n",
       "    }\n",
       "</style>\n",
       "<table border=\"1\" class=\"dataframe\">\n",
       "  <thead>\n",
       "    <tr style=\"text-align: right;\">\n",
       "      <th></th>\n",
       "      <th>brand_name</th>\n",
       "      <th>category_name</th>\n",
       "      <th>item_condition_id</th>\n",
       "      <th>item_description</th>\n",
       "      <th>name</th>\n",
       "      <th>price</th>\n",
       "      <th>shipping</th>\n",
       "      <th>test_id</th>\n",
       "      <th>train_id</th>\n",
       "    </tr>\n",
       "  </thead>\n",
       "  <tbody>\n",
       "    <tr>\n",
       "      <th>0</th>\n",
       "      <td>None</td>\n",
       "      <td>Men/Tops/T-shirts</td>\n",
       "      <td>3</td>\n",
       "      <td>description yet</td>\n",
       "      <td>mlb cincinnati reds shirt size xl</td>\n",
       "      <td>10.0</td>\n",
       "      <td>1</td>\n",
       "      <td>NaN</td>\n",
       "      <td>0.0</td>\n",
       "    </tr>\n",
       "    <tr>\n",
       "      <th>1</th>\n",
       "      <td>Razer</td>\n",
       "      <td>Electronics/Computers &amp; Tablets/Components &amp; P...</td>\n",
       "      <td>3</td>\n",
       "      <td>keyboard great condition works like came box p...</td>\n",
       "      <td>razer blackwidow chroma keyboard</td>\n",
       "      <td>52.0</td>\n",
       "      <td>0</td>\n",
       "      <td>NaN</td>\n",
       "      <td>1.0</td>\n",
       "    </tr>\n",
       "    <tr>\n",
       "      <th>2</th>\n",
       "      <td>Target</td>\n",
       "      <td>Women/Tops &amp; Blouses/Blouse</td>\n",
       "      <td>1</td>\n",
       "      <td>adorable top hint lace key hole back pale pink...</td>\n",
       "      <td>avaviv blouse</td>\n",
       "      <td>10.0</td>\n",
       "      <td>1</td>\n",
       "      <td>NaN</td>\n",
       "      <td>2.0</td>\n",
       "    </tr>\n",
       "    <tr>\n",
       "      <th>3</th>\n",
       "      <td>None</td>\n",
       "      <td>Home/Home Décor/Home Décor Accents</td>\n",
       "      <td>1</td>\n",
       "      <td>new tags leather horses retail rm stand foot h...</td>\n",
       "      <td>leather horse statues</td>\n",
       "      <td>35.0</td>\n",
       "      <td>1</td>\n",
       "      <td>NaN</td>\n",
       "      <td>3.0</td>\n",
       "    </tr>\n",
       "    <tr>\n",
       "      <th>4</th>\n",
       "      <td>None</td>\n",
       "      <td>Women/Jewelry/Necklaces</td>\n",
       "      <td>1</td>\n",
       "      <td>complete certificate authenticity</td>\n",
       "      <td>k gold plated rose</td>\n",
       "      <td>44.0</td>\n",
       "      <td>0</td>\n",
       "      <td>NaN</td>\n",
       "      <td>4.0</td>\n",
       "    </tr>\n",
       "  </tbody>\n",
       "</table>\n",
       "</div>"
      ],
      "text/plain": [
       "  brand_name                                      category_name  \\\n",
       "0       None                                  Men/Tops/T-shirts   \n",
       "1      Razer  Electronics/Computers & Tablets/Components & P...   \n",
       "2     Target                        Women/Tops & Blouses/Blouse   \n",
       "3       None                 Home/Home Décor/Home Décor Accents   \n",
       "4       None                            Women/Jewelry/Necklaces   \n",
       "\n",
       "  item_condition_id                                   item_description  \\\n",
       "0                 3                                    description yet   \n",
       "1                 3  keyboard great condition works like came box p...   \n",
       "2                 1  adorable top hint lace key hole back pale pink...   \n",
       "3                 1  new tags leather horses retail rm stand foot h...   \n",
       "4                 1                  complete certificate authenticity   \n",
       "\n",
       "                                name  price  shipping  test_id  train_id  \n",
       "0  mlb cincinnati reds shirt size xl   10.0         1      NaN       0.0  \n",
       "1   razer blackwidow chroma keyboard   52.0         0      NaN       1.0  \n",
       "2                      avaviv blouse   10.0         1      NaN       2.0  \n",
       "3              leather horse statues   35.0         1      NaN       3.0  \n",
       "4                 k gold plated rose   44.0         0      NaN       4.0  "
      ]
     },
     "execution_count": 52,
     "metadata": {},
     "output_type": "execute_result"
    }
   ],
   "source": [
    "combined.head()"
   ]
  },
  {
   "cell_type": "markdown",
   "metadata": {},
   "source": [
    "# Применяем CountVectorizer / TfidfVectorizer / LabelBinarizer\n",
    "***\n",
    "\n",
    "Для кодирования применяем: Pandas метод factorize и scikit-learn LabelEncoder. \n",
    "- результатом будет набор числовых данных в виде массива."
   ]
  },
  {
   "cell_type": "markdown",
   "metadata": {},
   "source": [
    "<img src='img/end-to-end-cats.svg'>"
   ]
  },
  {
   "cell_type": "markdown",
   "metadata": {},
   "source": [
    "Кодируем каториальные данные в dummy/indicator (binary): в Pandas есть метод get_dummies и scikit-learn OneHotEncoder.\n",
    "- количество уникальных категорий добавить такое же количество уникальных колонок!"
   ]
  },
  {
   "cell_type": "markdown",
   "metadata": {},
   "source": [
    "<img src='img/ohe.png'>"
   ]
  },
  {
   "cell_type": "markdown",
   "metadata": {},
   "source": [
    "# Создаем новые (разбиваем цену на 2 категории)"
   ]
  },
  {
   "cell_type": "code",
   "execution_count": 53,
   "metadata": {},
   "outputs": [
    {
     "data": {
      "text/html": [
       "<div>\n",
       "<style>\n",
       "    .dataframe thead tr:only-child th {\n",
       "        text-align: right;\n",
       "    }\n",
       "\n",
       "    .dataframe thead th {\n",
       "        text-align: left;\n",
       "    }\n",
       "\n",
       "    .dataframe tbody tr th {\n",
       "        vertical-align: top;\n",
       "    }\n",
       "</style>\n",
       "<table border=\"1\" class=\"dataframe\">\n",
       "  <thead>\n",
       "    <tr style=\"text-align: right;\">\n",
       "      <th></th>\n",
       "      <th>brand_name</th>\n",
       "      <th>category_name</th>\n",
       "      <th>item_condition_id</th>\n",
       "      <th>item_description</th>\n",
       "      <th>name</th>\n",
       "      <th>price</th>\n",
       "      <th>shipping</th>\n",
       "      <th>test_id</th>\n",
       "      <th>train_id</th>\n",
       "    </tr>\n",
       "  </thead>\n",
       "  <tbody>\n",
       "    <tr>\n",
       "      <th>0</th>\n",
       "      <td>None</td>\n",
       "      <td>Men/Tops/T-shirts</td>\n",
       "      <td>3</td>\n",
       "      <td>description yet</td>\n",
       "      <td>mlb cincinnati reds shirt size xl</td>\n",
       "      <td>10.0</td>\n",
       "      <td>1</td>\n",
       "      <td>NaN</td>\n",
       "      <td>0.0</td>\n",
       "    </tr>\n",
       "    <tr>\n",
       "      <th>1</th>\n",
       "      <td>Razer</td>\n",
       "      <td>Electronics/Computers &amp; Tablets/Components &amp; P...</td>\n",
       "      <td>3</td>\n",
       "      <td>keyboard great condition works like came box p...</td>\n",
       "      <td>razer blackwidow chroma keyboard</td>\n",
       "      <td>52.0</td>\n",
       "      <td>0</td>\n",
       "      <td>NaN</td>\n",
       "      <td>1.0</td>\n",
       "    </tr>\n",
       "    <tr>\n",
       "      <th>2</th>\n",
       "      <td>Target</td>\n",
       "      <td>Women/Tops &amp; Blouses/Blouse</td>\n",
       "      <td>1</td>\n",
       "      <td>adorable top hint lace key hole back pale pink...</td>\n",
       "      <td>avaviv blouse</td>\n",
       "      <td>10.0</td>\n",
       "      <td>1</td>\n",
       "      <td>NaN</td>\n",
       "      <td>2.0</td>\n",
       "    </tr>\n",
       "    <tr>\n",
       "      <th>3</th>\n",
       "      <td>None</td>\n",
       "      <td>Home/Home Décor/Home Décor Accents</td>\n",
       "      <td>1</td>\n",
       "      <td>new tags leather horses retail rm stand foot h...</td>\n",
       "      <td>leather horse statues</td>\n",
       "      <td>35.0</td>\n",
       "      <td>1</td>\n",
       "      <td>NaN</td>\n",
       "      <td>3.0</td>\n",
       "    </tr>\n",
       "    <tr>\n",
       "      <th>4</th>\n",
       "      <td>None</td>\n",
       "      <td>Women/Jewelry/Necklaces</td>\n",
       "      <td>1</td>\n",
       "      <td>complete certificate authenticity</td>\n",
       "      <td>k gold plated rose</td>\n",
       "      <td>44.0</td>\n",
       "      <td>0</td>\n",
       "      <td>NaN</td>\n",
       "      <td>4.0</td>\n",
       "    </tr>\n",
       "  </tbody>\n",
       "</table>\n",
       "</div>"
      ],
      "text/plain": [
       "  brand_name                                      category_name  \\\n",
       "0       None                                  Men/Tops/T-shirts   \n",
       "1      Razer  Electronics/Computers & Tablets/Components & P...   \n",
       "2     Target                        Women/Tops & Blouses/Blouse   \n",
       "3       None                 Home/Home Décor/Home Décor Accents   \n",
       "4       None                            Women/Jewelry/Necklaces   \n",
       "\n",
       "  item_condition_id                                   item_description  \\\n",
       "0                 3                                    description yet   \n",
       "1                 3  keyboard great condition works like came box p...   \n",
       "2                 1  adorable top hint lace key hole back pale pink...   \n",
       "3                 1  new tags leather horses retail rm stand foot h...   \n",
       "4                 1                  complete certificate authenticity   \n",
       "\n",
       "                                name  price  shipping  test_id  train_id  \n",
       "0  mlb cincinnati reds shirt size xl   10.0         1      NaN       0.0  \n",
       "1   razer blackwidow chroma keyboard   52.0         0      NaN       1.0  \n",
       "2                      avaviv blouse   10.0         1      NaN       2.0  \n",
       "3              leather horse statues   35.0         1      NaN       3.0  \n",
       "4                 k gold plated rose   44.0         0      NaN       4.0  "
      ]
     },
     "execution_count": 53,
     "metadata": {},
     "output_type": "execute_result"
    }
   ],
   "source": [
    "#bins = [0, 64, 5000]\n",
    "#labels = ['less','more']\n",
    "#combined['lt65'] = pd.cut(combined['price'], bins=bins, labels=labels)\n",
    "\n",
    "combined.head()"
   ]
  },
  {
   "cell_type": "code",
   "execution_count": 54,
   "metadata": {},
   "outputs": [
    {
     "data": {
      "text/plain": [
       "<1286735x15973 sparse matrix of type '<class 'numpy.int64'>'\n",
       "\twith 4789374 stored elements in Compressed Sparse Row format>"
      ]
     },
     "execution_count": 54,
     "metadata": {},
     "output_type": "execute_result"
    }
   ],
   "source": [
    "# Применяем Vectorizer к \"name\" \n",
    "cv = CountVectorizer(min_df=10)\n",
    "X_name = cv.fit_transform(combined['name'])\n",
    "X_name"
   ]
  },
  {
   "cell_type": "code",
   "execution_count": 55,
   "metadata": {},
   "outputs": [
    {
     "data": {
      "text/plain": [
       "<1286735x1007 sparse matrix of type '<class 'numpy.int64'>'\n",
       "\twith 5165431 stored elements in Compressed Sparse Row format>"
      ]
     },
     "execution_count": 55,
     "metadata": {},
     "output_type": "execute_result"
    }
   ],
   "source": [
    "# Применяем Vectorizer к \"category_name\"\n",
    "cv = CountVectorizer()\n",
    "X_category = cv.fit_transform(combined['category_name'])\n",
    "#X_sub1 = cv.fit_transform(combined['sub_category_1'])\n",
    "#X_sub2 = cv.fit_transform(combined['sub_category_2'])\n",
    "X_category"
   ]
  },
  {
   "cell_type": "code",
   "execution_count": 56,
   "metadata": {
    "collapsed": true
   },
   "outputs": [],
   "source": [
    "# Применяем TFIDF к \"item_description\", \n",
    "tv = TfidfVectorizer(max_features=55000, ngram_range=(1, 2), stop_words='english')\n",
    "X_description = tv.fit_transform(combined['item_description'])"
   ]
  },
  {
   "cell_type": "code",
   "execution_count": 57,
   "metadata": {
    "collapsed": true
   },
   "outputs": [],
   "source": [
    "# Применяем LabelBinarizer к \"brand_name\"\n",
    "lb = LabelBinarizer(sparse_output=True)\n",
    "X_brand = lb.fit_transform(combined['brand_name'])"
   ]
  },
  {
   "cell_type": "markdown",
   "metadata": {},
   "source": [
    "# Создаем CSR_Matrix и соединяем с существующей \n",
    "\n",
    "### добавляем новые фичи к существовавшим\n",
    "***"
   ]
  },
  {
   "cell_type": "code",
   "execution_count": 58,
   "metadata": {
    "collapsed": true
   },
   "outputs": [],
   "source": [
    "X_dummies = csr_matrix(pd.get_dummies(combined[['item_condition_id', 'shipping']], sparse=True).values)\n",
    "sparse_merge = hstack((X_dummies, X_description, X_brand, X_category, X_name)).tocsr()"
   ]
  },
  {
   "cell_type": "markdown",
   "metadata": {},
   "source": [
    "# Разделяй, Обучай, Валидируй\n",
    "***"
   ]
  },
  {
   "cell_type": "code",
   "execution_count": 59,
   "metadata": {
    "collapsed": true
   },
   "outputs": [],
   "source": [
    "# сделаем процесс train / test split\n",
    "X_train_sparse = sparse_merge[:train_size]\n",
    "\n",
    "X_test = sparse_merge[train_size:]\n",
    "\n",
    "#X_train = sparse_merge[:len(combined_ML)]\n",
    "\n",
    "#X_test = sparse_merge[len(combined_ML):]"
   ]
  },
  {
   "cell_type": "code",
   "execution_count": 60,
   "metadata": {},
   "outputs": [
    {
     "data": {
      "text/plain": [
       "Index(['brand_name', 'category_name', 'item_condition_id', 'item_description',\n",
       "       'name', 'price', 'shipping', 'test_id', 'train_id'],\n",
       "      dtype='object')"
      ]
     },
     "execution_count": 60,
     "metadata": {},
     "output_type": "execute_result"
    }
   ],
   "source": [
    "combined.columns"
   ]
  },
  {
   "cell_type": "code",
   "execution_count": null,
   "metadata": {},
   "outputs": [],
   "source": [
    "# обусдим валидацию и варианты обучения"
   ]
  },
  {
   "cell_type": "markdown",
   "metadata": {},
   "source": [
    "## Cross Validation"
   ]
  },
  {
   "cell_type": "markdown",
   "metadata": {},
   "source": [
    "<img src=\"https://cdn-images-1.medium.com/max/948/1*4G__SV580CxFj78o9yUXuQ.png\"/>"
   ]
  },
  {
   "cell_type": "code",
   "execution_count": 61,
   "metadata": {
    "scrolled": true
   },
   "outputs": [
    {
     "name": "stderr",
     "output_type": "stream",
     "text": [
      "C:\\Users\\Randy\\Anaconda3\\lib\\site-packages\\sklearn\\cross_validation.py:44: DeprecationWarning: This module was deprecated in version 0.18 in favor of the model_selection module into which all the refactored classes and functions are moved. Also note that the interface of the new CV iterators are different from that of this module. This module will be removed in 0.20.\n",
      "  \"This module will be removed in 0.20.\", DeprecationWarning)\n"
     ]
    }
   ],
   "source": [
    "# разобьюем на части нашу выборку\n",
    "from sklearn.cross_validation import KFold\n",
    "eval_size = .10\n",
    "kf = KFold(len(y), round(1. / eval_size))\n",
    "train_indicies, valid_indicies = next(iter(kf))\n",
    "X_train, y_train = X_train_sparse[train_indicies], y[train_indicies]\n",
    "X_valid, y_valid = X_train_sparse[valid_indicies], y[valid_indicies]"
   ]
  },
  {
   "cell_type": "markdown",
   "metadata": {},
   "source": [
    "## RMSLE функция\n",
    "\n",
    "Почему не просто RMSE? В чем заключается смысл логорифмирования и как получить даныне обратно?\n"
   ]
  },
  {
   "cell_type": "code",
   "execution_count": 62,
   "metadata": {
    "collapsed": true
   },
   "outputs": [],
   "source": [
    "def rmsle(y, y0):\n",
    "    assert len(y) == len(y0)\n",
    "    return np.sqrt(np.mean(np.power(np.log1p(y)-np.log1p(y0), 2)))"
   ]
  },
  {
   "cell_type": "markdown",
   "metadata": {},
   "source": [
    "# GradientBoosting\n",
    "## Обучаем LGBM\n",
    "\n",
    "Почему LGBM, а не XgBoost / CatBoost?\n",
    "Стоит попробовать CatBoost, так как много категориальных данных?\n",
    "\n",
    "\n",
    "Приемущества LGBM \"бустинга\":\n",
    "- скорость обучения (у LGBM) и большая эффективность\n",
    "- не большие затраты память\n",
    "- хорошая точность\n",
    "- хорошая работа с большими наборами данных\n",
    "- особенность деревьев"
   ]
  },
  {
   "cell_type": "markdown",
   "metadata": {},
   "source": [
    "<img src='img/lgbm.png'>"
   ]
  },
  {
   "cell_type": "code",
   "execution_count": 63,
   "metadata": {
    "collapsed": true
   },
   "outputs": [],
   "source": [
    "import lightgbm as lgb\n",
    "d_train = lgb.Dataset(X_train, label=y_train)"
   ]
  },
  {
   "cell_type": "code",
   "execution_count": 64,
   "metadata": {
    "collapsed": true
   },
   "outputs": [],
   "source": [
    "params = {}\n",
    "#params['learning_rate'] = 0.003\n",
    "params['boosting_type'] = 'gbdt'\n",
    "params['objective'] = 'regression'\n",
    "params['metric'] = 'rmse'\n",
    "\n",
    "clf = lgb.train(params, d_train, 100)"
   ]
  },
  {
   "cell_type": "code",
   "execution_count": 65,
   "metadata": {
    "collapsed": true
   },
   "outputs": [],
   "source": [
    "#определяем цену\n",
    "lgbm_pred=clf.predict(X_valid)"
   ]
  },
  {
   "cell_type": "code",
   "execution_count": 66,
   "metadata": {
    "scrolled": true
   },
   "outputs": [
    {
     "data": {
      "text/plain": [
       "array([ 10.7214129 ,  29.60000413,  13.02518987, ...,  12.85446125,\n",
       "        19.31981685,  15.34901857])"
      ]
     },
     "execution_count": 66,
     "metadata": {},
     "output_type": "execute_result"
    }
   ],
   "source": [
    "# трансформация цены в нормальную\n",
    "np.expm1(lgbm_pred)"
   ]
  },
  {
   "cell_type": "code",
   "execution_count": 69,
   "metadata": {
    "scrolled": true
   },
   "outputs": [
    {
     "name": "stdout",
     "output_type": "stream",
     "text": [
      "[0.0] LGBM completed.\n",
      "LGBM rmsle: 0.540597319376\n"
     ]
    }
   ],
   "source": [
    "import time\n",
    "start_time = time.time()\n",
    "print('[{}] LGBM completed.'.format(time.time() - start_time))\n",
    "print(\"LGBM rmsle: \"+str(rmsle(np.expm1(y_valid), np.expm1(lgbm_pred))))"
   ]
  },
  {
   "cell_type": "markdown",
   "metadata": {},
   "source": [
    "The RMSLE of LGBM is: **0.5406**"
   ]
  },
  {
   "cell_type": "markdown",
   "metadata": {},
   "source": [
    "## Ridge Regression"
   ]
  },
  {
   "cell_type": "code",
   "execution_count": 70,
   "metadata": {
    "scrolled": true
   },
   "outputs": [
    {
     "name": "stdout",
     "output_type": "stream",
     "text": [
      "Fitting Ridge Model\n",
      "[32.998536586761475] Ridge completed.\n",
      "Ridge rmsle: 0.482907420753\n"
     ]
    }
   ],
   "source": [
    "import time \n",
    "\n",
    "start_time = time.time()\n",
    "\n",
    "model = Ridge(solver = \"sag\", fit_intercept=False)\n",
    "\n",
    "print(\"Fitting Ridge Model\")\n",
    "model.fit(X_train, y_train)\n",
    "\n",
    "preds_valid = model.predict(X_valid)\n",
    "\n",
    "print('[{}] Ridge completed.'.format(time.time() - start_time))\n",
    "print(\"Ridge rmsle: \"+str(rmsle(np.expm1(y_valid), np.expm1(preds_valid))))"
   ]
  },
  {
   "cell_type": "code",
   "execution_count": 71,
   "metadata": {},
   "outputs": [
    {
     "data": {
      "text/plain": [
       "array([  9.09673618,  83.84303118,  11.78868638, ...,  12.66779351,\n",
       "        23.59042071,  11.21630299])"
      ]
     },
     "execution_count": 71,
     "metadata": {},
     "output_type": "execute_result"
    }
   ],
   "source": [
    "np.expm1(preds_valid)"
   ]
  },
  {
   "cell_type": "markdown",
   "metadata": {},
   "source": [
    "The RMSLE of Ridge Regression is: **0.4829**"
   ]
  },
  {
   "cell_type": "markdown",
   "metadata": {
    "collapsed": true
   },
   "source": [
    "# Что дальше?\n",
    "\n",
    "1. Рассмотрим значимость \"фич\" и их отражение в таргите. Попробуем найти что-то интересно\n",
    "2. Увеличить или уменьшить количество категорий.\n",
    "3. Добавить больше анализа текста\n",
    "\n",
    "++ Какие ещё варианты?"
   ]
  },
  {
   "cell_type": "markdown",
   "metadata": {},
   "source": [
    "## Время Test"
   ]
  },
  {
   "cell_type": "code",
   "execution_count": 72,
   "metadata": {
    "scrolled": false
   },
   "outputs": [
    {
     "name": "stderr",
     "output_type": "stream",
     "text": [
      "C:\\Users\\Randy\\Anaconda3\\lib\\site-packages\\ipykernel_launcher.py:4: SettingWithCopyWarning: \n",
      "A value is trying to be set on a copy of a slice from a DataFrame.\n",
      "Try using .loc[row_indexer,col_indexer] = value instead\n",
      "\n",
      "See the caveats in the documentation: http://pandas.pydata.org/pandas-docs/stable/indexing.html#indexing-view-versus-copy\n",
      "  after removing the cwd from sys.path.\n"
     ]
    }
   ],
   "source": [
    "preds = model.predict(X_test)\n",
    "\n",
    "t[\"price\"] = np.expm1(preds)"
   ]
  },
  {
   "cell_type": "code",
   "execution_count": 73,
   "metadata": {},
   "outputs": [
    {
     "data": {
      "text/html": [
       "<div>\n",
       "<style>\n",
       "    .dataframe thead tr:only-child th {\n",
       "        text-align: right;\n",
       "    }\n",
       "\n",
       "    .dataframe thead th {\n",
       "        text-align: left;\n",
       "    }\n",
       "\n",
       "    .dataframe tbody tr th {\n",
       "        vertical-align: top;\n",
       "    }\n",
       "</style>\n",
       "<table border=\"1\" class=\"dataframe\">\n",
       "  <thead>\n",
       "    <tr style=\"text-align: right;\">\n",
       "      <th></th>\n",
       "      <th>test_id</th>\n",
       "      <th>price</th>\n",
       "    </tr>\n",
       "  </thead>\n",
       "  <tbody>\n",
       "    <tr>\n",
       "      <th>0</th>\n",
       "      <td>0</td>\n",
       "      <td>11.162749</td>\n",
       "    </tr>\n",
       "    <tr>\n",
       "      <th>1</th>\n",
       "      <td>1</td>\n",
       "      <td>12.555600</td>\n",
       "    </tr>\n",
       "    <tr>\n",
       "      <th>2</th>\n",
       "      <td>2</td>\n",
       "      <td>53.157534</td>\n",
       "    </tr>\n",
       "    <tr>\n",
       "      <th>3</th>\n",
       "      <td>3</td>\n",
       "      <td>17.925542</td>\n",
       "    </tr>\n",
       "    <tr>\n",
       "      <th>4</th>\n",
       "      <td>4</td>\n",
       "      <td>7.363347</td>\n",
       "    </tr>\n",
       "    <tr>\n",
       "      <th>5</th>\n",
       "      <td>5</td>\n",
       "      <td>9.959583</td>\n",
       "    </tr>\n",
       "    <tr>\n",
       "      <th>6</th>\n",
       "      <td>6</td>\n",
       "      <td>9.521093</td>\n",
       "    </tr>\n",
       "    <tr>\n",
       "      <th>7</th>\n",
       "      <td>7</td>\n",
       "      <td>33.185204</td>\n",
       "    </tr>\n",
       "    <tr>\n",
       "      <th>8</th>\n",
       "      <td>8</td>\n",
       "      <td>45.666661</td>\n",
       "    </tr>\n",
       "    <tr>\n",
       "      <th>9</th>\n",
       "      <td>9</td>\n",
       "      <td>6.283195</td>\n",
       "    </tr>\n",
       "    <tr>\n",
       "      <th>10</th>\n",
       "      <td>10</td>\n",
       "      <td>52.478731</td>\n",
       "    </tr>\n",
       "    <tr>\n",
       "      <th>11</th>\n",
       "      <td>11</td>\n",
       "      <td>9.582656</td>\n",
       "    </tr>\n",
       "    <tr>\n",
       "      <th>12</th>\n",
       "      <td>12</td>\n",
       "      <td>33.508056</td>\n",
       "    </tr>\n",
       "    <tr>\n",
       "      <th>13</th>\n",
       "      <td>13</td>\n",
       "      <td>49.353728</td>\n",
       "    </tr>\n",
       "    <tr>\n",
       "      <th>14</th>\n",
       "      <td>14</td>\n",
       "      <td>24.605690</td>\n",
       "    </tr>\n",
       "    <tr>\n",
       "      <th>15</th>\n",
       "      <td>15</td>\n",
       "      <td>8.701512</td>\n",
       "    </tr>\n",
       "    <tr>\n",
       "      <th>16</th>\n",
       "      <td>16</td>\n",
       "      <td>24.601817</td>\n",
       "    </tr>\n",
       "    <tr>\n",
       "      <th>17</th>\n",
       "      <td>17</td>\n",
       "      <td>17.042603</td>\n",
       "    </tr>\n",
       "    <tr>\n",
       "      <th>18</th>\n",
       "      <td>18</td>\n",
       "      <td>41.234336</td>\n",
       "    </tr>\n",
       "    <tr>\n",
       "      <th>19</th>\n",
       "      <td>19</td>\n",
       "      <td>7.499206</td>\n",
       "    </tr>\n",
       "    <tr>\n",
       "      <th>20</th>\n",
       "      <td>20</td>\n",
       "      <td>6.479075</td>\n",
       "    </tr>\n",
       "    <tr>\n",
       "      <th>21</th>\n",
       "      <td>21</td>\n",
       "      <td>10.071822</td>\n",
       "    </tr>\n",
       "    <tr>\n",
       "      <th>22</th>\n",
       "      <td>22</td>\n",
       "      <td>11.011129</td>\n",
       "    </tr>\n",
       "    <tr>\n",
       "      <th>23</th>\n",
       "      <td>23</td>\n",
       "      <td>13.974448</td>\n",
       "    </tr>\n",
       "    <tr>\n",
       "      <th>24</th>\n",
       "      <td>24</td>\n",
       "      <td>43.893530</td>\n",
       "    </tr>\n",
       "    <tr>\n",
       "      <th>25</th>\n",
       "      <td>25</td>\n",
       "      <td>7.502994</td>\n",
       "    </tr>\n",
       "    <tr>\n",
       "      <th>26</th>\n",
       "      <td>26</td>\n",
       "      <td>20.210556</td>\n",
       "    </tr>\n",
       "    <tr>\n",
       "      <th>27</th>\n",
       "      <td>27</td>\n",
       "      <td>8.181354</td>\n",
       "    </tr>\n",
       "    <tr>\n",
       "      <th>28</th>\n",
       "      <td>28</td>\n",
       "      <td>53.241879</td>\n",
       "    </tr>\n",
       "    <tr>\n",
       "      <th>29</th>\n",
       "      <td>29</td>\n",
       "      <td>7.257089</td>\n",
       "    </tr>\n",
       "    <tr>\n",
       "      <th>...</th>\n",
       "      <td>...</td>\n",
       "      <td>...</td>\n",
       "    </tr>\n",
       "    <tr>\n",
       "      <th>693329</th>\n",
       "      <td>693329</td>\n",
       "      <td>28.354434</td>\n",
       "    </tr>\n",
       "    <tr>\n",
       "      <th>693330</th>\n",
       "      <td>693330</td>\n",
       "      <td>20.699427</td>\n",
       "    </tr>\n",
       "    <tr>\n",
       "      <th>693331</th>\n",
       "      <td>693331</td>\n",
       "      <td>14.273625</td>\n",
       "    </tr>\n",
       "    <tr>\n",
       "      <th>693332</th>\n",
       "      <td>693332</td>\n",
       "      <td>43.814946</td>\n",
       "    </tr>\n",
       "    <tr>\n",
       "      <th>693333</th>\n",
       "      <td>693333</td>\n",
       "      <td>16.261933</td>\n",
       "    </tr>\n",
       "    <tr>\n",
       "      <th>693334</th>\n",
       "      <td>693334</td>\n",
       "      <td>81.738151</td>\n",
       "    </tr>\n",
       "    <tr>\n",
       "      <th>693335</th>\n",
       "      <td>693335</td>\n",
       "      <td>6.648241</td>\n",
       "    </tr>\n",
       "    <tr>\n",
       "      <th>693336</th>\n",
       "      <td>693336</td>\n",
       "      <td>15.763434</td>\n",
       "    </tr>\n",
       "    <tr>\n",
       "      <th>693337</th>\n",
       "      <td>693337</td>\n",
       "      <td>17.041259</td>\n",
       "    </tr>\n",
       "    <tr>\n",
       "      <th>693338</th>\n",
       "      <td>693338</td>\n",
       "      <td>14.168938</td>\n",
       "    </tr>\n",
       "    <tr>\n",
       "      <th>693339</th>\n",
       "      <td>693339</td>\n",
       "      <td>13.545883</td>\n",
       "    </tr>\n",
       "    <tr>\n",
       "      <th>693340</th>\n",
       "      <td>693340</td>\n",
       "      <td>3.973624</td>\n",
       "    </tr>\n",
       "    <tr>\n",
       "      <th>693341</th>\n",
       "      <td>693341</td>\n",
       "      <td>219.385862</td>\n",
       "    </tr>\n",
       "    <tr>\n",
       "      <th>693342</th>\n",
       "      <td>693342</td>\n",
       "      <td>4.910538</td>\n",
       "    </tr>\n",
       "    <tr>\n",
       "      <th>693343</th>\n",
       "      <td>693343</td>\n",
       "      <td>17.301045</td>\n",
       "    </tr>\n",
       "    <tr>\n",
       "      <th>693344</th>\n",
       "      <td>693344</td>\n",
       "      <td>21.939166</td>\n",
       "    </tr>\n",
       "    <tr>\n",
       "      <th>693345</th>\n",
       "      <td>693345</td>\n",
       "      <td>13.895224</td>\n",
       "    </tr>\n",
       "    <tr>\n",
       "      <th>693346</th>\n",
       "      <td>693346</td>\n",
       "      <td>29.366304</td>\n",
       "    </tr>\n",
       "    <tr>\n",
       "      <th>693347</th>\n",
       "      <td>693347</td>\n",
       "      <td>45.978350</td>\n",
       "    </tr>\n",
       "    <tr>\n",
       "      <th>693348</th>\n",
       "      <td>693348</td>\n",
       "      <td>67.798859</td>\n",
       "    </tr>\n",
       "    <tr>\n",
       "      <th>693349</th>\n",
       "      <td>693349</td>\n",
       "      <td>10.384145</td>\n",
       "    </tr>\n",
       "    <tr>\n",
       "      <th>693350</th>\n",
       "      <td>693350</td>\n",
       "      <td>8.716605</td>\n",
       "    </tr>\n",
       "    <tr>\n",
       "      <th>693351</th>\n",
       "      <td>693351</td>\n",
       "      <td>9.640998</td>\n",
       "    </tr>\n",
       "    <tr>\n",
       "      <th>693352</th>\n",
       "      <td>693352</td>\n",
       "      <td>14.098605</td>\n",
       "    </tr>\n",
       "    <tr>\n",
       "      <th>693353</th>\n",
       "      <td>693353</td>\n",
       "      <td>14.731720</td>\n",
       "    </tr>\n",
       "    <tr>\n",
       "      <th>693354</th>\n",
       "      <td>693354</td>\n",
       "      <td>19.804941</td>\n",
       "    </tr>\n",
       "    <tr>\n",
       "      <th>693355</th>\n",
       "      <td>693355</td>\n",
       "      <td>26.429490</td>\n",
       "    </tr>\n",
       "    <tr>\n",
       "      <th>693356</th>\n",
       "      <td>693356</td>\n",
       "      <td>6.252158</td>\n",
       "    </tr>\n",
       "    <tr>\n",
       "      <th>693357</th>\n",
       "      <td>693357</td>\n",
       "      <td>15.377224</td>\n",
       "    </tr>\n",
       "    <tr>\n",
       "      <th>693358</th>\n",
       "      <td>693358</td>\n",
       "      <td>9.742211</td>\n",
       "    </tr>\n",
       "  </tbody>\n",
       "</table>\n",
       "<p>693359 rows × 2 columns</p>\n",
       "</div>"
      ],
      "text/plain": [
       "        test_id       price\n",
       "0             0   11.162749\n",
       "1             1   12.555600\n",
       "2             2   53.157534\n",
       "3             3   17.925542\n",
       "4             4    7.363347\n",
       "5             5    9.959583\n",
       "6             6    9.521093\n",
       "7             7   33.185204\n",
       "8             8   45.666661\n",
       "9             9    6.283195\n",
       "10           10   52.478731\n",
       "11           11    9.582656\n",
       "12           12   33.508056\n",
       "13           13   49.353728\n",
       "14           14   24.605690\n",
       "15           15    8.701512\n",
       "16           16   24.601817\n",
       "17           17   17.042603\n",
       "18           18   41.234336\n",
       "19           19    7.499206\n",
       "20           20    6.479075\n",
       "21           21   10.071822\n",
       "22           22   11.011129\n",
       "23           23   13.974448\n",
       "24           24   43.893530\n",
       "25           25    7.502994\n",
       "26           26   20.210556\n",
       "27           27    8.181354\n",
       "28           28   53.241879\n",
       "29           29    7.257089\n",
       "...         ...         ...\n",
       "693329   693329   28.354434\n",
       "693330   693330   20.699427\n",
       "693331   693331   14.273625\n",
       "693332   693332   43.814946\n",
       "693333   693333   16.261933\n",
       "693334   693334   81.738151\n",
       "693335   693335    6.648241\n",
       "693336   693336   15.763434\n",
       "693337   693337   17.041259\n",
       "693338   693338   14.168938\n",
       "693339   693339   13.545883\n",
       "693340   693340    3.973624\n",
       "693341   693341  219.385862\n",
       "693342   693342    4.910538\n",
       "693343   693343   17.301045\n",
       "693344   693344   21.939166\n",
       "693345   693345   13.895224\n",
       "693346   693346   29.366304\n",
       "693347   693347   45.978350\n",
       "693348   693348   67.798859\n",
       "693349   693349   10.384145\n",
       "693350   693350    8.716605\n",
       "693351   693351    9.640998\n",
       "693352   693352   14.098605\n",
       "693353   693353   14.731720\n",
       "693354   693354   19.804941\n",
       "693355   693355   26.429490\n",
       "693356   693356    6.252158\n",
       "693357   693357   15.377224\n",
       "693358   693358    9.742211\n",
       "\n",
       "[693359 rows x 2 columns]"
      ]
     },
     "execution_count": 73,
     "metadata": {},
     "output_type": "execute_result"
    }
   ],
   "source": [
    "t"
   ]
  },
  {
   "cell_type": "markdown",
   "metadata": {},
   "source": [
    "# Дискуссии и рефлексия\n",
    "***\n",
    "\n",
    "1. Это только мала часть анализа. Но как мы начинаем его делать, что означает \"метод пирога\"? \n",
    "2. Расскажите про TF IDF и способы генерации фич\n",
    "3. Почему выбрана метрика с логорифмом\n",
    "4. Какая особенность у бустинга, какой ещё следует попробовать?"
   ]
  },
  {
   "cell_type": "code",
   "execution_count": null,
   "metadata": {},
   "outputs": [],
   "source": []
  }
 ],
 "metadata": {
  "kernelspec": {
   "display_name": "Python 3",
   "language": "python",
   "name": "python3"
  },
  "language_info": {
   "codemirror_mode": {
    "name": "ipython",
    "version": 3
   },
   "file_extension": ".py",
   "mimetype": "text/x-python",
   "name": "python",
   "nbconvert_exporter": "python",
   "pygments_lexer": "ipython3",
   "version": "3.7.6"
  }
 },
 "nbformat": 4,
 "nbformat_minor": 2
}

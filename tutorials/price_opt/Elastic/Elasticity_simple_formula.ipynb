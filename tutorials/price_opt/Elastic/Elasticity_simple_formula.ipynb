{
 "cells": [
  {
   "cell_type": "code",
   "execution_count": 1,
   "metadata": {},
   "outputs": [],
   "source": [
    "import numpy as np\n",
    "import pandas as pd \n",
    "import matplotlib.pyplot as plt\n",
    "import seaborn as sns\n",
    "sns.set()\n"
   ]
  },
  {
   "cell_type": "code",
   "execution_count": 20,
   "metadata": {},
   "outputs": [
    {
     "data": {
      "text/html": [
       "<div>\n",
       "<style scoped>\n",
       "    .dataframe tbody tr th:only-of-type {\n",
       "        vertical-align: middle;\n",
       "    }\n",
       "\n",
       "    .dataframe tbody tr th {\n",
       "        vertical-align: top;\n",
       "    }\n",
       "\n",
       "    .dataframe thead th {\n",
       "        text-align: right;\n",
       "    }\n",
       "</style>\n",
       "<table border=\"1\" class=\"dataframe\">\n",
       "  <thead>\n",
       "    <tr style=\"text-align: right;\">\n",
       "      <th></th>\n",
       "      <th>ID</th>\n",
       "      <th>Day</th>\n",
       "      <th>Incidence</th>\n",
       "      <th>Brand</th>\n",
       "      <th>Quantity</th>\n",
       "      <th>Price_1</th>\n",
       "      <th>Price_2</th>\n",
       "      <th>Price_3</th>\n",
       "      <th>Price_4</th>\n",
       "      <th>Price_5</th>\n",
       "      <th>...</th>\n",
       "      <th>Settlement size</th>\n",
       "      <th>segment</th>\n",
       "      <th>spent</th>\n",
       "      <th>Brand_1</th>\n",
       "      <th>Brand_2</th>\n",
       "      <th>Brand_3</th>\n",
       "      <th>Brand_4</th>\n",
       "      <th>Brand_5</th>\n",
       "      <th>rfm_segment</th>\n",
       "      <th>cluster_segment</th>\n",
       "    </tr>\n",
       "  </thead>\n",
       "  <tbody>\n",
       "    <tr>\n",
       "      <th>0</th>\n",
       "      <td>200000001</td>\n",
       "      <td>1</td>\n",
       "      <td>0</td>\n",
       "      <td>0</td>\n",
       "      <td>0</td>\n",
       "      <td>1.59</td>\n",
       "      <td>1.87</td>\n",
       "      <td>2.01</td>\n",
       "      <td>2.09</td>\n",
       "      <td>2.66</td>\n",
       "      <td>...</td>\n",
       "      <td>0</td>\n",
       "      <td>Working Class</td>\n",
       "      <td>0.0</td>\n",
       "      <td>0</td>\n",
       "      <td>0</td>\n",
       "      <td>0</td>\n",
       "      <td>0</td>\n",
       "      <td>0</td>\n",
       "      <td>Potential Loyalist</td>\n",
       "      <td>Working Class</td>\n",
       "    </tr>\n",
       "    <tr>\n",
       "      <th>1</th>\n",
       "      <td>200000001</td>\n",
       "      <td>11</td>\n",
       "      <td>0</td>\n",
       "      <td>0</td>\n",
       "      <td>0</td>\n",
       "      <td>1.51</td>\n",
       "      <td>1.89</td>\n",
       "      <td>1.99</td>\n",
       "      <td>2.09</td>\n",
       "      <td>2.66</td>\n",
       "      <td>...</td>\n",
       "      <td>0</td>\n",
       "      <td>Working Class</td>\n",
       "      <td>0.0</td>\n",
       "      <td>0</td>\n",
       "      <td>0</td>\n",
       "      <td>0</td>\n",
       "      <td>0</td>\n",
       "      <td>0</td>\n",
       "      <td>Potential Loyalist</td>\n",
       "      <td>Working Class</td>\n",
       "    </tr>\n",
       "    <tr>\n",
       "      <th>2</th>\n",
       "      <td>200000001</td>\n",
       "      <td>12</td>\n",
       "      <td>0</td>\n",
       "      <td>0</td>\n",
       "      <td>0</td>\n",
       "      <td>1.51</td>\n",
       "      <td>1.89</td>\n",
       "      <td>1.99</td>\n",
       "      <td>2.09</td>\n",
       "      <td>2.66</td>\n",
       "      <td>...</td>\n",
       "      <td>0</td>\n",
       "      <td>Working Class</td>\n",
       "      <td>0.0</td>\n",
       "      <td>0</td>\n",
       "      <td>0</td>\n",
       "      <td>0</td>\n",
       "      <td>0</td>\n",
       "      <td>0</td>\n",
       "      <td>Potential Loyalist</td>\n",
       "      <td>Working Class</td>\n",
       "    </tr>\n",
       "    <tr>\n",
       "      <th>3</th>\n",
       "      <td>200000001</td>\n",
       "      <td>16</td>\n",
       "      <td>0</td>\n",
       "      <td>0</td>\n",
       "      <td>0</td>\n",
       "      <td>1.52</td>\n",
       "      <td>1.89</td>\n",
       "      <td>1.98</td>\n",
       "      <td>2.09</td>\n",
       "      <td>2.66</td>\n",
       "      <td>...</td>\n",
       "      <td>0</td>\n",
       "      <td>Working Class</td>\n",
       "      <td>0.0</td>\n",
       "      <td>0</td>\n",
       "      <td>0</td>\n",
       "      <td>0</td>\n",
       "      <td>0</td>\n",
       "      <td>0</td>\n",
       "      <td>Potential Loyalist</td>\n",
       "      <td>Working Class</td>\n",
       "    </tr>\n",
       "    <tr>\n",
       "      <th>4</th>\n",
       "      <td>200000001</td>\n",
       "      <td>18</td>\n",
       "      <td>0</td>\n",
       "      <td>0</td>\n",
       "      <td>0</td>\n",
       "      <td>1.52</td>\n",
       "      <td>1.89</td>\n",
       "      <td>1.99</td>\n",
       "      <td>2.09</td>\n",
       "      <td>2.66</td>\n",
       "      <td>...</td>\n",
       "      <td>0</td>\n",
       "      <td>Working Class</td>\n",
       "      <td>0.0</td>\n",
       "      <td>0</td>\n",
       "      <td>0</td>\n",
       "      <td>0</td>\n",
       "      <td>0</td>\n",
       "      <td>0</td>\n",
       "      <td>Potential Loyalist</td>\n",
       "      <td>Working Class</td>\n",
       "    </tr>\n",
       "  </tbody>\n",
       "</table>\n",
       "<p>5 rows × 31 columns</p>\n",
       "</div>"
      ],
      "text/plain": [
       "          ID  Day  Incidence  Brand  Quantity  Price_1  Price_2  Price_3  \\\n",
       "0  200000001    1          0      0         0     1.59     1.87     2.01   \n",
       "1  200000001   11          0      0         0     1.51     1.89     1.99   \n",
       "2  200000001   12          0      0         0     1.51     1.89     1.99   \n",
       "3  200000001   16          0      0         0     1.52     1.89     1.98   \n",
       "4  200000001   18          0      0         0     1.52     1.89     1.99   \n",
       "\n",
       "   Price_4  Price_5  ...  Settlement size        segment  spent  Brand_1  \\\n",
       "0     2.09     2.66  ...                0  Working Class    0.0        0   \n",
       "1     2.09     2.66  ...                0  Working Class    0.0        0   \n",
       "2     2.09     2.66  ...                0  Working Class    0.0        0   \n",
       "3     2.09     2.66  ...                0  Working Class    0.0        0   \n",
       "4     2.09     2.66  ...                0  Working Class    0.0        0   \n",
       "\n",
       "   Brand_2  Brand_3  Brand_4  Brand_5         rfm_segment  cluster_segment  \n",
       "0        0        0        0        0  Potential Loyalist    Working Class  \n",
       "1        0        0        0        0  Potential Loyalist    Working Class  \n",
       "2        0        0        0        0  Potential Loyalist    Working Class  \n",
       "3        0        0        0        0  Potential Loyalist    Working Class  \n",
       "4        0        0        0        0  Potential Loyalist    Working Class  \n",
       "\n",
       "[5 rows x 31 columns]"
      ]
     },
     "execution_count": 20,
     "metadata": {},
     "output_type": "execute_result"
    }
   ],
   "source": [
    "df_raw = pd.read_csv(\"data/df_final_seg.csv\")\n",
    "df = df_raw.drop(\"Unnamed: 0\", axis=1)\n",
    "df.head()"
   ]
  },
  {
   "cell_type": "code",
   "execution_count": 5,
   "metadata": {},
   "outputs": [],
   "source": [
    "df[\"total_pices_mean\"] = (( df['Price_1'] + df['Price_2'] +    df['Price_3'] +     df['Price_4'] +  df['Price_5'] )/5)"
   ]
  },
  {
   "cell_type": "code",
   "execution_count": 6,
   "metadata": {},
   "outputs": [],
   "source": [
    "X = pd.DataFrame( df[\"total_pices_mean\"].values , columns=['Price'] ) \n",
    "y = df['Incidence']"
   ]
  },
  {
   "cell_type": "code",
   "execution_count": 7,
   "metadata": {},
   "outputs": [
    {
     "data": {
      "text/plain": [
       "LogisticRegression(random_state=3, solver='sag')"
      ]
     },
     "execution_count": 7,
     "metadata": {},
     "output_type": "execute_result"
    }
   ],
   "source": [
    "from sklearn.linear_model import LogisticRegression\n",
    "model_purch = LogisticRegression(solver = 'sag' , random_state=3)\n",
    "model_purch.fit(X, y)"
   ]
  },
  {
   "cell_type": "code",
   "execution_count": 8,
   "metadata": {},
   "outputs": [
    {
     "name": "stdout",
     "output_type": "stream",
     "text": [
      "[[-2.34793912]]\n"
     ]
    }
   ],
   "source": [
    "print(model_purch.coef_)"
   ]
  },
  {
   "cell_type": "markdown",
   "metadata": {},
   "source": [
    "## Price Elasticity\n",
    "\n",
    "**Formula**\n",
    "```\n",
    "Elasticity =  Beta * price(1-Probability(purchase) )\n",
    "```\n",
    "\n",
    "__Beta__: Model Coefficient"
   ]
  },
  {
   "cell_type": "code",
   "execution_count": 10,
   "metadata": {},
   "outputs": [
    {
     "name": "stdout",
     "output_type": "stream",
     "text": [
      "Price_1    1.10\n",
      "Price_2    1.26\n",
      "Price_3    1.87\n",
      "Price_4    1.76\n",
      "Price_5    2.11\n",
      "dtype: float64\n",
      "Price_1    1.59\n",
      "Price_2    1.90\n",
      "Price_3    2.14\n",
      "Price_4    2.26\n",
      "Price_5    2.80\n",
      "dtype: float64\n"
     ]
    }
   ],
   "source": [
    "# цены для симуляций\n",
    "print(df[[\"Price_1\", \"Price_2\", \"Price_3\", \"Price_4\", \"Price_5\"]].min())\n",
    "print(df[[\"Price_1\", \"Price_2\", \"Price_3\", \"Price_4\", \"Price_5\"]].max())\n"
   ]
  },
  {
   "cell_type": "code",
   "execution_count": 11,
   "metadata": {},
   "outputs": [],
   "source": [
    "price_rng = np.arange(0.5, 3.5, 0.01)\n",
    "df_price_elast = pd.DataFrame(price_rng , columns=['price_range'])"
   ]
  },
  {
   "cell_type": "code",
   "execution_count": 12,
   "metadata": {},
   "outputs": [],
   "source": [
    "preds = model_purch.predict_proba(df_price_elast[\"price_range\"].values.reshape(-1 , 1))\n",
    "prob_inci = preds[:][:, 1]\n",
    "\n",
    "#Elasticity\n",
    "prc_elast = model_purch.coef_[:, 0] * price_rng * (1 - prob_inci)"
   ]
  },
  {
   "cell_type": "code",
   "execution_count": 13,
   "metadata": {},
   "outputs": [
    {
     "data": {
      "text/html": [
       "<div>\n",
       "<style scoped>\n",
       "    .dataframe tbody tr th:only-of-type {\n",
       "        vertical-align: middle;\n",
       "    }\n",
       "\n",
       "    .dataframe tbody tr th {\n",
       "        vertical-align: top;\n",
       "    }\n",
       "\n",
       "    .dataframe thead th {\n",
       "        text-align: right;\n",
       "    }\n",
       "</style>\n",
       "<table border=\"1\" class=\"dataframe\">\n",
       "  <thead>\n",
       "    <tr style=\"text-align: right;\">\n",
       "      <th></th>\n",
       "      <th>price_range</th>\n",
       "      <th>price_elasticity</th>\n",
       "    </tr>\n",
       "  </thead>\n",
       "  <tbody>\n",
       "    <tr>\n",
       "      <th>0</th>\n",
       "      <td>0.50</td>\n",
       "      <td>-0.096407</td>\n",
       "    </tr>\n",
       "    <tr>\n",
       "      <th>1</th>\n",
       "      <td>0.51</td>\n",
       "      <td>-0.100475</td>\n",
       "    </tr>\n",
       "    <tr>\n",
       "      <th>2</th>\n",
       "      <td>0.52</td>\n",
       "      <td>-0.104670</td>\n",
       "    </tr>\n",
       "    <tr>\n",
       "      <th>3</th>\n",
       "      <td>0.53</td>\n",
       "      <td>-0.108996</td>\n",
       "    </tr>\n",
       "    <tr>\n",
       "      <th>4</th>\n",
       "      <td>0.54</td>\n",
       "      <td>-0.113454</td>\n",
       "    </tr>\n",
       "  </tbody>\n",
       "</table>\n",
       "</div>"
      ],
      "text/plain": [
       "   price_range  price_elasticity\n",
       "0         0.50         -0.096407\n",
       "1         0.51         -0.100475\n",
       "2         0.52         -0.104670\n",
       "3         0.53         -0.108996\n",
       "4         0.54         -0.113454"
      ]
     },
     "execution_count": 13,
     "metadata": {},
     "output_type": "execute_result"
    }
   ],
   "source": [
    "df_price_elast['price_elasticity'] = prc_elast\n",
    "df_price_elast.head(5)"
   ]
  },
  {
   "cell_type": "code",
   "execution_count": 14,
   "metadata": {},
   "outputs": [
    {
     "data": {
      "text/plain": [
       "Text(0.5, 1.0, 'Price Elasticity')"
      ]
     },
     "execution_count": 14,
     "metadata": {},
     "output_type": "execute_result"
    },
    {
     "data": {
      "image/png": "[encoded data removed]",
      "text/plain": [
       "<Figure size 1080x864 with 1 Axes>"
      ]
     },
     "metadata": {},
     "output_type": "display_data"
    }
   ],
   "source": [
    "plt.figure(figsize = (15,12))\n",
    "sns_plot = sns.lineplot(x = df_price_elast[\"price_range\"], y = df_price_elast[\"price_elasticity\"])\n",
    "plt.title(\"Price Elasticity\")"
   ]
  },
  {
   "cell_type": "code",
   "execution_count": 16,
   "metadata": {},
   "outputs": [
    {
     "data": {
      "text/html": [
       "<div>\n",
       "<style scoped>\n",
       "    .dataframe tbody tr th:only-of-type {\n",
       "        vertical-align: middle;\n",
       "    }\n",
       "\n",
       "    .dataframe tbody tr th {\n",
       "        vertical-align: top;\n",
       "    }\n",
       "\n",
       "    .dataframe thead th {\n",
       "        text-align: right;\n",
       "    }\n",
       "</style>\n",
       "<table border=\"1\" class=\"dataframe\">\n",
       "  <thead>\n",
       "    <tr style=\"text-align: right;\">\n",
       "      <th></th>\n",
       "      <th>price_range</th>\n",
       "      <th>price_elasticity</th>\n",
       "    </tr>\n",
       "  </thead>\n",
       "  <tbody>\n",
       "    <tr>\n",
       "      <th>75</th>\n",
       "      <td>1.25</td>\n",
       "      <td>-1.004714</td>\n",
       "    </tr>\n",
       "    <tr>\n",
       "      <th>76</th>\n",
       "      <td>1.26</td>\n",
       "      <td>-1.028447</td>\n",
       "    </tr>\n",
       "    <tr>\n",
       "      <th>77</th>\n",
       "      <td>1.27</td>\n",
       "      <td>-1.052544</td>\n",
       "    </tr>\n",
       "    <tr>\n",
       "      <th>78</th>\n",
       "      <td>1.28</td>\n",
       "      <td>-1.077002</td>\n",
       "    </tr>\n",
       "    <tr>\n",
       "      <th>79</th>\n",
       "      <td>1.29</td>\n",
       "      <td>-1.101822</td>\n",
       "    </tr>\n",
       "    <tr>\n",
       "      <th>...</th>\n",
       "      <td>...</td>\n",
       "      <td>...</td>\n",
       "    </tr>\n",
       "    <tr>\n",
       "      <th>295</th>\n",
       "      <td>3.45</td>\n",
       "      <td>-8.012488</td>\n",
       "    </tr>\n",
       "    <tr>\n",
       "      <th>296</th>\n",
       "      <td>3.46</td>\n",
       "      <td>-8.037737</td>\n",
       "    </tr>\n",
       "    <tr>\n",
       "      <th>297</th>\n",
       "      <td>3.47</td>\n",
       "      <td>-8.062951</td>\n",
       "    </tr>\n",
       "    <tr>\n",
       "      <th>298</th>\n",
       "      <td>3.48</td>\n",
       "      <td>-8.088132</td>\n",
       "    </tr>\n",
       "    <tr>\n",
       "      <th>299</th>\n",
       "      <td>3.49</td>\n",
       "      <td>-8.113279</td>\n",
       "    </tr>\n",
       "  </tbody>\n",
       "</table>\n",
       "<p>225 rows × 2 columns</p>\n",
       "</div>"
      ],
      "text/plain": [
       "     price_range  price_elasticity\n",
       "75          1.25         -1.004714\n",
       "76          1.26         -1.028447\n",
       "77          1.27         -1.052544\n",
       "78          1.28         -1.077002\n",
       "79          1.29         -1.101822\n",
       "..           ...               ...\n",
       "295         3.45         -8.012488\n",
       "296         3.46         -8.037737\n",
       "297         3.47         -8.062951\n",
       "298         3.48         -8.088132\n",
       "299         3.49         -8.113279\n",
       "\n",
       "[225 rows x 2 columns]"
      ]
     },
     "execution_count": 16,
     "metadata": {},
     "output_type": "execute_result"
    }
   ],
   "source": [
    "# в абсолютном значении\n",
    "df_price_elast[abs(df_price_elast[\"price_elasticity\"])>1]"
   ]
  },
  {
   "cell_type": "markdown",
   "metadata": {},
   "source": [
    "# Cross Brand Elasticity"
   ]
  },
  {
   "cell_type": "code",
   "execution_count": 21,
   "metadata": {},
   "outputs": [],
   "source": [
    "import numpy as np\n",
    "import pandas as pd \n",
    "import matplotlib.pyplot as plt\n",
    "import seaborn as sns\n",
    "sns.set()\n"
   ]
  },
  {
   "cell_type": "code",
   "execution_count": 22,
   "metadata": {},
   "outputs": [
    {
     "data": {
      "text/html": [
       "<div>\n",
       "<style scoped>\n",
       "    .dataframe tbody tr th:only-of-type {\n",
       "        vertical-align: middle;\n",
       "    }\n",
       "\n",
       "    .dataframe tbody tr th {\n",
       "        vertical-align: top;\n",
       "    }\n",
       "\n",
       "    .dataframe thead th {\n",
       "        text-align: right;\n",
       "    }\n",
       "</style>\n",
       "<table border=\"1\" class=\"dataframe\">\n",
       "  <thead>\n",
       "    <tr style=\"text-align: right;\">\n",
       "      <th></th>\n",
       "      <th>ID</th>\n",
       "      <th>Day</th>\n",
       "      <th>Incidence</th>\n",
       "      <th>Brand</th>\n",
       "      <th>Quantity</th>\n",
       "      <th>Price_1</th>\n",
       "      <th>Price_2</th>\n",
       "      <th>Price_3</th>\n",
       "      <th>Price_4</th>\n",
       "      <th>Price_5</th>\n",
       "      <th>...</th>\n",
       "      <th>Settlement size</th>\n",
       "      <th>segment</th>\n",
       "      <th>spent</th>\n",
       "      <th>Brand_1</th>\n",
       "      <th>Brand_2</th>\n",
       "      <th>Brand_3</th>\n",
       "      <th>Brand_4</th>\n",
       "      <th>Brand_5</th>\n",
       "      <th>rfm_segment</th>\n",
       "      <th>cluster_segment</th>\n",
       "    </tr>\n",
       "  </thead>\n",
       "  <tbody>\n",
       "    <tr>\n",
       "      <th>0</th>\n",
       "      <td>200000001</td>\n",
       "      <td>1</td>\n",
       "      <td>0</td>\n",
       "      <td>0</td>\n",
       "      <td>0</td>\n",
       "      <td>1.59</td>\n",
       "      <td>1.87</td>\n",
       "      <td>2.01</td>\n",
       "      <td>2.09</td>\n",
       "      <td>2.66</td>\n",
       "      <td>...</td>\n",
       "      <td>0</td>\n",
       "      <td>Working Class</td>\n",
       "      <td>0.0</td>\n",
       "      <td>0</td>\n",
       "      <td>0</td>\n",
       "      <td>0</td>\n",
       "      <td>0</td>\n",
       "      <td>0</td>\n",
       "      <td>Potential Loyalist</td>\n",
       "      <td>Working Class</td>\n",
       "    </tr>\n",
       "    <tr>\n",
       "      <th>1</th>\n",
       "      <td>200000001</td>\n",
       "      <td>11</td>\n",
       "      <td>0</td>\n",
       "      <td>0</td>\n",
       "      <td>0</td>\n",
       "      <td>1.51</td>\n",
       "      <td>1.89</td>\n",
       "      <td>1.99</td>\n",
       "      <td>2.09</td>\n",
       "      <td>2.66</td>\n",
       "      <td>...</td>\n",
       "      <td>0</td>\n",
       "      <td>Working Class</td>\n",
       "      <td>0.0</td>\n",
       "      <td>0</td>\n",
       "      <td>0</td>\n",
       "      <td>0</td>\n",
       "      <td>0</td>\n",
       "      <td>0</td>\n",
       "      <td>Potential Loyalist</td>\n",
       "      <td>Working Class</td>\n",
       "    </tr>\n",
       "    <tr>\n",
       "      <th>2</th>\n",
       "      <td>200000001</td>\n",
       "      <td>12</td>\n",
       "      <td>0</td>\n",
       "      <td>0</td>\n",
       "      <td>0</td>\n",
       "      <td>1.51</td>\n",
       "      <td>1.89</td>\n",
       "      <td>1.99</td>\n",
       "      <td>2.09</td>\n",
       "      <td>2.66</td>\n",
       "      <td>...</td>\n",
       "      <td>0</td>\n",
       "      <td>Working Class</td>\n",
       "      <td>0.0</td>\n",
       "      <td>0</td>\n",
       "      <td>0</td>\n",
       "      <td>0</td>\n",
       "      <td>0</td>\n",
       "      <td>0</td>\n",
       "      <td>Potential Loyalist</td>\n",
       "      <td>Working Class</td>\n",
       "    </tr>\n",
       "    <tr>\n",
       "      <th>3</th>\n",
       "      <td>200000001</td>\n",
       "      <td>16</td>\n",
       "      <td>0</td>\n",
       "      <td>0</td>\n",
       "      <td>0</td>\n",
       "      <td>1.52</td>\n",
       "      <td>1.89</td>\n",
       "      <td>1.98</td>\n",
       "      <td>2.09</td>\n",
       "      <td>2.66</td>\n",
       "      <td>...</td>\n",
       "      <td>0</td>\n",
       "      <td>Working Class</td>\n",
       "      <td>0.0</td>\n",
       "      <td>0</td>\n",
       "      <td>0</td>\n",
       "      <td>0</td>\n",
       "      <td>0</td>\n",
       "      <td>0</td>\n",
       "      <td>Potential Loyalist</td>\n",
       "      <td>Working Class</td>\n",
       "    </tr>\n",
       "    <tr>\n",
       "      <th>4</th>\n",
       "      <td>200000001</td>\n",
       "      <td>18</td>\n",
       "      <td>0</td>\n",
       "      <td>0</td>\n",
       "      <td>0</td>\n",
       "      <td>1.52</td>\n",
       "      <td>1.89</td>\n",
       "      <td>1.99</td>\n",
       "      <td>2.09</td>\n",
       "      <td>2.66</td>\n",
       "      <td>...</td>\n",
       "      <td>0</td>\n",
       "      <td>Working Class</td>\n",
       "      <td>0.0</td>\n",
       "      <td>0</td>\n",
       "      <td>0</td>\n",
       "      <td>0</td>\n",
       "      <td>0</td>\n",
       "      <td>0</td>\n",
       "      <td>Potential Loyalist</td>\n",
       "      <td>Working Class</td>\n",
       "    </tr>\n",
       "  </tbody>\n",
       "</table>\n",
       "<p>5 rows × 31 columns</p>\n",
       "</div>"
      ],
      "text/plain": [
       "          ID  Day  Incidence  Brand  Quantity  Price_1  Price_2  Price_3  \\\n",
       "0  200000001    1          0      0         0     1.59     1.87     2.01   \n",
       "1  200000001   11          0      0         0     1.51     1.89     1.99   \n",
       "2  200000001   12          0      0         0     1.51     1.89     1.99   \n",
       "3  200000001   16          0      0         0     1.52     1.89     1.98   \n",
       "4  200000001   18          0      0         0     1.52     1.89     1.99   \n",
       "\n",
       "   Price_4  Price_5  ...  Settlement size        segment  spent  Brand_1  \\\n",
       "0     2.09     2.66  ...                0  Working Class    0.0        0   \n",
       "1     2.09     2.66  ...                0  Working Class    0.0        0   \n",
       "2     2.09     2.66  ...                0  Working Class    0.0        0   \n",
       "3     2.09     2.66  ...                0  Working Class    0.0        0   \n",
       "4     2.09     2.66  ...                0  Working Class    0.0        0   \n",
       "\n",
       "   Brand_2  Brand_3  Brand_4  Brand_5         rfm_segment  cluster_segment  \n",
       "0        0        0        0        0  Potential Loyalist    Working Class  \n",
       "1        0        0        0        0  Potential Loyalist    Working Class  \n",
       "2        0        0        0        0  Potential Loyalist    Working Class  \n",
       "3        0        0        0        0  Potential Loyalist    Working Class  \n",
       "4        0        0        0        0  Potential Loyalist    Working Class  \n",
       "\n",
       "[5 rows x 31 columns]"
      ]
     },
     "execution_count": 22,
     "metadata": {},
     "output_type": "execute_result"
    }
   ],
   "source": [
    "df_raw = pd.read_csv(\"data/df_final_seg.csv\")\n",
    "df = df_raw.drop(\"Unnamed: 0\", axis=1)\n",
    "df.head()"
   ]
  },
  {
   "cell_type": "code",
   "execution_count": 23,
   "metadata": {},
   "outputs": [],
   "source": [
    "df_brand_ch = df[df['Incidence']==1]"
   ]
  },
  {
   "cell_type": "code",
   "execution_count": 24,
   "metadata": {},
   "outputs": [],
   "source": [
    "X = pd.DataFrame(df_brand_ch[[\"Price_1\", \"Price_2\", \"Price_3\", \"Price_4\", \"Price_5\"]])\n",
    "y = df_brand_ch[\"Brand\"]"
   ]
  },
  {
   "cell_type": "code",
   "execution_count": 25,
   "metadata": {},
   "outputs": [
    {
     "data": {
      "text/plain": [
       "LogisticRegression(multi_class='multinomial', random_state=3, solver='sag')"
      ]
     },
     "execution_count": 25,
     "metadata": {},
     "output_type": "execute_result"
    }
   ],
   "source": [
    "from sklearn.linear_model import LogisticRegression\n",
    "model_brand  = LogisticRegression(random_state=3 , solver = 'sag', multi_class = 'multinomial')\n",
    "model_brand.fit(X , y)"
   ]
  },
  {
   "cell_type": "code",
   "execution_count": 26,
   "metadata": {},
   "outputs": [],
   "source": [
    "df_brand_comp = pd.DataFrame()\n",
    "prc_rng = np.arange(0.5 , 3.5 , 0.01)\n",
    "df_brand_comp[\"price_range\"] = prc_rng\n"
   ]
  },
  {
   "cell_type": "code",
   "execution_count": 29,
   "metadata": {},
   "outputs": [],
   "source": [
    "def get_elastic_scores_brnd_ch(df, model, brand ):\n",
    "    prc_rng = np.arange(0.5 , 3.5 , 0.01)\n",
    "    prob = model.predict_proba(df)\n",
    "    prob_brand = prob[:][:,(brand-1)]\n",
    "    return ( (model.coef_[(brand-1),(brand-1)]) * (prc_rng) * (1 -prob_brand) )\n",
    "    \n",
    "    "
   ]
  },
  {
   "cell_type": "markdown",
   "metadata": {},
   "source": [
    "### Эластичность от бренда (Бренд N2)\n"
   ]
  },
  {
   "cell_type": "code",
   "execution_count": 34,
   "metadata": {},
   "outputs": [],
   "source": [
    "X_brand2= pd.DataFrame(index =prc_rng)\n",
    "\n",
    "X_brand2[\"brand_1\"] = df_brand_ch[\"Price_1\"].mean()\n",
    "X_brand2[\"brand_2\"] =  prc_rng\n",
    "X_brand2[\"brand_3\"] = df_brand_ch[\"Price_3\"].mean()\n",
    "X_brand2[\"brand_4\"] = df_brand_ch[\"Price_4\"].mean()\n",
    "X_brand2[\"brand_5\"] = df_brand_ch[\"Price_5\"].mean()"
   ]
  },
  {
   "cell_type": "code",
   "execution_count": 35,
   "metadata": {},
   "outputs": [
    {
     "data": {
      "text/html": [
       "<div>\n",
       "<style scoped>\n",
       "    .dataframe tbody tr th:only-of-type {\n",
       "        vertical-align: middle;\n",
       "    }\n",
       "\n",
       "    .dataframe tbody tr th {\n",
       "        vertical-align: top;\n",
       "    }\n",
       "\n",
       "    .dataframe thead th {\n",
       "        text-align: right;\n",
       "    }\n",
       "</style>\n",
       "<table border=\"1\" class=\"dataframe\">\n",
       "  <thead>\n",
       "    <tr style=\"text-align: right;\">\n",
       "      <th></th>\n",
       "      <th>brand_1</th>\n",
       "      <th>brand_2</th>\n",
       "      <th>brand_3</th>\n",
       "      <th>brand_4</th>\n",
       "      <th>brand_5</th>\n",
       "    </tr>\n",
       "  </thead>\n",
       "  <tbody>\n",
       "    <tr>\n",
       "      <th>0.50</th>\n",
       "      <td>1.384559</td>\n",
       "      <td>0.50</td>\n",
       "      <td>2.006694</td>\n",
       "      <td>2.159658</td>\n",
       "      <td>2.654296</td>\n",
       "    </tr>\n",
       "    <tr>\n",
       "      <th>0.51</th>\n",
       "      <td>1.384559</td>\n",
       "      <td>0.51</td>\n",
       "      <td>2.006694</td>\n",
       "      <td>2.159658</td>\n",
       "      <td>2.654296</td>\n",
       "    </tr>\n",
       "    <tr>\n",
       "      <th>0.52</th>\n",
       "      <td>1.384559</td>\n",
       "      <td>0.52</td>\n",
       "      <td>2.006694</td>\n",
       "      <td>2.159658</td>\n",
       "      <td>2.654296</td>\n",
       "    </tr>\n",
       "    <tr>\n",
       "      <th>0.53</th>\n",
       "      <td>1.384559</td>\n",
       "      <td>0.53</td>\n",
       "      <td>2.006694</td>\n",
       "      <td>2.159658</td>\n",
       "      <td>2.654296</td>\n",
       "    </tr>\n",
       "    <tr>\n",
       "      <th>0.54</th>\n",
       "      <td>1.384559</td>\n",
       "      <td>0.54</td>\n",
       "      <td>2.006694</td>\n",
       "      <td>2.159658</td>\n",
       "      <td>2.654296</td>\n",
       "    </tr>\n",
       "    <tr>\n",
       "      <th>...</th>\n",
       "      <td>...</td>\n",
       "      <td>...</td>\n",
       "      <td>...</td>\n",
       "      <td>...</td>\n",
       "      <td>...</td>\n",
       "    </tr>\n",
       "    <tr>\n",
       "      <th>3.45</th>\n",
       "      <td>1.384559</td>\n",
       "      <td>3.45</td>\n",
       "      <td>2.006694</td>\n",
       "      <td>2.159658</td>\n",
       "      <td>2.654296</td>\n",
       "    </tr>\n",
       "    <tr>\n",
       "      <th>3.46</th>\n",
       "      <td>1.384559</td>\n",
       "      <td>3.46</td>\n",
       "      <td>2.006694</td>\n",
       "      <td>2.159658</td>\n",
       "      <td>2.654296</td>\n",
       "    </tr>\n",
       "    <tr>\n",
       "      <th>3.47</th>\n",
       "      <td>1.384559</td>\n",
       "      <td>3.47</td>\n",
       "      <td>2.006694</td>\n",
       "      <td>2.159658</td>\n",
       "      <td>2.654296</td>\n",
       "    </tr>\n",
       "    <tr>\n",
       "      <th>3.48</th>\n",
       "      <td>1.384559</td>\n",
       "      <td>3.48</td>\n",
       "      <td>2.006694</td>\n",
       "      <td>2.159658</td>\n",
       "      <td>2.654296</td>\n",
       "    </tr>\n",
       "    <tr>\n",
       "      <th>3.49</th>\n",
       "      <td>1.384559</td>\n",
       "      <td>3.49</td>\n",
       "      <td>2.006694</td>\n",
       "      <td>2.159658</td>\n",
       "      <td>2.654296</td>\n",
       "    </tr>\n",
       "  </tbody>\n",
       "</table>\n",
       "<p>300 rows × 5 columns</p>\n",
       "</div>"
      ],
      "text/plain": [
       "       brand_1  brand_2   brand_3   brand_4   brand_5\n",
       "0.50  1.384559     0.50  2.006694  2.159658  2.654296\n",
       "0.51  1.384559     0.51  2.006694  2.159658  2.654296\n",
       "0.52  1.384559     0.52  2.006694  2.159658  2.654296\n",
       "0.53  1.384559     0.53  2.006694  2.159658  2.654296\n",
       "0.54  1.384559     0.54  2.006694  2.159658  2.654296\n",
       "...        ...      ...       ...       ...       ...\n",
       "3.45  1.384559     3.45  2.006694  2.159658  2.654296\n",
       "3.46  1.384559     3.46  2.006694  2.159658  2.654296\n",
       "3.47  1.384559     3.47  2.006694  2.159658  2.654296\n",
       "3.48  1.384559     3.48  2.006694  2.159658  2.654296\n",
       "3.49  1.384559     3.49  2.006694  2.159658  2.654296\n",
       "\n",
       "[300 rows x 5 columns]"
      ]
     },
     "execution_count": 35,
     "metadata": {},
     "output_type": "execute_result"
    }
   ],
   "source": [
    "X_brand2"
   ]
  },
  {
   "cell_type": "code",
   "execution_count": 36,
   "metadata": {},
   "outputs": [],
   "source": [
    "df_brand_comp[\"own_b2\"] = get_elastic_scores_brnd_ch(X_brand2 , model_brand , 2)"
   ]
  },
  {
   "cell_type": "code",
   "execution_count": 37,
   "metadata": {},
   "outputs": [
    {
     "name": "stderr",
     "output_type": "stream",
     "text": [
      "C:\\Users\\ArtSe\\anaconda3\\lib\\site-packages\\seaborn\\_decorators.py:36: FutureWarning: Pass the following variables as keyword args: x, y. From version 0.12, the only valid positional argument will be `data`, and passing other arguments without an explicit keyword will result in an error or misinterpretation.\n",
      "  warnings.warn(\n"
     ]
    },
    {
     "data": {
      "image/png": "[encoded data removed]",
      "text/plain": [
       "<Figure size 1080x864 with 1 Axes>"
      ]
     },
     "metadata": {},
     "output_type": "display_data"
    }
   ],
   "source": [
    "plt.figure(figsize = (15,12))\n",
    "sns.lineplot(df_brand_comp[\"price_range\"] , df_brand_comp[\"own_b2\"])\n",
    "plt.title(\"Brand-2's Price Elasticity\")\n",
    "plt.show()"
   ]
  },
  {
   "cell_type": "markdown",
   "metadata": {},
   "source": [
    "## Cross Price Elasticity по Brand 2 и Brand 1"
   ]
  },
  {
   "cell_type": "code",
   "execution_count": 39,
   "metadata": {},
   "outputs": [],
   "source": [
    "def get_elastic_scores_brnd_ch_cross(df, model, brand_m , brand_c ):\n",
    "    prc_rng = np.arange(0.5 , 3.5 , 0.01)\n",
    "    \n",
    "    prob = model.predict_proba(df)\n",
    "    \n",
    "    prob_brand = prob[:][:,(brand_c-1)]\n",
    "    \n",
    "    beta = (-1*(model.coef_[(brand_m-1),(brand_m-1)]) )\n",
    "    \n",
    "    return (  (beta)* (prc_rng) * (prob_brand) )\n",
    "    \n",
    "    "
   ]
  },
  {
   "cell_type": "code",
   "execution_count": 40,
   "metadata": {},
   "outputs": [],
   "source": [
    "X_brand1_cross= pd.DataFrame(index =prc_rng)\n",
    "X_brand1_cross[\"brand_1\"] =  prc_rng\n",
    "X_brand1_cross[\"brand_2\"] = df_brand_ch[\"Price_2\"].mean()\n",
    "X_brand1_cross[\"brand_3\"] = df_brand_ch[\"Price_3\"].mean()\n",
    "X_brand1_cross[\"brand_4\"] = df_brand_ch[\"Price_4\"].mean()\n",
    "X_brand1_cross[\"brand_5\"] = df_brand_ch[\"Price_5\"].mean()"
   ]
  },
  {
   "cell_type": "code",
   "execution_count": 41,
   "metadata": {},
   "outputs": [
    {
     "data": {
      "text/html": [
       "<div>\n",
       "<style scoped>\n",
       "    .dataframe tbody tr th:only-of-type {\n",
       "        vertical-align: middle;\n",
       "    }\n",
       "\n",
       "    .dataframe tbody tr th {\n",
       "        vertical-align: top;\n",
       "    }\n",
       "\n",
       "    .dataframe thead th {\n",
       "        text-align: right;\n",
       "    }\n",
       "</style>\n",
       "<table border=\"1\" class=\"dataframe\">\n",
       "  <thead>\n",
       "    <tr style=\"text-align: right;\">\n",
       "      <th></th>\n",
       "      <th>brand_1</th>\n",
       "      <th>brand_2</th>\n",
       "      <th>brand_3</th>\n",
       "      <th>brand_4</th>\n",
       "      <th>brand_5</th>\n",
       "    </tr>\n",
       "  </thead>\n",
       "  <tbody>\n",
       "    <tr>\n",
       "      <th>0.50</th>\n",
       "      <td>0.50</td>\n",
       "      <td>1.764717</td>\n",
       "      <td>2.006694</td>\n",
       "      <td>2.159658</td>\n",
       "      <td>2.654296</td>\n",
       "    </tr>\n",
       "    <tr>\n",
       "      <th>0.51</th>\n",
       "      <td>0.51</td>\n",
       "      <td>1.764717</td>\n",
       "      <td>2.006694</td>\n",
       "      <td>2.159658</td>\n",
       "      <td>2.654296</td>\n",
       "    </tr>\n",
       "    <tr>\n",
       "      <th>0.52</th>\n",
       "      <td>0.52</td>\n",
       "      <td>1.764717</td>\n",
       "      <td>2.006694</td>\n",
       "      <td>2.159658</td>\n",
       "      <td>2.654296</td>\n",
       "    </tr>\n",
       "    <tr>\n",
       "      <th>0.53</th>\n",
       "      <td>0.53</td>\n",
       "      <td>1.764717</td>\n",
       "      <td>2.006694</td>\n",
       "      <td>2.159658</td>\n",
       "      <td>2.654296</td>\n",
       "    </tr>\n",
       "    <tr>\n",
       "      <th>0.54</th>\n",
       "      <td>0.54</td>\n",
       "      <td>1.764717</td>\n",
       "      <td>2.006694</td>\n",
       "      <td>2.159658</td>\n",
       "      <td>2.654296</td>\n",
       "    </tr>\n",
       "  </tbody>\n",
       "</table>\n",
       "</div>"
      ],
      "text/plain": [
       "      brand_1   brand_2   brand_3   brand_4   brand_5\n",
       "0.50     0.50  1.764717  2.006694  2.159658  2.654296\n",
       "0.51     0.51  1.764717  2.006694  2.159658  2.654296\n",
       "0.52     0.52  1.764717  2.006694  2.159658  2.654296\n",
       "0.53     0.53  1.764717  2.006694  2.159658  2.654296\n",
       "0.54     0.54  1.764717  2.006694  2.159658  2.654296"
      ]
     },
     "execution_count": 41,
     "metadata": {},
     "output_type": "execute_result"
    }
   ],
   "source": [
    "X_brand1_cross.head()"
   ]
  },
  {
   "cell_type": "code",
   "execution_count": 42,
   "metadata": {},
   "outputs": [],
   "source": [
    "df_brand_comp[\"cross_b1\"] = get_elastic_scores_brnd_ch_cross(X_brand1_cross , model_brand , 2,1)"
   ]
  },
  {
   "cell_type": "code",
   "execution_count": 43,
   "metadata": {},
   "outputs": [
    {
     "name": "stderr",
     "output_type": "stream",
     "text": [
      "C:\\Users\\ArtSe\\anaconda3\\lib\\site-packages\\seaborn\\_decorators.py:36: FutureWarning: Pass the following variables as keyword args: x, y. From version 0.12, the only valid positional argument will be `data`, and passing other arguments without an explicit keyword will result in an error or misinterpretation.\n",
      "  warnings.warn(\n",
      "C:\\Users\\ArtSe\\anaconda3\\lib\\site-packages\\seaborn\\_decorators.py:36: FutureWarning: Pass the following variables as keyword args: x, y. From version 0.12, the only valid positional argument will be `data`, and passing other arguments without an explicit keyword will result in an error or misinterpretation.\n",
      "  warnings.warn(\n"
     ]
    },
    {
     "data": {
      "image/png": "[encoded data removed]",
      "text/plain": [
       "<Figure size 1296x720 with 2 Axes>"
      ]
     },
     "metadata": {},
     "output_type": "display_data"
    }
   ],
   "source": [
    "fig, axes = plt.subplots(nrows=1, ncols=2)\n",
    "fig.tight_layout(pad=3.5)\n",
    "fig.set_figheight(10)\n",
    "fig.set_figwidth(18)\n",
    "\n",
    "splot1 = sns.lineplot(df_brand_comp[\"price_range\"] , df_brand_comp[\"own_b2\"] , ax=axes[0] , palette=\"Blues_d\")\n",
    "axes[0].set_title(\"Brand-2 Price Elasticity\")\n",
    "\n",
    "splot2 = sns.lineplot(df_brand_comp[\"price_range\"] , df_brand_comp[\"cross_b1\"] , ax=axes[1] , palette=\"Blues_d\")\n",
    "axes[1].set_title(\"Brand-1 Cross Price Elasticity\")\n",
    "\n",
    "\n",
    "plt.show()\n",
    "        "
   ]
  }
 ],
 "metadata": {
  "kernelspec": {
   "display_name": "Python 3",
   "language": "python",
   "name": "python3"
  },
  "language_info": {
   "codemirror_mode": {
    "name": "ipython",
    "version": 3
   },
   "file_extension": ".py",
   "mimetype": "text/x-python",
   "name": "python",
   "nbconvert_exporter": "python",
   "pygments_lexer": "ipython3",
   "version": "3.8.8"
  }
 },
 "nbformat": 4,
 "nbformat_minor": 2
}

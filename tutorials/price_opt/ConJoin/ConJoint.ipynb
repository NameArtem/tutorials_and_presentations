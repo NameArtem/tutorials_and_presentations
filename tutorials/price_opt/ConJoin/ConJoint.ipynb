{
 "cells": [
  {
   "cell_type": "code",
   "execution_count": 18,
   "metadata": {
    "tags": []
   },
   "outputs": [],
   "source": [
    "import numpy as np\n",
    "import pandas as pd\n",
    "\n",
    "import statsmodels.api as sm\n",
    "\n",
    "import warnings\n",
    "\n",
    "warnings.simplefilter(\"ignore\")"
   ]
  },
  {
   "cell_type": "code",
   "execution_count": 19,
   "metadata": {
    "tags": []
   },
   "outputs": [],
   "source": [
    "# данные\n",
    "caInputeDF = pd.read_csv(\"ConjointInput.csv\", sep = \";\")"
   ]
  },
  {
   "cell_type": "markdown",
   "metadata": {},
   "source": [
    "Rank - это 3 вида параметров:\n",
    "\n",
    "- 1 - это TV Size, TV Type, TV Color с параметрами 32\",37\",42\"\n",
    "- 2 (LCD, Plasma)\n",
    "- 3 (Black, Silver, Anthrazit)\n",
    "\n",
    "Назовем это варианты стимулирования к покупкам"
   ]
  },
  {
   "cell_type": "code",
   "execution_count": 20,
   "metadata": {
    "jupyter": {
     "outputs_hidden": false
    }
   },
   "outputs": [
    {
     "data": {
      "text/html": [
       "<div>\n",
       "<style scoped>\n",
       "    .dataframe tbody tr th:only-of-type {\n",
       "        vertical-align: middle;\n",
       "    }\n",
       "\n",
       "    .dataframe tbody tr th {\n",
       "        vertical-align: top;\n",
       "    }\n",
       "\n",
       "    .dataframe thead th {\n",
       "        text-align: right;\n",
       "    }\n",
       "</style>\n",
       "<table border=\"1\" class=\"dataframe\">\n",
       "  <thead>\n",
       "    <tr style=\"text-align: right;\">\n",
       "      <th></th>\n",
       "      <th>Stimulus</th>\n",
       "      <th>Rank</th>\n",
       "    </tr>\n",
       "  </thead>\n",
       "  <tbody>\n",
       "    <tr>\n",
       "      <th>0</th>\n",
       "      <td>A1B1C1</td>\n",
       "      <td>2</td>\n",
       "    </tr>\n",
       "    <tr>\n",
       "      <th>1</th>\n",
       "      <td>A1B1C2</td>\n",
       "      <td>3</td>\n",
       "    </tr>\n",
       "    <tr>\n",
       "      <th>2</th>\n",
       "      <td>A1B1C3</td>\n",
       "      <td>1</td>\n",
       "    </tr>\n",
       "    <tr>\n",
       "      <th>3</th>\n",
       "      <td>A1B2C1</td>\n",
       "      <td>5</td>\n",
       "    </tr>\n",
       "    <tr>\n",
       "      <th>4</th>\n",
       "      <td>A1B2C2</td>\n",
       "      <td>6</td>\n",
       "    </tr>\n",
       "  </tbody>\n",
       "</table>\n",
       "</div>"
      ],
      "text/plain": [
       "  Stimulus  Rank\n",
       "0   A1B1C1     2\n",
       "1   A1B1C2     3\n",
       "2   A1B1C3     1\n",
       "3   A1B2C1     5\n",
       "4   A1B2C2     6"
      ]
     },
     "execution_count": 20,
     "metadata": {},
     "output_type": "execute_result"
    }
   ],
   "source": [
    "caInputeDF.head(5)"
   ]
  },
  {
   "cell_type": "markdown",
   "metadata": {},
   "source": [
    "### Преобразуем в DataFrame с описанием комбинаций"
   ]
  },
  {
   "cell_type": "code",
   "execution_count": 21,
   "metadata": {
    "tags": []
   },
   "outputs": [],
   "source": [
    "ConjointDummyDF = pd.DataFrame(np.zeros((18,9)), \n",
    "                               columns=[\"Rank\",\"A1\", \"A2\", \"A3\",\n",
    "                                        \"B1\",\"B2\",\"C1\", \"C2\",\"C3\"])"
   ]
  },
  {
   "cell_type": "code",
   "execution_count": 22,
   "metadata": {
    "jupyter": {
     "outputs_hidden": false
    }
   },
   "outputs": [],
   "source": [
    "# сделаем Dummy кодирование \n",
    "ConjointDummyDF.Rank = caInputeDF.Rank\n",
    "\n",
    "for index, row in caInputeDF.iterrows(): \n",
    "    stimuli1, stimuli2, stimuli3 = caInputeDF[\"Stimulus\"].iloc[index][:2], \\\n",
    "                                   caInputeDF[\"Stimulus\"].iloc[index][2:4], \\\n",
    "                                   caInputeDF[\"Stimulus\"].iloc[index][4:6]\n",
    "    \n",
    "    \n",
    "    ConjointDummyDF.loc[index, [stimuli1,stimuli2,stimuli3]] = 1"
   ]
  },
  {
   "cell_type": "code",
   "execution_count": 23,
   "metadata": {
    "jupyter": {
     "outputs_hidden": false
    },
    "scrolled": true
   },
   "outputs": [
    {
     "data": {
      "text/html": [
       "<div>\n",
       "<style scoped>\n",
       "    .dataframe tbody tr th:only-of-type {\n",
       "        vertical-align: middle;\n",
       "    }\n",
       "\n",
       "    .dataframe tbody tr th {\n",
       "        vertical-align: top;\n",
       "    }\n",
       "\n",
       "    .dataframe thead th {\n",
       "        text-align: right;\n",
       "    }\n",
       "</style>\n",
       "<table border=\"1\" class=\"dataframe\">\n",
       "  <thead>\n",
       "    <tr style=\"text-align: right;\">\n",
       "      <th></th>\n",
       "      <th>Rank</th>\n",
       "      <th>A1</th>\n",
       "      <th>A2</th>\n",
       "      <th>A3</th>\n",
       "      <th>B1</th>\n",
       "      <th>B2</th>\n",
       "      <th>C1</th>\n",
       "      <th>C2</th>\n",
       "      <th>C3</th>\n",
       "    </tr>\n",
       "  </thead>\n",
       "  <tbody>\n",
       "    <tr>\n",
       "      <th>0</th>\n",
       "      <td>2</td>\n",
       "      <td>1.0</td>\n",
       "      <td>0.0</td>\n",
       "      <td>0.0</td>\n",
       "      <td>1.0</td>\n",
       "      <td>0.0</td>\n",
       "      <td>1.0</td>\n",
       "      <td>0.0</td>\n",
       "      <td>0.0</td>\n",
       "    </tr>\n",
       "    <tr>\n",
       "      <th>1</th>\n",
       "      <td>3</td>\n",
       "      <td>1.0</td>\n",
       "      <td>0.0</td>\n",
       "      <td>0.0</td>\n",
       "      <td>1.0</td>\n",
       "      <td>0.0</td>\n",
       "      <td>0.0</td>\n",
       "      <td>1.0</td>\n",
       "      <td>0.0</td>\n",
       "    </tr>\n",
       "    <tr>\n",
       "      <th>2</th>\n",
       "      <td>1</td>\n",
       "      <td>1.0</td>\n",
       "      <td>0.0</td>\n",
       "      <td>0.0</td>\n",
       "      <td>1.0</td>\n",
       "      <td>0.0</td>\n",
       "      <td>0.0</td>\n",
       "      <td>0.0</td>\n",
       "      <td>1.0</td>\n",
       "    </tr>\n",
       "    <tr>\n",
       "      <th>3</th>\n",
       "      <td>5</td>\n",
       "      <td>1.0</td>\n",
       "      <td>0.0</td>\n",
       "      <td>0.0</td>\n",
       "      <td>0.0</td>\n",
       "      <td>1.0</td>\n",
       "      <td>1.0</td>\n",
       "      <td>0.0</td>\n",
       "      <td>0.0</td>\n",
       "    </tr>\n",
       "    <tr>\n",
       "      <th>4</th>\n",
       "      <td>6</td>\n",
       "      <td>1.0</td>\n",
       "      <td>0.0</td>\n",
       "      <td>0.0</td>\n",
       "      <td>0.0</td>\n",
       "      <td>1.0</td>\n",
       "      <td>0.0</td>\n",
       "      <td>1.0</td>\n",
       "      <td>0.0</td>\n",
       "    </tr>\n",
       "  </tbody>\n",
       "</table>\n",
       "</div>"
      ],
      "text/plain": [
       "   Rank   A1   A2   A3   B1   B2   C1   C2   C3\n",
       "0     2  1.0  0.0  0.0  1.0  0.0  1.0  0.0  0.0\n",
       "1     3  1.0  0.0  0.0  1.0  0.0  0.0  1.0  0.0\n",
       "2     1  1.0  0.0  0.0  1.0  0.0  0.0  0.0  1.0\n",
       "3     5  1.0  0.0  0.0  0.0  1.0  1.0  0.0  0.0\n",
       "4     6  1.0  0.0  0.0  0.0  1.0  0.0  1.0  0.0"
      ]
     },
     "execution_count": 23,
     "metadata": {},
     "output_type": "execute_result"
    }
   ],
   "source": [
    "ConjointDummyDF.head(5)"
   ]
  },
  {
   "cell_type": "markdown",
   "metadata": {},
   "source": [
    "### Заменим имена \"стимулов к покупке\""
   ]
  },
  {
   "cell_type": "code",
   "execution_count": 24,
   "metadata": {
    "jupyter": {
     "outputs_hidden": false
    }
   },
   "outputs": [],
   "source": [
    "fullNames = {\"Rank\":\"Rank\",\n",
    "             \"A1\": \"32\\\" (81cm)\",\n",
    "             \"A2\": \"37\\\" (94cm)\",\n",
    "             \"A3\": \"42\\\" (107cm)\",\n",
    "             \"B1\": \"Plasma\", \n",
    "             \"B2\":\"LCD\", \n",
    "             \"C1\":\"Silver\", \n",
    "             \"C2\":\"Black\", \n",
    "             \"C3\": \"Anthrazit\"}\n",
    "\n",
    "ConjointDummyDF.rename(columns=fullNames, inplace=True)"
   ]
  },
  {
   "cell_type": "code",
   "execution_count": 25,
   "metadata": {
    "jupyter": {
     "outputs_hidden": false
    }
   },
   "outputs": [
    {
     "data": {
      "text/html": [
       "<div>\n",
       "<style scoped>\n",
       "    .dataframe tbody tr th:only-of-type {\n",
       "        vertical-align: middle;\n",
       "    }\n",
       "\n",
       "    .dataframe tbody tr th {\n",
       "        vertical-align: top;\n",
       "    }\n",
       "\n",
       "    .dataframe thead th {\n",
       "        text-align: right;\n",
       "    }\n",
       "</style>\n",
       "<table border=\"1\" class=\"dataframe\">\n",
       "  <thead>\n",
       "    <tr style=\"text-align: right;\">\n",
       "      <th></th>\n",
       "      <th>Rank</th>\n",
       "      <th>32\" (81cm)</th>\n",
       "      <th>37\" (94cm)</th>\n",
       "      <th>42\" (107cm)</th>\n",
       "      <th>Plasma</th>\n",
       "      <th>LCD</th>\n",
       "      <th>Silver</th>\n",
       "      <th>Black</th>\n",
       "      <th>Anthrazit</th>\n",
       "    </tr>\n",
       "  </thead>\n",
       "  <tbody>\n",
       "    <tr>\n",
       "      <th>0</th>\n",
       "      <td>2</td>\n",
       "      <td>1.0</td>\n",
       "      <td>0.0</td>\n",
       "      <td>0.0</td>\n",
       "      <td>1.0</td>\n",
       "      <td>0.0</td>\n",
       "      <td>1.0</td>\n",
       "      <td>0.0</td>\n",
       "      <td>0.0</td>\n",
       "    </tr>\n",
       "    <tr>\n",
       "      <th>1</th>\n",
       "      <td>3</td>\n",
       "      <td>1.0</td>\n",
       "      <td>0.0</td>\n",
       "      <td>0.0</td>\n",
       "      <td>1.0</td>\n",
       "      <td>0.0</td>\n",
       "      <td>0.0</td>\n",
       "      <td>1.0</td>\n",
       "      <td>0.0</td>\n",
       "    </tr>\n",
       "    <tr>\n",
       "      <th>2</th>\n",
       "      <td>1</td>\n",
       "      <td>1.0</td>\n",
       "      <td>0.0</td>\n",
       "      <td>0.0</td>\n",
       "      <td>1.0</td>\n",
       "      <td>0.0</td>\n",
       "      <td>0.0</td>\n",
       "      <td>0.0</td>\n",
       "      <td>1.0</td>\n",
       "    </tr>\n",
       "    <tr>\n",
       "      <th>3</th>\n",
       "      <td>5</td>\n",
       "      <td>1.0</td>\n",
       "      <td>0.0</td>\n",
       "      <td>0.0</td>\n",
       "      <td>0.0</td>\n",
       "      <td>1.0</td>\n",
       "      <td>1.0</td>\n",
       "      <td>0.0</td>\n",
       "      <td>0.0</td>\n",
       "    </tr>\n",
       "    <tr>\n",
       "      <th>4</th>\n",
       "      <td>6</td>\n",
       "      <td>1.0</td>\n",
       "      <td>0.0</td>\n",
       "      <td>0.0</td>\n",
       "      <td>0.0</td>\n",
       "      <td>1.0</td>\n",
       "      <td>0.0</td>\n",
       "      <td>1.0</td>\n",
       "      <td>0.0</td>\n",
       "    </tr>\n",
       "  </tbody>\n",
       "</table>\n",
       "</div>"
      ],
      "text/plain": [
       "   Rank  32\" (81cm)  37\" (94cm)  42\" (107cm)  Plasma  LCD  Silver  Black  \\\n",
       "0     2         1.0         0.0          0.0     1.0  0.0     1.0    0.0   \n",
       "1     3         1.0         0.0          0.0     1.0  0.0     0.0    1.0   \n",
       "2     1         1.0         0.0          0.0     1.0  0.0     0.0    0.0   \n",
       "3     5         1.0         0.0          0.0     0.0  1.0     1.0    0.0   \n",
       "4     6         1.0         0.0          0.0     0.0  1.0     0.0    1.0   \n",
       "\n",
       "   Anthrazit  \n",
       "0        0.0  \n",
       "1        0.0  \n",
       "2        1.0  \n",
       "3        0.0  \n",
       "4        0.0  "
      ]
     },
     "execution_count": 25,
     "metadata": {},
     "output_type": "execute_result"
    }
   ],
   "source": [
    "ConjointDummyDF.head(5)"
   ]
  },
  {
   "cell_type": "markdown",
   "metadata": {},
   "source": [
    "### Оценка эффекта (Линейная регрессия\n",
    "\n",
    "\n",
    "Мы можем оценить каждую переменную и посмотреть на ей вклад в рейтинг"
   ]
  },
  {
   "cell_type": "code",
   "execution_count": 26,
   "metadata": {},
   "outputs": [
    {
     "data": {
      "text/plain": [
       "Index(['Rank', '32\" (81cm)', '37\" (94cm)', '42\" (107cm)', 'Plasma', 'LCD',\n",
       "       'Silver', 'Black', 'Anthrazit'],\n",
       "      dtype='object')"
      ]
     },
     "execution_count": 26,
     "metadata": {},
     "output_type": "execute_result"
    }
   ],
   "source": [
    "ConjointDummyDF.columns"
   ]
  },
  {
   "cell_type": "code",
   "execution_count": 27,
   "metadata": {
    "jupyter": {
     "outputs_hidden": false
    }
   },
   "outputs": [
    {
     "data": {
      "text/html": [
       "<table class=\"simpletable\">\n",
       "<caption>OLS Regression Results</caption>\n",
       "<tr>\n",
       "  <th>Dep. Variable:</th>          <td>Rank</td>       <th>  R-squared:         </th> <td>   1.000</td> \n",
       "</tr>\n",
       "<tr>\n",
       "  <th>Model:</th>                   <td>OLS</td>       <th>  Adj. R-squared:    </th> <td>   1.000</td> \n",
       "</tr>\n",
       "<tr>\n",
       "  <th>Method:</th>             <td>Least Squares</td>  <th>  F-statistic:       </th> <td>2.535e+30</td>\n",
       "</tr>\n",
       "<tr>\n",
       "  <th>Date:</th>             <td>Thu, 30 Sep 2021</td> <th>  Prob (F-statistic):</th> <td>1.05e-179</td>\n",
       "</tr>\n",
       "<tr>\n",
       "  <th>Time:</th>                 <td>19:47:53</td>     <th>  Log-Likelihood:    </th> <td>  567.02</td> \n",
       "</tr>\n",
       "<tr>\n",
       "  <th>No. Observations:</th>      <td>    18</td>      <th>  AIC:               </th> <td>  -1122.</td> \n",
       "</tr>\n",
       "<tr>\n",
       "  <th>Df Residuals:</th>          <td>    12</td>      <th>  BIC:               </th> <td>  -1117.</td> \n",
       "</tr>\n",
       "<tr>\n",
       "  <th>Df Model:</th>              <td>     5</td>      <th>                     </th>     <td> </td>    \n",
       "</tr>\n",
       "<tr>\n",
       "  <th>Covariance Type:</th>      <td>nonrobust</td>    <th>                     </th>     <td> </td>    \n",
       "</tr>\n",
       "</table>\n",
       "<table class=\"simpletable\">\n",
       "<tr>\n",
       "       <td></td>          <th>coef</th>     <th>std err</th>      <th>t</th>      <th>P>|t|</th>  <th>[0.025</th>    <th>0.975]</th>  \n",
       "</tr>\n",
       "<tr>\n",
       "  <th>const</th>       <td>    4.3846</td> <td> 6.73e-16</td> <td> 6.52e+15</td> <td> 0.000</td> <td>    4.385</td> <td>    4.385</td>\n",
       "</tr>\n",
       "<tr>\n",
       "  <th>32\" (81cm)</th>  <td>   -4.5385</td> <td> 2.07e-15</td> <td>-2.19e+15</td> <td> 0.000</td> <td>   -4.538</td> <td>   -4.538</td>\n",
       "</tr>\n",
       "<tr>\n",
       "  <th>37\" (94cm)</th>  <td>    1.4615</td> <td> 2.07e-15</td> <td> 7.05e+14</td> <td> 0.000</td> <td>    1.462</td> <td>    1.462</td>\n",
       "</tr>\n",
       "<tr>\n",
       "  <th>42\" (107cm)</th> <td>    7.4615</td> <td> 2.07e-15</td> <td>  3.6e+15</td> <td> 0.000</td> <td>    7.462</td> <td>    7.462</td>\n",
       "</tr>\n",
       "<tr>\n",
       "  <th>Plasma</th>      <td>    0.6923</td> <td>  1.5e-15</td> <td> 4.63e+14</td> <td> 0.000</td> <td>    0.692</td> <td>    0.692</td>\n",
       "</tr>\n",
       "<tr>\n",
       "  <th>LCD</th>         <td>    3.6923</td> <td>  1.5e-15</td> <td> 2.47e+15</td> <td> 0.000</td> <td>    3.692</td> <td>    3.692</td>\n",
       "</tr>\n",
       "<tr>\n",
       "  <th>Silver</th>      <td>    1.4615</td> <td> 2.07e-15</td> <td> 7.05e+14</td> <td> 0.000</td> <td>    1.462</td> <td>    1.462</td>\n",
       "</tr>\n",
       "<tr>\n",
       "  <th>Black</th>       <td>    2.4615</td> <td> 2.07e-15</td> <td> 1.19e+15</td> <td> 0.000</td> <td>    2.462</td> <td>    2.462</td>\n",
       "</tr>\n",
       "<tr>\n",
       "  <th>Anthrazit</th>   <td>    0.4615</td> <td> 2.07e-15</td> <td> 2.23e+14</td> <td> 0.000</td> <td>    0.462</td> <td>    0.462</td>\n",
       "</tr>\n",
       "</table>\n",
       "<table class=\"simpletable\">\n",
       "<tr>\n",
       "  <th>Omnibus:</th>       <td> 0.444</td> <th>  Durbin-Watson:     </th> <td>   0.439</td>\n",
       "</tr>\n",
       "<tr>\n",
       "  <th>Prob(Omnibus):</th> <td> 0.801</td> <th>  Jarque-Bera (JB):  </th> <td>   0.543</td>\n",
       "</tr>\n",
       "<tr>\n",
       "  <th>Skew:</th>          <td>-0.284</td> <th>  Prob(JB):          </th> <td>   0.762</td>\n",
       "</tr>\n",
       "<tr>\n",
       "  <th>Kurtosis:</th>      <td> 2.366</td> <th>  Cond. No.          </th> <td>1.89e+16</td>\n",
       "</tr>\n",
       "</table><br/><br/>Notes:<br/>[1] Standard Errors assume that the covariance matrix of the errors is correctly specified.<br/>[2] The smallest eigenvalue is 1.09e-31. This might indicate that there are<br/>strong multicollinearity problems or that the design matrix is singular."
      ],
      "text/plain": [
       "<class 'statsmodels.iolib.summary.Summary'>\n",
       "\"\"\"\n",
       "                            OLS Regression Results                            \n",
       "==============================================================================\n",
       "Dep. Variable:                   Rank   R-squared:                       1.000\n",
       "Model:                            OLS   Adj. R-squared:                  1.000\n",
       "Method:                 Least Squares   F-statistic:                 2.535e+30\n",
       "Date:                Thu, 30 Sep 2021   Prob (F-statistic):          1.05e-179\n",
       "Time:                        19:47:53   Log-Likelihood:                 567.02\n",
       "No. Observations:                  18   AIC:                            -1122.\n",
       "Df Residuals:                      12   BIC:                            -1117.\n",
       "Df Model:                           5                                         \n",
       "Covariance Type:            nonrobust                                         \n",
       "===============================================================================\n",
       "                  coef    std err          t      P>|t|      [0.025      0.975]\n",
       "-------------------------------------------------------------------------------\n",
       "const           4.3846   6.73e-16   6.52e+15      0.000       4.385       4.385\n",
       "32\" (81cm)     -4.5385   2.07e-15  -2.19e+15      0.000      -4.538      -4.538\n",
       "37\" (94cm)      1.4615   2.07e-15   7.05e+14      0.000       1.462       1.462\n",
       "42\" (107cm)     7.4615   2.07e-15    3.6e+15      0.000       7.462       7.462\n",
       "Plasma          0.6923    1.5e-15   4.63e+14      0.000       0.692       0.692\n",
       "LCD             3.6923    1.5e-15   2.47e+15      0.000       3.692       3.692\n",
       "Silver          1.4615   2.07e-15   7.05e+14      0.000       1.462       1.462\n",
       "Black           2.4615   2.07e-15   1.19e+15      0.000       2.462       2.462\n",
       "Anthrazit       0.4615   2.07e-15   2.23e+14      0.000       0.462       0.462\n",
       "==============================================================================\n",
       "Omnibus:                        0.444   Durbin-Watson:                   0.439\n",
       "Prob(Omnibus):                  0.801   Jarque-Bera (JB):                0.543\n",
       "Skew:                          -0.284   Prob(JB):                        0.762\n",
       "Kurtosis:                       2.366   Cond. No.                     1.89e+16\n",
       "==============================================================================\n",
       "\n",
       "Notes:\n",
       "[1] Standard Errors assume that the covariance matrix of the errors is correctly specified.\n",
       "[2] The smallest eigenvalue is 1.09e-31. This might indicate that there are\n",
       "strong multicollinearity problems or that the design matrix is singular.\n",
       "\"\"\""
      ]
     },
     "execution_count": 27,
     "metadata": {},
     "output_type": "execute_result"
    }
   ],
   "source": [
    "X = ConjointDummyDF[ConjointDummyDF.columns[1:]]\n",
    "X = sm.add_constant(X)\n",
    "Y = ConjointDummyDF.Rank\n",
    "linearRegression = sm.OLS(Y, X). fit()\n",
    "linearRegression.summary()"
   ]
  },
  {
   "cell_type": "markdown",
   "metadata": {},
   "source": [
    "### Важность стимулов\n",
    "\n",
    "\n",
    "`Важность = Max(beta) - Min(beta)`\n",
    "\n",
    "\n",
    "`Относительная важность = Важность  / Sum(Важность каждого признака)`"
   ]
  },
  {
   "cell_type": "code",
   "execution_count": 28,
   "metadata": {
    "jupyter": {
     "outputs_hidden": false
    }
   },
   "outputs": [
    {
     "data": {
      "text/plain": [
       "([],\n",
       " [],\n",
       " [[-4.538461538461542, 1.4615384615384608, 7.461538461538465],\n",
       "  [-4.538461538461542, 1.4615384615384608, 7.461538461538465],\n",
       "  [0.6923076923076914, 3.692307692307696]])"
      ]
     },
     "execution_count": 28,
     "metadata": {},
     "output_type": "execute_result"
    }
   ],
   "source": [
    "importance = []\n",
    "relative_importance = []\n",
    "\n",
    "rangePerFeature = []\n",
    "\n",
    "begin = \"A\"\n",
    "tempRange = []\n",
    "for stimuli in fullNames.keys():\n",
    "    if stimuli[0] == begin:\n",
    "        tempRange.append(linearRegression.params[fullNames[stimuli]])\n",
    "    elif stimuli == \"Rank\":\n",
    "        rangePerFeature.append(tempRange)\n",
    "    else:\n",
    "        rangePerFeature.append(tempRange)\n",
    "        begin = stimuli[0]\n",
    "        tempRange = [linearRegression.params[fullNames[stimuli]]]\n",
    "        \n",
    "importance, relative_importance, rangePerFeature"
   ]
  },
  {
   "cell_type": "code",
   "execution_count": 29,
   "metadata": {
    "jupyter": {
     "outputs_hidden": false
    }
   },
   "outputs": [],
   "source": [
    "# расчет важности\n",
    "for item in rangePerFeature:\n",
    "    importance.append(max(item) - min(item))\n",
    "\n",
    "# относительная важность\n",
    "for item in importance:\n",
    "    relative_importance.append(100* round(item/sum(importance),3))"
   ]
  },
  {
   "cell_type": "code",
   "execution_count": 30,
   "metadata": {
    "jupyter": {
     "outputs_hidden": false
    }
   },
   "outputs": [
    {
     "name": "stdout",
     "output_type": "stream",
     "text": [
      "32\" (81cm)   -4.538462\n",
      "37\" (94cm)    1.461538\n",
      "dtype: float64\n",
      "\n",
      "\n",
      "42\" (107cm)    7.461538\n",
      "Plasma         0.692308\n",
      "dtype: float64\n",
      "\n",
      "\n",
      "LCD       3.692308\n",
      "Silver    1.461538\n",
      "Black     2.461538\n",
      "dtype: float64\n",
      "\n",
      "\n"
     ]
    }
   ],
   "source": [
    "# оценка наиболее значимых\n",
    "partworths = []\n",
    "\n",
    "item_levels = [1,3,5,8]\n",
    "\n",
    "for i in range(1,4):\n",
    "    part_worth_range = linearRegression.params[item_levels[i-1]:item_levels[i]]\n",
    "    print(part_worth_range)\n",
    "    print('\\n')"
   ]
  },
  {
   "cell_type": "code",
   "execution_count": 31,
   "metadata": {
    "jupyter": {
     "outputs_hidden": false
    }
   },
   "outputs": [
    {
     "name": "stdout",
     "output_type": "stream",
     "text": [
      "[3.5, 9.5, 15.5, 8.0, 11.0, 9.5, 10.5, 8.5]\n",
      "Utility 9.5\n"
     ]
    },
    {
     "data": {
      "text/plain": [
       "{'32\" (81cm)': -6.0,\n",
       " '37\" (94cm)': 0.0,\n",
       " '42\" (107cm)': 6.0,\n",
       " 'Plasma': -1.5,\n",
       " 'LCD': 1.5,\n",
       " 'Silver': 0.0,\n",
       " 'Black': 1.0,\n",
       " 'Anthrazit': -1.0}"
      ]
     },
     "execution_count": 31,
     "metadata": {},
     "output_type": "execute_result"
    }
   ],
   "source": [
    "\n",
    "meanRank = []\n",
    "for i in ConjointDummyDF.columns[1:]:\n",
    "    newmeanRank = ConjointDummyDF[\"Rank\"].loc[ConjointDummyDF[i] == 1].mean()\n",
    "    meanRank.append(newmeanRank)\n",
    "print(meanRank)\n",
    "    \n",
    "# расчет \"базовой полезности\" (utility) | в примере \"Максимальная цена\"\n",
    "totalMeanRank = sum(meanRank) / len(meanRank)\n",
    "print('Utility', totalMeanRank)\n",
    "\n",
    "# составные части цены\n",
    "partWorths = {}\n",
    "for i in range(len(meanRank)):\n",
    "    name = fullNames[sorted(fullNames.keys())[i]]\n",
    "    partWorths[name] = meanRank[i] - totalMeanRank\n",
    "partWorths"
   ]
  },
  {
   "cell_type": "markdown",
   "metadata": {},
   "source": [
    "### Результат"
   ]
  },
  {
   "cell_type": "code",
   "execution_count": 32,
   "metadata": {
    "jupyter": {
     "outputs_hidden": false
    }
   },
   "outputs": [
    {
     "name": "stdout",
     "output_type": "stream",
     "text": [
      "Важные параметры для принятия решения:\n",
      "\n",
      "Размер: 44.4 % \n",
      "Тип монитора: 44.4 % \n",
      "Цвет: 11.1 %\n",
      "\n",
      "\n"
     ]
    }
   ],
   "source": [
    "print(\"Важные параметры для принятия решения:\\n\\nРазмер:\",relative_importance[0], \"%\",\\\n",
    "      \"\\nТип монитора:\", relative_importance[1], \"%\", \\\n",
    "      \"\\nЦвет:\", relative_importance[2], \"%\\n\\n\")"
   ]
  },
  {
   "cell_type": "markdown",
   "metadata": {},
   "source": [
    "Какой будет оптимальная цена для продукта с параметрами:\n",
    "\n",
    "- 42\", LCD, Black"
   ]
  },
  {
   "cell_type": "code",
   "execution_count": 34,
   "metadata": {
    "jupyter": {
     "outputs_hidden": false
    }
   },
   "outputs": [
    {
     "name": "stdout",
     "output_type": "stream",
     "text": [
      "Данная комбинация стимулов получит максимальну оценку: 18.0\n"
     ]
    }
   ],
   "source": [
    "#const\t32\" (81cm)\t37\" (94cm)\t42\" (107cm)\tPlasma\tLCD\tSilver\tBlack\tAnthrazit\n",
    "\n",
    "const = 1\n",
    "d32 = 0\n",
    "d37 = 0\n",
    "d42 = 1\n",
    "plasma =0\n",
    "lcd = 1\n",
    "silver =0\n",
    "black =1\n",
    "anthrazit =0\n",
    "\n",
    "optBundle = [const, d32, d37, d42, plasma, lcd, silver, black, anthrazit]\n",
    "print(\"Данная комбинация стимулов получит максимальну оценку:\", linearRegression.predict(optBundle)[0])"
   ]
  },
  {
   "cell_type": "markdown",
   "metadata": {},
   "source": [
    "Расчет допольнительные средств, которые принесет данная цена"
   ]
  },
  {
   "cell_type": "code",
   "execution_count": 35,
   "metadata": {
    "jupyter": {
     "outputs_hidden": false
    }
   },
   "outputs": [
    {
     "name": "stdout",
     "output_type": "stream",
     "text": [
      "На данной комбинации мы получим  8.5 дополнительных 'средств' к товару\n"
     ]
    }
   ],
   "source": [
    "#расчет на том же наборе\n",
    "\n",
    "optimalWorth = partWorths[\"42\\\" (107cm)\"] + partWorths[\"LCD\"] + partWorths[\"Black\"]\n",
    "\n",
    "print(\"На данной комбинации мы получим \", optimalWorth, \"дополнительных 'средств' к товару\")"
   ]
  },
  {
   "cell_type": "code",
   "execution_count": null,
   "metadata": {},
   "outputs": [],
   "source": []
  }
 ],
 "metadata": {
  "kernelspec": {
   "display_name": "Python 3",
   "language": "python",
   "name": "python3"
  },
  "language_info": {
   "codemirror_mode": {
    "name": "ipython",
    "version": 3
   },
   "file_extension": ".py",
   "mimetype": "text/x-python",
   "name": "python",
   "nbconvert_exporter": "python",
   "pygments_lexer": "ipython3",
   "version": "3.8.8"
  }
 },
 "nbformat": 4,
 "nbformat_minor": 4
}

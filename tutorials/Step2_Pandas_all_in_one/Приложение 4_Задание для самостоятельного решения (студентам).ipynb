{
 "cells": [
  {
   "cell_type": "markdown",
   "metadata": {},
   "source": [
    "## Подготовка данных в pandas"
   ]
  },
  {
   "cell_type": "code",
   "execution_count": 1,
   "metadata": {},
   "outputs": [],
   "source": [
    "# отключаем предупреждения\n",
    "import warnings\n",
    "warnings.filterwarnings('ignore')\n",
    "\n",
    "# импортируем необходимые библиотеки\n",
    "import numpy as np\n",
    "import pandas as pd\n",
    "import matplotlib.pyplot as plt\n",
    "%matplotlib inline\n",
    "plt.rc('font', family='Verdana')"
   ]
  },
  {
   "cell_type": "code",
   "execution_count": 2,
   "metadata": {},
   "outputs": [],
   "source": [
    "# записываем CSV-файл в объект DataFrame\n",
    "data = pd.read_csv('Data/Churn_logreg.csv', encoding='cp1251', sep=';')"
   ]
  },
  {
   "cell_type": "code",
   "execution_count": 1,
   "metadata": {
    "scrolled": true
   },
   "outputs": [],
   "source": [
    "# выводим первые 5 наблюдений датафрейма"
   ]
  },
  {
   "cell_type": "code",
   "execution_count": 2,
   "metadata": {},
   "outputs": [],
   "source": [
    "# смотрим типы переменных"
   ]
  },
  {
   "cell_type": "code",
   "execution_count": 3,
   "metadata": {
    "scrolled": false
   },
   "outputs": [],
   "source": [
    "# заменяем запятые на точки и преобразуем в тип float"
   ]
  },
  {
   "cell_type": "code",
   "execution_count": 4,
   "metadata": {
    "scrolled": true
   },
   "outputs": [],
   "source": [
    "# смотрим типы переменных"
   ]
  },
  {
   "cell_type": "code",
   "execution_count": 5,
   "metadata": {
    "scrolled": true
   },
   "outputs": [],
   "source": [
    "# смотрим статистики для количественных переменных"
   ]
  },
  {
   "cell_type": "code",
   "execution_count": 6,
   "metadata": {},
   "outputs": [],
   "source": [
    "# смотрим статистики для категориальных переменных,\n",
    "# кроме зависимой переменной churn, создав список\n",
    "# категориальных переменных"
   ]
  },
  {
   "cell_type": "code",
   "execution_count": 7,
   "metadata": {},
   "outputs": [],
   "source": [
    "# смотрим уникальные значения\n",
    "# категориальных переменных"
   ]
  },
  {
   "cell_type": "code",
   "execution_count": 8,
   "metadata": {
    "scrolled": true
   },
   "outputs": [],
   "source": [
    "# смотрим частоты категорий для\n",
    "# категориальных переменных"
   ]
  },
  {
   "cell_type": "code",
   "execution_count": 11,
   "metadata": {},
   "outputs": [
    {
     "name": "stdout",
     "output_type": "stream",
     "text": [
      "Женский    2244\n",
      "Мужской    2186\n",
      "NaN           1\n",
      "Name: gender, dtype: int64\n",
      "Женат       2625\n",
      "Одинокий    1802\n",
      "NaN            4\n",
      "Name: marital, dtype: int64\n"
     ]
    }
   ],
   "source": [
    "# удяляем лишние символы в категориях переменных\n",
    "# gender и marital\n",
    "\n",
    "# смотрим результаты"
   ]
  },
  {
   "cell_type": "code",
   "execution_count": 12,
   "metadata": {},
   "outputs": [],
   "source": [
    "# пишем функцию, создающую парные взаимодействия\n",
    "def make_conj(df, feature1, feature2):\n",
    "    ###"
   ]
  },
  {
   "cell_type": "code",
   "execution_count": 13,
   "metadata": {},
   "outputs": [],
   "source": [
    "# применяем функцию\n",
    "make_conj(data, 'gender', 'marital')"
   ]
  },
  {
   "cell_type": "code",
   "execution_count": 14,
   "metadata": {},
   "outputs": [
    {
     "data": {
      "text/plain": [
       "CC      2563\n",
       "CH       977\n",
       "Auto     889\n",
       "NaN        2\n",
       "Name: pay, dtype: int64"
      ]
     },
     "execution_count": 14,
     "metadata": {},
     "output_type": "execute_result"
    }
   ],
   "source": [
    "# заменяем редкую категорию модой\n",
    "data\n",
    "data['pay'].value_counts(dropna = False)"
   ]
  },
  {
   "cell_type": "code",
   "execution_count": 15,
   "metadata": {},
   "outputs": [],
   "source": [
    "# поделим возраст на длительность междугородних звонков в минутах\n",
    "\n",
    "# заменяем бесконечные значения на 1\n"
   ]
  },
  {
   "cell_type": "code",
   "execution_count": 16,
   "metadata": {},
   "outputs": [],
   "source": [
    "# поделим длительность междугородних звонков в минутах на\n",
    "# длительность международных звонков в минутах\n",
    "\n",
    "# заменяем бесконечные значения на 0\n"
   ]
  },
  {
   "cell_type": "code",
   "execution_count": 17,
   "metadata": {},
   "outputs": [],
   "source": [
    "# поделим доход на возраст\n",
    "\n",
    "# заменяем бесконечные значения на 0\n"
   ]
  },
  {
   "cell_type": "code",
   "execution_count": 18,
   "metadata": {},
   "outputs": [],
   "source": [
    "# поделим возраст на количество детей\n",
    "\n",
    "# заменяем бесконечные значения на 0\n"
   ]
  },
  {
   "cell_type": "code",
   "execution_count": 19,
   "metadata": {},
   "outputs": [],
   "source": [
    "# разбиваем данные на обучающую и контрольную выборки\n"
   ]
  },
  {
   "cell_type": "code",
   "execution_count": 20,
   "metadata": {},
   "outputs": [
    {
     "data": {
      "text/plain": [
       "longdist            1\n",
       "internat            4\n",
       "local               2\n",
       "int_disc            0\n",
       "billtype            4\n",
       "pay                 2\n",
       "age                 2\n",
       "gender              1\n",
       "marital             3\n",
       "children            1\n",
       "income              1\n",
       "churn               0\n",
       "gender_marital      3\n",
       "ratio               3\n",
       "ratio2            336\n",
       "ratio3              2\n",
       "ratio4              2\n",
       "dtype: int64"
      ]
     },
     "execution_count": 20,
     "metadata": {},
     "output_type": "execute_result"
    }
   ],
   "source": [
    "# выводим информацию о количестве пропусков\n",
    "# по каждой переменной в обучающей выборке\n"
   ]
  },
  {
   "cell_type": "code",
   "execution_count": 21,
   "metadata": {
    "scrolled": true
   },
   "outputs": [
    {
     "data": {
      "text/plain": [
       "longdist            0\n",
       "internat            0\n",
       "local               1\n",
       "int_disc            1\n",
       "billtype            0\n",
       "pay                 0\n",
       "age                 1\n",
       "gender              0\n",
       "marital             1\n",
       "children            0\n",
       "income              0\n",
       "churn               0\n",
       "gender_marital      1\n",
       "ratio               1\n",
       "ratio2            161\n",
       "ratio3              1\n",
       "ratio4              1\n",
       "dtype: int64"
      ]
     },
     "execution_count": 21,
     "metadata": {},
     "output_type": "execute_result"
    }
   ],
   "source": [
    "# выводим информацию о количестве пропусков\n",
    "# по каждой переменной в контрольной выборке\n"
   ]
  },
  {
   "cell_type": "code",
   "execution_count": 22,
   "metadata": {},
   "outputs": [],
   "source": [
    "# заменяем пропуски в количественных переменных средним, создав\n",
    "# список количественных переменных для работы с циклом\n"
   ]
  },
  {
   "cell_type": "code",
   "execution_count": 23,
   "metadata": {},
   "outputs": [
    {
     "name": "stdout",
     "output_type": "stream",
     "text": [
      "Нет    2139\n",
      "Да      963\n",
      "Name: int_disc, dtype: int64\n",
      "Бюджетный     1569\n",
      "Бесплатный    1533\n",
      "Name: billtype, dtype: int64\n",
      "CC      1810\n",
      "CH       688\n",
      "Auto     604\n",
      "Name: pay, dtype: int64\n",
      "Мужской    1553\n",
      "Женский    1549\n",
      "Name: gender, dtype: int64\n",
      "Женат       1821\n",
      "Одинокий    1281\n",
      "Name: marital, dtype: int64\n",
      "Женский + Женат       930\n",
      "Мужской + Женат       891\n",
      "Мужской + Одинокий    660\n",
      "Женский + Одинокий    621\n",
      "Name: gender_marital, dtype: int64\n"
     ]
    }
   ],
   "source": [
    "# заменяем пропуски в категориальных переменных модой, не забываем пересоздать список\n",
    "# категориальных предикторов для работы с циклом, потому что появилась новая переменная\n",
    "# gender_marital и в ней есть пропуски, нуждающиеся в импутации\n",
    "\n",
    "\n",
    "for c in categorical_columns:\n",
    "    print(train[c].value_counts(dropna=False))"
   ]
  },
  {
   "cell_type": "code",
   "execution_count": 9,
   "metadata": {
    "scrolled": true
   },
   "outputs": [],
   "source": [
    "# смотрим пропуски\n"
   ]
  },
  {
   "cell_type": "code",
   "execution_count": 25,
   "metadata": {},
   "outputs": [],
   "source": [
    "# подготавливаем данные перед преобразованием Бокса-Кокса\n",
    "# (данные должны быть положительными)\n"
   ]
  },
  {
   "cell_type": "code",
   "execution_count": 26,
   "metadata": {},
   "outputs": [],
   "source": [
    "# увеличиваем ширину столбцов\n"
   ]
  },
  {
   "cell_type": "code",
   "execution_count": 27,
   "metadata": {},
   "outputs": [],
   "source": [
    "# выполняем преобразование Бокса-Кокса\n"
   ]
  },
  {
   "cell_type": "code",
   "execution_count": 28,
   "metadata": {},
   "outputs": [
    {
     "name": "stdout",
     "output_type": "stream",
     "text": [
      "<class 'pandas.core.frame.DataFrame'>\n",
      "Int64Index: 3102 entries, 2157 to 4105\n",
      "Data columns (total 17 columns):\n",
      "longdist          3102 non-null float64\n",
      "internat          3102 non-null float64\n",
      "local             3102 non-null float64\n",
      "int_disc          3102 non-null object\n",
      "billtype          3102 non-null object\n",
      "pay               3102 non-null object\n",
      "age               3102 non-null float64\n",
      "gender            3102 non-null object\n",
      "marital           3102 non-null object\n",
      "children          3102 non-null float64\n",
      "income            3102 non-null float64\n",
      "churn             3102 non-null object\n",
      "gender_marital    3102 non-null object\n",
      "ratio             3102 non-null float64\n",
      "ratio2            3102 non-null float64\n",
      "ratio3            3102 non-null float64\n",
      "ratio4            3102 non-null float64\n",
      "dtypes: float64(10), object(7)\n",
      "memory usage: 436.2+ KB\n",
      "None\n",
      "<class 'pandas.core.frame.DataFrame'>\n",
      "Int64Index: 1329 entries, 2 to 4430\n",
      "Data columns (total 17 columns):\n",
      "longdist          1329 non-null float64\n",
      "internat          1329 non-null float64\n",
      "local             1329 non-null float64\n",
      "int_disc          1329 non-null object\n",
      "billtype          1329 non-null object\n",
      "pay               1329 non-null object\n",
      "age               1329 non-null float64\n",
      "gender            1329 non-null object\n",
      "marital           1329 non-null object\n",
      "children          1329 non-null float64\n",
      "income            1329 non-null float64\n",
      "churn             1329 non-null object\n",
      "gender_marital    1329 non-null object\n",
      "ratio             1329 non-null float64\n",
      "ratio2            1329 non-null float64\n",
      "ratio3            1329 non-null float64\n",
      "ratio4            1329 non-null float64\n",
      "dtypes: float64(10), object(7)\n",
      "memory usage: 186.9+ KB\n",
      "None\n"
     ]
    }
   ],
   "source": [
    "# смотрим типы переменных\n",
    "print(train.info())\n",
    "print(test.info())"
   ]
  },
  {
   "cell_type": "code",
   "execution_count": 29,
   "metadata": {
    "scrolled": true
   },
   "outputs": [
    {
     "name": "stdout",
     "output_type": "stream",
     "text": [
      "Исходные переменные:\n",
      " ['longdist', 'internat', 'local', 'int_disc', 'billtype', 'pay', 'age', 'gender', 'marital', 'children', 'income', 'churn', 'gender_marital', 'ratio', 'ratio2', 'ratio3', 'ratio4'] \n",
      "\n",
      "Переменные после get_dummies:\n",
      " ['longdist', 'internat', 'local', 'age', 'children', 'income', 'ratio', 'ratio2', 'ratio3', 'ratio4', 'int_disc_Да', 'int_disc_Нет', 'billtype_Бесплатный', 'billtype_Бюджетный', 'pay_Auto', 'pay_CC', 'pay_CH', 'gender_Женский', 'gender_Мужской', 'marital_Женат', 'marital_Одинокий', 'churn_Остается', 'churn_Уходит', 'gender_marital_Женский + Женат', 'gender_marital_Женский + Одинокий', 'gender_marital_Мужской + Женат', 'gender_marital_Мужской + Одинокий']\n",
      "Исходные переменные:\n",
      " ['longdist', 'internat', 'local', 'int_disc', 'billtype', 'pay', 'age', 'gender', 'marital', 'children', 'income', 'churn', 'gender_marital', 'ratio', 'ratio2', 'ratio3', 'ratio4'] \n",
      "\n",
      "Переменные после get_dummies:\n",
      " ['longdist', 'internat', 'local', 'age', 'children', 'income', 'ratio', 'ratio2', 'ratio3', 'ratio4', 'int_disc_Да', 'int_disc_Нет', 'billtype_Бесплатный', 'billtype_Бюджетный', 'pay_Auto', 'pay_CC', 'pay_CH', 'gender_Женский', 'gender_Мужской', 'marital_Женат', 'marital_Одинокий', 'churn_Остается', 'churn_Уходит', 'gender_marital_Женский + Женат', 'gender_marital_Женский + Одинокий', 'gender_marital_Мужской + Женат', 'gender_marital_Мужской + Одинокий']\n"
     ]
    }
   ],
   "source": [
    "# печатаем названия столбцов до и после\n",
    "# дамми-кодирования\n",
    "print('Исходные переменные:\\n', list(train.columns), '\\n')\n",
    "train_dummies = pd.get_dummies(train)\n",
    "print('Переменные после get_dummies:\\n', list(train_dummies.columns))\n",
    "\n",
    "print('Исходные переменные:\\n', list(test.columns), '\\n')\n",
    "test_dummies = pd.get_dummies(test)\n",
    "print('Переменные после get_dummies:\\n', list(test_dummies.columns))"
   ]
  },
  {
   "cell_type": "code",
   "execution_count": 30,
   "metadata": {
    "scrolled": true
   },
   "outputs": [],
   "source": [
    "# создаем обучающий и контрольный массивы меток\n",
    "y_train = train_dummies.loc[:, 'churn_Уходит']\n",
    "y_test = test_dummies.loc[:, 'churn_Уходит']\n",
    "# создаем обучающий и контрольный массивы признаков\n",
    "train_dummies.drop(['churn_Остается', 'churn_Уходит'], axis=1, inplace=True)\n",
    "test_dummies.drop(['churn_Остается', 'churn_Уходит'], axis=1, inplace=True)\n",
    "X_train = train_dummies.loc[:, 'longdist':'gender_marital_Мужской + Одинокий']\n",
    "X_test = test_dummies.loc[:, 'longdist':'gender_marital_Мужской + Одинокий']"
   ]
  },
  {
   "cell_type": "code",
   "execution_count": 31,
   "metadata": {},
   "outputs": [],
   "source": [
    "# применяем RobustScaler\n",
    "from sklearn.preprocessing import RobustScaler\n",
    "scaler = RobustScaler()\n",
    "scaler.fit(X_train)\n",
    "X_train_scaled = scaler.transform(X_train)\n",
    "X_test_scaled = scaler.transform(X_test)"
   ]
  },
  {
   "cell_type": "markdown",
   "metadata": {},
   "source": [
    "## Построение модели логистической регрессии с помощью класса LogisticRegression"
   ]
  },
  {
   "cell_type": "code",
   "execution_count": 32,
   "metadata": {},
   "outputs": [
    {
     "name": "stdout",
     "output_type": "stream",
     "text": [
      "Правильность на обучающей выборке: 0.810\n",
      "Правильность на контрольной выборке: 0.808\n"
     ]
    }
   ],
   "source": [
    "# импортируем класс LogisticRegression\n",
    "from sklearn.linear_model import LogisticRegression\n",
    "# создаем экземпляр класса LogisticRegression (по сути\n",
    "# задаем настройки панели)\n",
    "logreg = LogisticRegression().fit(X_train_scaled, y_train)\n",
    "# печатаем значения правильности\n",
    "print('Правильность на обучающей выборке: {:.3f}'.format(logreg.score(X_train_scaled, y_train)))\n",
    "print('Правильность на контрольной выборке: {:.3f}'.format(logreg.score(X_test_scaled, y_test)))"
   ]
  },
  {
   "cell_type": "code",
   "execution_count": 33,
   "metadata": {},
   "outputs": [
    {
     "name": "stdout",
     "output_type": "stream",
     "text": [
      "AUC на обучающей выборке: 0.885\n",
      "AUC на контрольной выборке: 0.888\n"
     ]
    }
   ],
   "source": [
    "# импортируем функцию roc_auc_score для вычисления AUC\n",
    "from sklearn.metrics import roc_auc_score\n",
    "print('AUC на обучающей выборке: {:.3f}'.\n",
    "      format(roc_auc_score(y_train, logreg.predict_proba(X_train_scaled)[:, 1])))\n",
    "print('AUC на контрольной выборке: {:.3f}'.\n",
    "      format(roc_auc_score(y_test, logreg.predict_proba(X_test_scaled)[:, 1])))"
   ]
  },
  {
   "cell_type": "code",
   "execution_count": 34,
   "metadata": {},
   "outputs": [],
   "source": [
    "# пишем функцию, выполняющую биннинг\n",
    "def user_bin(train, number):\n",
    "    tv = 'churn'\n",
    "    col_list = []  \n",
    "    iv_list = []\n",
    "    bins_list = [] \n",
    "    groups_list = []      \n",
    "    a= 0.01  \n",
    "    for var_name in train: \n",
    "        # используем для биннинга переменные с более чем 24 уникальными значениями \n",
    "        if(len(train[var_name].unique()) >= 24):\n",
    "            col_list.append(var_name)  \n",
    "    print('У нас ' + str(len(col_list)) + ' переменных, пригодных для биннинга')    \n",
    "    for var_name in col_list:  \n",
    "        \n",
    "        # здесь провести процесс биннаризации\n",
    "        # необходимое действие: умножить на 1.0, чтобы преобразовать во float и добавляем \"a=0.01\", чтобы избежать деления на ноль\n",
    "        \n",
    "    result = pd.DataFrame({'Переменная' : col_list, \n",
    "                           'Бины': groups_list, \n",
    "                           'IV' : iv_list,\n",
    "                           'Количество_бинов' : bins_list})    \n",
    "    return(result.sort_values(by = 'IV', ascending = False))"
   ]
  },
  {
   "cell_type": "code",
   "execution_count": 35,
   "metadata": {
    "scrolled": false
   },
   "outputs": [
    {
     "name": "stdout",
     "output_type": "stream",
     "text": [
      "У нас 9 переменных, пригодных для биннинга\n"
     ]
    },
    {
     "data": {
      "text/html": [
       "<div>\n",
       "<style scoped>\n",
       "    .dataframe tbody tr th:only-of-type {\n",
       "        vertical-align: middle;\n",
       "    }\n",
       "\n",
       "    .dataframe tbody tr th {\n",
       "        vertical-align: top;\n",
       "    }\n",
       "\n",
       "    .dataframe thead th {\n",
       "        text-align: right;\n",
       "    }\n",
       "</style>\n",
       "<table border=\"1\" class=\"dataframe\">\n",
       "  <thead>\n",
       "    <tr style=\"text-align: right;\">\n",
       "      <th></th>\n",
       "      <th>Переменная</th>\n",
       "      <th>Бины</th>\n",
       "      <th>IV</th>\n",
       "      <th>Количество_бинов</th>\n",
       "    </tr>\n",
       "  </thead>\n",
       "  <tbody>\n",
       "    <tr>\n",
       "      <th>6</th>\n",
       "      <td>ratio2</td>\n",
       "      <td>[-9.01, -7.81, -6.61, -5.41, -4.2, -3.0, -1.8, -0.6, 0.61, 1.81]</td>\n",
       "      <td>0.756717</td>\n",
       "      <td>10</td>\n",
       "    </tr>\n",
       "    <tr>\n",
       "      <th>0</th>\n",
       "      <td>longdist</td>\n",
       "      <td>[-1.46, -0.06, 1.35, 2.75, 4.16, 5.56, 6.97, 8.37, 9.77, 11.18]</td>\n",
       "      <td>0.433322</td>\n",
       "      <td>10</td>\n",
       "    </tr>\n",
       "    <tr>\n",
       "      <th>1</th>\n",
       "      <td>internat</td>\n",
       "      <td>[-13.08, -11.46, -9.84, -8.22, -6.6, -4.98, -3.35, -1.73, -0.11, 1.51]</td>\n",
       "      <td>0.375355</td>\n",
       "      <td>10</td>\n",
       "    </tr>\n",
       "    <tr>\n",
       "      <th>5</th>\n",
       "      <td>ratio</td>\n",
       "      <td>[-0.49, -0.14, 0.21, 0.56, 0.9, 1.25, 1.6, 1.95, 2.3, 2.64]</td>\n",
       "      <td>0.308490</td>\n",
       "      <td>10</td>\n",
       "    </tr>\n",
       "    <tr>\n",
       "      <th>2</th>\n",
       "      <td>local</td>\n",
       "      <td>[-2.16, -0.42, 1.32, 3.06, 4.8, 6.54, 8.28, 10.02, 11.76, 13.5]</td>\n",
       "      <td>0.230167</td>\n",
       "      <td>10</td>\n",
       "    </tr>\n",
       "    <tr>\n",
       "      <th>3</th>\n",
       "      <td>age</td>\n",
       "      <td>[11.4, 15.41, 19.42, 23.43, 27.44, 31.45, 35.46, 39.47, 43.48, 47.49]</td>\n",
       "      <td>0.119664</td>\n",
       "      <td>10</td>\n",
       "    </tr>\n",
       "    <tr>\n",
       "      <th>7</th>\n",
       "      <td>ratio3</td>\n",
       "      <td>[1.25, 7.19, 13.13, 19.06, 25.0, 30.94, 36.87, 42.81, 48.75, 54.68]</td>\n",
       "      <td>0.067524</td>\n",
       "      <td>10</td>\n",
       "    </tr>\n",
       "    <tr>\n",
       "      <th>8</th>\n",
       "      <td>ratio4</td>\n",
       "      <td>[-0.64, 0.38, 1.4, 2.42, 3.44, 4.46, 5.47, 6.49, 7.51, 8.53]</td>\n",
       "      <td>0.033225</td>\n",
       "      <td>10</td>\n",
       "    </tr>\n",
       "    <tr>\n",
       "      <th>4</th>\n",
       "      <td>income</td>\n",
       "      <td>[40.64, 695.07, 1349.49, 2003.91, 2658.33, 3312.76, 3967.18, 4621.6, 5276.02, 5930.45]</td>\n",
       "      <td>0.021932</td>\n",
       "      <td>10</td>\n",
       "    </tr>\n",
       "  </tbody>\n",
       "</table>\n",
       "</div>"
      ],
      "text/plain": [
       "  Переменная  \\\n",
       "6     ratio2   \n",
       "0   longdist   \n",
       "1   internat   \n",
       "5      ratio   \n",
       "2      local   \n",
       "3        age   \n",
       "7     ratio3   \n",
       "8     ratio4   \n",
       "4     income   \n",
       "\n",
       "                                                                                     Бины  \\\n",
       "6                        [-9.01, -7.81, -6.61, -5.41, -4.2, -3.0, -1.8, -0.6, 0.61, 1.81]   \n",
       "0                         [-1.46, -0.06, 1.35, 2.75, 4.16, 5.56, 6.97, 8.37, 9.77, 11.18]   \n",
       "1                  [-13.08, -11.46, -9.84, -8.22, -6.6, -4.98, -3.35, -1.73, -0.11, 1.51]   \n",
       "5                             [-0.49, -0.14, 0.21, 0.56, 0.9, 1.25, 1.6, 1.95, 2.3, 2.64]   \n",
       "2                         [-2.16, -0.42, 1.32, 3.06, 4.8, 6.54, 8.28, 10.02, 11.76, 13.5]   \n",
       "3                   [11.4, 15.41, 19.42, 23.43, 27.44, 31.45, 35.46, 39.47, 43.48, 47.49]   \n",
       "7                     [1.25, 7.19, 13.13, 19.06, 25.0, 30.94, 36.87, 42.81, 48.75, 54.68]   \n",
       "8                            [-0.64, 0.38, 1.4, 2.42, 3.44, 4.46, 5.47, 6.49, 7.51, 8.53]   \n",
       "4  [40.64, 695.07, 1349.49, 2003.91, 2658.33, 3312.76, 3967.18, 4621.6, 5276.02, 5930.45]   \n",
       "\n",
       "         IV  Количество_бинов  \n",
       "6  0.756717                10  \n",
       "0  0.433322                10  \n",
       "1  0.375355                10  \n",
       "5  0.308490                10  \n",
       "2  0.230167                10  \n",
       "3  0.119664                10  \n",
       "7  0.067524                10  \n",
       "8  0.033225                10  \n",
       "4  0.021932                10  "
      ]
     },
     "execution_count": 35,
     "metadata": {},
     "output_type": "execute_result"
    }
   ],
   "source": [
    "# применяем функцию, бьем каждую переменную,\n",
    "# пригодную для биннинга, на 10 категорий\n",
    "user_bin(train, 10)"
   ]
  },
  {
   "cell_type": "code",
   "execution_count": 36,
   "metadata": {},
   "outputs": [],
   "source": [
    "# создадим бины для переменной longdist\n",
    "bins = [-np.inf, -0.06, 1.35, 2.75, 4.16, 5.56, 6.97, 8.37, 9.77, np.inf]\n",
    "# выполняем биннинг переменной longdist\n",
    "train['longdistcat'] = pd.cut(train['longdist'], bins).astype('object')\n",
    "test['longdistcat'] = pd.cut(test['longdist'], bins).astype('object')"
   ]
  },
  {
   "cell_type": "code",
   "execution_count": 37,
   "metadata": {},
   "outputs": [
    {
     "data": {
      "text/plain": [
       "(9.77, inf]      510\n",
       "(8.37, 9.77]     481\n",
       "(-inf, -0.06]    420\n",
       "(5.56, 6.97]     408\n",
       "(6.97, 8.37]     398\n",
       "(4.16, 5.56]     286\n",
       "(2.75, 4.16]     254\n",
       "(1.35, 2.75]     190\n",
       "(-0.06, 1.35]    155\n",
       "Name: longdistcat, dtype: int64"
      ]
     },
     "execution_count": 37,
     "metadata": {},
     "output_type": "execute_result"
    }
   ],
   "source": [
    "# выведем частоты категорий новой \n",
    "# переменной longdistcat\n",
    "train['longdistcat'].value_counts()"
   ]
  },
  {
   "cell_type": "markdown",
   "metadata": {},
   "source": [
    "Обратите внимание на квадратные и круглые скобки интервалов. Интервал закрывается либо слева, либо справа, то есть соответствующий конец включается в данный интервал. Согласно принятой в математике нотации интервалов круглая скобка означает, что соответствующий конец не включается (открыт), а квадратная – что включается (закрыт). В данном случае интервалы открыты слева и закрыты справа. Первый интервал (-inf, -0.06] содержит наблюдения со значениями переменной от наименьшего до -0.06 включительно, второй интервал (-0.06, 1.35] содержит наблюдения, в которых значение переменной больше -0.06, но при этом меньше или равно 1.35, и так далее."
   ]
  },
  {
   "cell_type": "code",
   "execution_count": 38,
   "metadata": {},
   "outputs": [],
   "source": [
    "# выполняем биннинг переменной age\n",
    "bins = [-np.inf, 15, 19, 23, 27, 32, 36, 40, 44, np.inf]\n",
    "train['agecat'] = pd.cut(train['age'], bins).astype('object')\n",
    "test['agecat'] = pd.cut(test['age'], bins).astype('object')"
   ]
  },
  {
   "cell_type": "code",
   "execution_count": 39,
   "metadata": {
    "scrolled": true
   },
   "outputs": [
    {
     "name": "stdout",
     "output_type": "stream",
     "text": [
      "Исходные переменные:\n",
      " ['longdist', 'internat', 'local', 'int_disc', 'billtype', 'pay', 'age', 'gender', 'marital', 'children', 'income', 'churn', 'gender_marital', 'ratio', 'ratio2', 'ratio3', 'ratio4', 'longdistcat', 'agecat'] \n",
      "\n",
      "Переменные после get_dummies:\n",
      " ['longdist', 'internat', 'local', 'age', 'children', 'income', 'ratio', 'ratio2', 'ratio3', 'ratio4', 'int_disc_Да', 'int_disc_Нет', 'billtype_Бесплатный', 'billtype_Бюджетный', 'pay_Auto', 'pay_CC', 'pay_CH', 'gender_Женский', 'gender_Мужской', 'marital_Женат', 'marital_Одинокий', 'churn_Остается', 'churn_Уходит', 'gender_marital_Женский + Женат', 'gender_marital_Женский + Одинокий', 'gender_marital_Мужской + Женат', 'gender_marital_Мужской + Одинокий', 'longdistcat_(-inf, -0.06]', 'longdistcat_(-0.06, 1.35]', 'longdistcat_(1.35, 2.75]', 'longdistcat_(2.75, 4.16]', 'longdistcat_(4.16, 5.56]', 'longdistcat_(5.56, 6.97]', 'longdistcat_(6.97, 8.37]', 'longdistcat_(8.37, 9.77]', 'longdistcat_(9.77, inf]', 'agecat_(-inf, 15.0]', 'agecat_(15.0, 19.0]', 'agecat_(19.0, 23.0]', 'agecat_(23.0, 27.0]', 'agecat_(27.0, 32.0]', 'agecat_(32.0, 36.0]', 'agecat_(36.0, 40.0]', 'agecat_(40.0, 44.0]', 'agecat_(44.0, inf]']\n",
      "Исходные переменные:\n",
      " ['longdist', 'internat', 'local', 'int_disc', 'billtype', 'pay', 'age', 'gender', 'marital', 'children', 'income', 'churn', 'gender_marital', 'ratio', 'ratio2', 'ratio3', 'ratio4', 'longdistcat', 'agecat'] \n",
      "\n",
      "Переменные после get_dummies:\n",
      " ['longdist', 'internat', 'local', 'age', 'children', 'income', 'ratio', 'ratio2', 'ratio3', 'ratio4', 'int_disc_Да', 'int_disc_Нет', 'billtype_Бесплатный', 'billtype_Бюджетный', 'pay_Auto', 'pay_CC', 'pay_CH', 'gender_Женский', 'gender_Мужской', 'marital_Женат', 'marital_Одинокий', 'churn_Остается', 'churn_Уходит', 'gender_marital_Женский + Женат', 'gender_marital_Женский + Одинокий', 'gender_marital_Мужской + Женат', 'gender_marital_Мужской + Одинокий', 'longdistcat_(-inf, -0.06]', 'longdistcat_(-0.06, 1.35]', 'longdistcat_(1.35, 2.75]', 'longdistcat_(2.75, 4.16]', 'longdistcat_(4.16, 5.56]', 'longdistcat_(5.56, 6.97]', 'longdistcat_(6.97, 8.37]', 'longdistcat_(8.37, 9.77]', 'longdistcat_(9.77, inf]', 'agecat_(-inf, 15.0]', 'agecat_(15.0, 19.0]', 'agecat_(19.0, 23.0]', 'agecat_(23.0, 27.0]', 'agecat_(27.0, 32.0]', 'agecat_(32.0, 36.0]', 'agecat_(36.0, 40.0]', 'agecat_(40.0, 44.0]', 'agecat_(44.0, inf]']\n"
     ]
    }
   ],
   "source": [
    "# печатаем названия столбцов до и после\n",
    "# дамми-кодирования\n",
    "print('Исходные переменные:\\n', list(train.columns), '\\n')\n",
    "train_dum = pd.get_dummies(train)\n",
    "print('Переменные после get_dummies:\\n', list(train_dum.columns))\n",
    "\n",
    "print('Исходные переменные:\\n', list(test.columns), '\\n')\n",
    "test_dum = pd.get_dummies(test)\n",
    "print('Переменные после get_dummies:\\n', list(test_dum.columns))"
   ]
  },
  {
   "cell_type": "code",
   "execution_count": 40,
   "metadata": {},
   "outputs": [],
   "source": [
    "# создаем обучающий и контрольный массивы признаков\n",
    "train_dum.drop(['churn_Остается', 'churn_Уходит'], axis=1, inplace=True)\n",
    "test_dum.drop(['churn_Остается', 'churn_Уходит'], axis=1, inplace=True)\n",
    "X_tr = train_dum.loc[:, 'longdist':'agecat_(44.0, inf]']\n",
    "X_tst = test_dum.loc[:, 'longdist':'agecat_(44.0, inf]']"
   ]
  },
  {
   "cell_type": "code",
   "execution_count": 41,
   "metadata": {},
   "outputs": [],
   "source": [
    "# применяем RobustScaler\n",
    "scaler.fit(X_tr)\n",
    "X_train_scaled2 = scaler.transform(X_tr)\n",
    "X_test_scaled2 = scaler.transform(X_tst)"
   ]
  },
  {
   "cell_type": "code",
   "execution_count": 42,
   "metadata": {},
   "outputs": [
    {
     "name": "stdout",
     "output_type": "stream",
     "text": [
      "AUC на обучающей выборке: 0.906\n",
      "AUC на контрольной выборке: 0.902\n"
     ]
    }
   ],
   "source": [
    "# строим логистическую регрессию\n",
    "logreg2 = LogisticRegression().fit(X_train_scaled2, y_train)\n",
    "from sklearn.metrics import roc_auc_score\n",
    "print('AUC на обучающей выборке: {:.3f}'.\n",
    "      format(roc_auc_score(y_train, logreg2.predict_proba(X_train_scaled2)[:, 1])))\n",
    "print('AUC на контрольной выборке: {:.3f}'.\n",
    "      format(roc_auc_score(y_test, logreg2.predict_proba(X_test_scaled2)[:, 1])))"
   ]
  },
  {
   "cell_type": "code",
   "execution_count": 43,
   "metadata": {},
   "outputs": [],
   "source": [
    "# а теперь создадим взаимодействия между исходными категориальными\n",
    "# признаки и переменными, полученными в результате биннинга\n",
    "def make_conj2(df, feature1, feature2):\n",
    "    df[feature1 + \"_\" + feature2] = df[feature1].astype('str') + \" + \" + df[feature2].astype('str')"
   ]
  },
  {
   "cell_type": "code",
   "execution_count": 44,
   "metadata": {},
   "outputs": [],
   "source": [
    "make_conj2(train, 'gender', 'agecat')\n",
    "make_conj2(train, 'gender', 'longdistcat')\n",
    "\n",
    "make_conj2(test, 'gender', 'agecat')\n",
    "make_conj2(test, 'gender', 'longdistcat')"
   ]
  },
  {
   "cell_type": "code",
   "execution_count": 45,
   "metadata": {},
   "outputs": [
    {
     "name": "stdout",
     "output_type": "stream",
     "text": [
      "True\n",
      "True\n"
     ]
    }
   ],
   "source": [
    "# проверяем, совпадает ли количество категорий каждой переменной \n",
    "# в обучающей и контрольной выборке\n",
    "interactions_features = ['gender_longdistcat', 'gender_agecat']\n",
    "for i in interactions_features:\n",
    "    print(train[i].nunique() == test[i].nunique())"
   ]
  },
  {
   "cell_type": "code",
   "execution_count": 46,
   "metadata": {},
   "outputs": [
    {
     "name": "stdout",
     "output_type": "stream",
     "text": [
      "Исходные переменные:\n",
      " ['longdist', 'internat', 'local', 'int_disc', 'billtype', 'pay', 'age', 'gender', 'marital', 'children', 'income', 'churn', 'gender_marital', 'ratio', 'ratio2', 'ratio3', 'ratio4', 'longdistcat', 'agecat', 'gender_agecat', 'gender_longdistcat'] \n",
      "\n",
      "Переменные после get_dummies:\n",
      " ['longdist', 'internat', 'local', 'age', 'children', 'income', 'ratio', 'ratio2', 'ratio3', 'ratio4', 'int_disc_Да', 'int_disc_Нет', 'billtype_Бесплатный', 'billtype_Бюджетный', 'pay_Auto', 'pay_CC', 'pay_CH', 'gender_Женский', 'gender_Мужской', 'marital_Женат', 'marital_Одинокий', 'churn_Остается', 'churn_Уходит', 'gender_marital_Женский + Женат', 'gender_marital_Женский + Одинокий', 'gender_marital_Мужской + Женат', 'gender_marital_Мужской + Одинокий', 'longdistcat_(-inf, -0.06]', 'longdistcat_(-0.06, 1.35]', 'longdistcat_(1.35, 2.75]', 'longdistcat_(2.75, 4.16]', 'longdistcat_(4.16, 5.56]', 'longdistcat_(5.56, 6.97]', 'longdistcat_(6.97, 8.37]', 'longdistcat_(8.37, 9.77]', 'longdistcat_(9.77, inf]', 'agecat_(-inf, 15.0]', 'agecat_(15.0, 19.0]', 'agecat_(19.0, 23.0]', 'agecat_(23.0, 27.0]', 'agecat_(27.0, 32.0]', 'agecat_(32.0, 36.0]', 'agecat_(36.0, 40.0]', 'agecat_(40.0, 44.0]', 'agecat_(44.0, inf]', 'gender_agecat_Женский + (-inf, 15.0]', 'gender_agecat_Женский + (15.0, 19.0]', 'gender_agecat_Женский + (19.0, 23.0]', 'gender_agecat_Женский + (23.0, 27.0]', 'gender_agecat_Женский + (27.0, 32.0]', 'gender_agecat_Женский + (32.0, 36.0]', 'gender_agecat_Женский + (36.0, 40.0]', 'gender_agecat_Женский + (40.0, 44.0]', 'gender_agecat_Женский + (44.0, inf]', 'gender_agecat_Мужской + (-inf, 15.0]', 'gender_agecat_Мужской + (15.0, 19.0]', 'gender_agecat_Мужской + (19.0, 23.0]', 'gender_agecat_Мужской + (23.0, 27.0]', 'gender_agecat_Мужской + (27.0, 32.0]', 'gender_agecat_Мужской + (32.0, 36.0]', 'gender_agecat_Мужской + (36.0, 40.0]', 'gender_agecat_Мужской + (40.0, 44.0]', 'gender_agecat_Мужской + (44.0, inf]', 'gender_longdistcat_Женский + (-0.06, 1.35]', 'gender_longdistcat_Женский + (-inf, -0.06]', 'gender_longdistcat_Женский + (1.35, 2.75]', 'gender_longdistcat_Женский + (2.75, 4.16]', 'gender_longdistcat_Женский + (4.16, 5.56]', 'gender_longdistcat_Женский + (5.56, 6.97]', 'gender_longdistcat_Женский + (6.97, 8.37]', 'gender_longdistcat_Женский + (8.37, 9.77]', 'gender_longdistcat_Женский + (9.77, inf]', 'gender_longdistcat_Мужской + (-0.06, 1.35]', 'gender_longdistcat_Мужской + (-inf, -0.06]', 'gender_longdistcat_Мужской + (1.35, 2.75]', 'gender_longdistcat_Мужской + (2.75, 4.16]', 'gender_longdistcat_Мужской + (4.16, 5.56]', 'gender_longdistcat_Мужской + (5.56, 6.97]', 'gender_longdistcat_Мужской + (6.97, 8.37]', 'gender_longdistcat_Мужской + (8.37, 9.77]', 'gender_longdistcat_Мужской + (9.77, inf]']\n",
      "Исходные переменные:\n",
      " ['longdist', 'internat', 'local', 'int_disc', 'billtype', 'pay', 'age', 'gender', 'marital', 'children', 'income', 'churn', 'gender_marital', 'ratio', 'ratio2', 'ratio3', 'ratio4', 'longdistcat', 'agecat', 'gender_agecat', 'gender_longdistcat'] \n",
      "\n",
      "Переменные после get_dummies:\n",
      " ['longdist', 'internat', 'local', 'age', 'children', 'income', 'ratio', 'ratio2', 'ratio3', 'ratio4', 'int_disc_Да', 'int_disc_Нет', 'billtype_Бесплатный', 'billtype_Бюджетный', 'pay_Auto', 'pay_CC', 'pay_CH', 'gender_Женский', 'gender_Мужской', 'marital_Женат', 'marital_Одинокий', 'churn_Остается', 'churn_Уходит', 'gender_marital_Женский + Женат', 'gender_marital_Женский + Одинокий', 'gender_marital_Мужской + Женат', 'gender_marital_Мужской + Одинокий', 'longdistcat_(-inf, -0.06]', 'longdistcat_(-0.06, 1.35]', 'longdistcat_(1.35, 2.75]', 'longdistcat_(2.75, 4.16]', 'longdistcat_(4.16, 5.56]', 'longdistcat_(5.56, 6.97]', 'longdistcat_(6.97, 8.37]', 'longdistcat_(8.37, 9.77]', 'longdistcat_(9.77, inf]', 'agecat_(-inf, 15.0]', 'agecat_(15.0, 19.0]', 'agecat_(19.0, 23.0]', 'agecat_(23.0, 27.0]', 'agecat_(27.0, 32.0]', 'agecat_(32.0, 36.0]', 'agecat_(36.0, 40.0]', 'agecat_(40.0, 44.0]', 'agecat_(44.0, inf]', 'gender_agecat_Женский + (-inf, 15.0]', 'gender_agecat_Женский + (15.0, 19.0]', 'gender_agecat_Женский + (19.0, 23.0]', 'gender_agecat_Женский + (23.0, 27.0]', 'gender_agecat_Женский + (27.0, 32.0]', 'gender_agecat_Женский + (32.0, 36.0]', 'gender_agecat_Женский + (36.0, 40.0]', 'gender_agecat_Женский + (40.0, 44.0]', 'gender_agecat_Женский + (44.0, inf]', 'gender_agecat_Мужской + (-inf, 15.0]', 'gender_agecat_Мужской + (15.0, 19.0]', 'gender_agecat_Мужской + (19.0, 23.0]', 'gender_agecat_Мужской + (23.0, 27.0]', 'gender_agecat_Мужской + (27.0, 32.0]', 'gender_agecat_Мужской + (32.0, 36.0]', 'gender_agecat_Мужской + (36.0, 40.0]', 'gender_agecat_Мужской + (40.0, 44.0]', 'gender_agecat_Мужской + (44.0, inf]', 'gender_longdistcat_Женский + (-0.06, 1.35]', 'gender_longdistcat_Женский + (-inf, -0.06]', 'gender_longdistcat_Женский + (1.35, 2.75]', 'gender_longdistcat_Женский + (2.75, 4.16]', 'gender_longdistcat_Женский + (4.16, 5.56]', 'gender_longdistcat_Женский + (5.56, 6.97]', 'gender_longdistcat_Женский + (6.97, 8.37]', 'gender_longdistcat_Женский + (8.37, 9.77]', 'gender_longdistcat_Женский + (9.77, inf]', 'gender_longdistcat_Мужской + (-0.06, 1.35]', 'gender_longdistcat_Мужской + (-inf, -0.06]', 'gender_longdistcat_Мужской + (1.35, 2.75]', 'gender_longdistcat_Мужской + (2.75, 4.16]', 'gender_longdistcat_Мужской + (4.16, 5.56]', 'gender_longdistcat_Мужской + (5.56, 6.97]', 'gender_longdistcat_Мужской + (6.97, 8.37]', 'gender_longdistcat_Мужской + (8.37, 9.77]', 'gender_longdistcat_Мужской + (9.77, inf]']\n"
     ]
    }
   ],
   "source": [
    "# печатаем названия столбцов до и после\n",
    "# дамми-кодирования\n",
    "print('Исходные переменные:\\n', list(train.columns), '\\n')\n",
    "train_dum2 = pd.get_dummies(train)\n",
    "print('Переменные после get_dummies:\\n', list(train_dum2.columns))\n",
    "\n",
    "print('Исходные переменные:\\n', list(test.columns), '\\n')\n",
    "test_dum2 = pd.get_dummies(test)\n",
    "print('Переменные после get_dummies:\\n', list(test_dum2.columns))"
   ]
  },
  {
   "cell_type": "code",
   "execution_count": 47,
   "metadata": {},
   "outputs": [],
   "source": [
    "# создаем обучающий и контрольный массивы признаков\n",
    "train_dum2.drop(['churn_Остается', 'churn_Уходит'], axis=1, inplace=True)\n",
    "test_dum2.drop(['churn_Остается', 'churn_Уходит'], axis=1, inplace=True)\n",
    "X_tr2 = train_dum2.loc[:, 'longdist':'gender_longdistcat_Мужской + (9.77, inf]']\n",
    "X_tst2 = test_dum2.loc[:, 'longdist':'gender_longdistcat_Мужской + (9.77, inf]']"
   ]
  },
  {
   "cell_type": "code",
   "execution_count": 48,
   "metadata": {},
   "outputs": [],
   "source": [
    "# применяем RobustScaler\n",
    "scaler.fit(X_tr2)\n",
    "X_train_scaled3 = scaler.transform(X_tr2)\n",
    "X_test_scaled3 = scaler.transform(X_tst2)"
   ]
  },
  {
   "cell_type": "code",
   "execution_count": 49,
   "metadata": {},
   "outputs": [
    {
     "name": "stdout",
     "output_type": "stream",
     "text": [
      "AUC на обучающей выборке: 0.924\n",
      "AUC на контрольной выборке: 0.917\n"
     ]
    }
   ],
   "source": [
    "# строим логистическую регрессию\n",
    "logreg3 = LogisticRegression().fit(X_train_scaled3, y_train)\n",
    "from sklearn.metrics import roc_auc_score\n",
    "print('AUC на обучающей выборке: {:.3f}'.\n",
    "      format(roc_auc_score(y_train, logreg3.predict_proba(X_train_scaled3)[:, 1])))\n",
    "print('AUC на контрольной выборке: {:.3f}'.\n",
    "      format(roc_auc_score(y_test, logreg3.predict_proba(X_test_scaled3)[:, 1])))"
   ]
  },
  {
   "cell_type": "code",
   "execution_count": 50,
   "metadata": {},
   "outputs": [],
   "source": [
    "# взглянем на коэффициенты логистической регрессии\n",
    "# запишем коэффициенты и названия предикторов\n",
    "# в отдельные объекты\n",
    "coef = logreg3.coef_\n",
    "feat_labels = X_tr2.columns"
   ]
  },
  {
   "cell_type": "code",
   "execution_count": 51,
   "metadata": {},
   "outputs": [
    {
     "data": {
      "text/plain": [
       "array([-1.04260259])"
      ]
     },
     "execution_count": 51,
     "metadata": {},
     "output_type": "execute_result"
    }
   ],
   "source": [
    "# вычислим свободный член (константу)\n",
    "intercept = logreg3.intercept_\n",
    "intercept"
   ]
  },
  {
   "cell_type": "code",
   "execution_count": 52,
   "metadata": {},
   "outputs": [
    {
     "data": {
      "text/plain": [
       "-1.04"
      ]
     },
     "execution_count": 52,
     "metadata": {},
     "output_type": "execute_result"
    }
   ],
   "source": [
    "# переводим массив в скаляр\n",
    "intercept = round(np.asscalar(intercept), 2)\n",
    "intercept"
   ]
  },
  {
   "cell_type": "code",
   "execution_count": 53,
   "metadata": {
    "scrolled": false
   },
   "outputs": [
    {
     "name": "stdout",
     "output_type": "stream",
     "text": [
      "Константа: -1.04\n",
      "Коэффициенты:\n",
      "longdist -0.3\n",
      "internat 1.7\n",
      "local -0.02\n",
      "age -0.47\n",
      "children -0.51\n",
      "income 1.09\n",
      "ratio -0.82\n",
      "ratio2 0.25\n",
      "ratio3 -1.36\n",
      "ratio4 0.52\n",
      "int_disc_Да -0.03\n",
      "int_disc_Нет 0.03\n",
      "billtype_Бесплатный 0.02\n",
      "billtype_Бюджетный -0.02\n",
      "pay_Auto -0.2\n",
      "pay_CC 0.08\n",
      "pay_CH 0.11\n",
      "gender_Женский 0.85\n",
      "gender_Мужской -0.85\n",
      "marital_Женат 0.15\n",
      "marital_Одинокий -0.15\n",
      "gender_marital_Женский + Женат 0.05\n",
      "gender_marital_Женский + Одинокий 0.34\n",
      "gender_marital_Мужской + Женат -0.95\n",
      "gender_marital_Мужской + Одинокий -0.49\n",
      "longdistcat_(-inf, -0.06] 1.28\n",
      "longdistcat_(-0.06, 1.35] 0.11\n",
      "longdistcat_(1.35, 2.75] -0.08\n",
      "longdistcat_(2.75, 4.16] 0.06\n",
      "longdistcat_(4.16, 5.56] -0.16\n",
      "longdistcat_(5.56, 6.97] -0.61\n",
      "longdistcat_(6.97, 8.37] -0.67\n",
      "longdistcat_(8.37, 9.77] -0.44\n",
      "longdistcat_(9.77, inf] -0.54\n",
      "agecat_(-inf, 15.0] 0.48\n",
      "agecat_(15.0, 19.0] -0.03\n",
      "agecat_(19.0, 23.0] -1.28\n",
      "agecat_(23.0, 27.0] 0.21\n",
      "agecat_(27.0, 32.0] 0.04\n",
      "agecat_(32.0, 36.0] -0.22\n",
      "agecat_(36.0, 40.0] -0.17\n",
      "agecat_(40.0, 44.0] -0.09\n",
      "agecat_(44.0, inf] 0.02\n",
      "gender_agecat_Женский + (-inf, 15.0] -0.82\n",
      "gender_agecat_Женский + (15.0, 19.0] -1.46\n",
      "gender_agecat_Женский + (19.0, 23.0] -1.5\n",
      "gender_agecat_Женский + (23.0, 27.0] 1.36\n",
      "gender_agecat_Женский + (27.0, 32.0] 0.64\n",
      "gender_agecat_Женский + (32.0, 36.0] 0.67\n",
      "gender_agecat_Женский + (36.0, 40.0] 0.79\n",
      "gender_agecat_Женский + (40.0, 44.0] 0.64\n",
      "gender_agecat_Женский + (44.0, inf] 0.53\n",
      "gender_agecat_Мужской + (-inf, 15.0] 1.3\n",
      "gender_agecat_Мужской + (15.0, 19.0] 1.43\n",
      "gender_agecat_Мужской + (19.0, 23.0] 0.23\n",
      "gender_agecat_Мужской + (23.0, 27.0] -1.15\n",
      "gender_agecat_Мужской + (27.0, 32.0] -0.6\n",
      "gender_agecat_Мужской + (32.0, 36.0] -0.89\n",
      "gender_agecat_Мужской + (36.0, 40.0] -0.96\n",
      "gender_agecat_Мужской + (40.0, 44.0] -0.73\n",
      "gender_agecat_Мужской + (44.0, inf] -0.51\n",
      "gender_longdistcat_Женский + (-0.06, 1.35] 0.4\n",
      "gender_longdistcat_Женский + (-inf, -0.06] 0.59\n",
      "gender_longdistcat_Женский + (1.35, 2.75] -0.05\n",
      "gender_longdistcat_Женский + (2.75, 4.16] 0.3\n",
      "gender_longdistcat_Женский + (4.16, 5.56] -0.01\n",
      "gender_longdistcat_Женский + (5.56, 6.97] -0.26\n",
      "gender_longdistcat_Женский + (6.97, 8.37] 0.02\n",
      "gender_longdistcat_Женский + (8.37, 9.77] -0.1\n",
      "gender_longdistcat_Женский + (9.77, inf] -0.04\n",
      "gender_longdistcat_Мужской + (-0.06, 1.35] -0.29\n",
      "gender_longdistcat_Мужской + (-inf, -0.06] 0.69\n",
      "gender_longdistcat_Мужской + (1.35, 2.75] -0.03\n",
      "gender_longdistcat_Мужской + (2.75, 4.16] -0.24\n",
      "gender_longdistcat_Мужской + (4.16, 5.56] -0.16\n",
      "gender_longdistcat_Мужской + (5.56, 6.97] -0.35\n",
      "gender_longdistcat_Мужской + (6.97, 8.37] -0.68\n",
      "gender_longdistcat_Мужской + (8.37, 9.77] -0.35\n",
      "gender_longdistcat_Мужской + (9.77, inf] -0.5\n"
     ]
    }
   ],
   "source": [
    "# печатаем название \"Константа\"    \n",
    "print('Константа:', intercept)\n",
    "# печатаем название \"Коэффициенты\"\n",
    "print('Коэффициенты:')\n",
    "# для удобства сопоставим каждому названию \n",
    "# предиктора соответствующий коэффициент\n",
    "for c, feature in zip(coef[0], feat_labels):\n",
    "    print(feature, round(c, 2))"
   ]
  }
 ],
 "metadata": {
  "kernelspec": {
   "display_name": "Python 3",
   "language": "python",
   "name": "python3"
  },
  "language_info": {
   "codemirror_mode": {
    "name": "ipython",
    "version": 3
   },
   "file_extension": ".py",
   "mimetype": "text/x-python",
   "name": "python",
   "nbconvert_exporter": "python",
   "pygments_lexer": "ipython3",
   "version": "3.7.3"
  }
 },
 "nbformat": 4,
 "nbformat_minor": 2
}
